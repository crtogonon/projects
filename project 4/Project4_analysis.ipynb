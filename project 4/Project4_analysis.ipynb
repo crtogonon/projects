{
 "cells": [
  {
   "cell_type": "markdown",
   "metadata": {},
   "source": [
    "# Project 4 - Web Scraping & Logistic Regression\n",
    "## Analysis Notebook\n",
    "I used this notebook to read in the CSV that I created from my web scrape. Then I cleaned the data and built the models.\n",
    "\n",
    "## Problem statement:\n",
    "I will be working with data that I web scraped from indeed.com for data science job postings. The goal is to clean the data and build logistic regression models to predict whether or not jobs will give an applicant a high salary or not.\n",
    "\n",
    "## Risks and Assumptions:\n",
    "As you will see below, the data scraped from the website is not clean at all. A lot of work will spent on cleaning the data in each column and creating variables to put into the predictive models. Without more domain knowledge, the selection of variables and thresholds may not as accurate as they could be. Also, with such few postings that contain salary information, it may be more difficult to build an accurate model."
   ]
  },
  {
   "cell_type": "markdown",
   "metadata": {},
   "source": [
    "## Cleaning:"
   ]
  },
  {
   "cell_type": "code",
   "execution_count": 1,
   "metadata": {
    "collapsed": true
   },
   "outputs": [],
   "source": [
    "import pandas as pd\n",
    "import numpy as np\n",
    "import seaborn as sns\n",
    "import matplotlib.pyplot as plt"
   ]
  },
  {
   "cell_type": "code",
   "execution_count": 2,
   "metadata": {
    "collapsed": true
   },
   "outputs": [],
   "source": [
    "# Read in CSV\n",
    "df = pd.read_csv('/Users/ct/DSI-NYC-4/projects/project-4-webscraping/project_4_data.csv')"
   ]
  },
  {
   "cell_type": "code",
   "execution_count": 3,
   "metadata": {},
   "outputs": [
    {
     "data": {
      "text/html": [
       "<div>\n",
       "<table border=\"1\" class=\"dataframe\">\n",
       "  <thead>\n",
       "    <tr style=\"text-align: right;\">\n",
       "      <th></th>\n",
       "      <th>Unnamed: 0</th>\n",
       "      <th>JobTitle</th>\n",
       "      <th>Company</th>\n",
       "      <th>Location</th>\n",
       "      <th>Salary</th>\n",
       "      <th>Summary</th>\n",
       "    </tr>\n",
       "  </thead>\n",
       "  <tbody>\n",
       "    <tr>\n",
       "      <th>0</th>\n",
       "      <td>0</td>\n",
       "      <td>\\nSr Data Scientist\\n</td>\n",
       "      <td>\\n\\n\\n        Wells Fargo\\n</td>\n",
       "      <td>Charlotte</td>\n",
       "      <td>NaN</td>\n",
       "      <td>\\nRight now, we are looking for a tenured data...</td>\n",
       "    </tr>\n",
       "    <tr>\n",
       "      <th>1</th>\n",
       "      <td>1</td>\n",
       "      <td>\\nResearch Analyst\\n</td>\n",
       "      <td>\\n\\n\\n        Carolinas HealthCare System\\n</td>\n",
       "      <td>Charlotte</td>\n",
       "      <td>NaN</td>\n",
       "      <td>\\nConducts follow up contacts to collect data ...</td>\n",
       "    </tr>\n",
       "    <tr>\n",
       "      <th>2</th>\n",
       "      <td>2</td>\n",
       "      <td>\\nBiostatistics/Bioinformatics Research Scient...</td>\n",
       "      <td>\\n\\n\\n        UNC Charlotte\\n</td>\n",
       "      <td>Charlotte</td>\n",
       "      <td>$60,000 - $80,000 a year</td>\n",
       "      <td>\\nGenetics/genomics data analysis (esp. Enjoy ...</td>\n",
       "    </tr>\n",
       "    <tr>\n",
       "      <th>3</th>\n",
       "      <td>3</td>\n",
       "      <td>\\nDigital Marketing (Data Scientist)\\n</td>\n",
       "      <td>\\n\\n    Kennedy Unlimited Inc, Professional St...</td>\n",
       "      <td>Charlotte</td>\n",
       "      <td>$100,000 - $130,000 a year</td>\n",
       "      <td>\\nResponsibilities of the Digital Marketing (D...</td>\n",
       "    </tr>\n",
       "    <tr>\n",
       "      <th>4</th>\n",
       "      <td>4</td>\n",
       "      <td>\\nSenior Quantitative Finance Analyst\\n</td>\n",
       "      <td>\\n\\n    iiTS\\n</td>\n",
       "      <td>Charlotte</td>\n",
       "      <td>$140,000 a year</td>\n",
       "      <td>\\nAssessing conceptual foundations of a model,...</td>\n",
       "    </tr>\n",
       "  </tbody>\n",
       "</table>\n",
       "</div>"
      ],
      "text/plain": [
       "   Unnamed: 0                                           JobTitle  \\\n",
       "0           0                              \\nSr Data Scientist\\n   \n",
       "1           1                               \\nResearch Analyst\\n   \n",
       "2           2  \\nBiostatistics/Bioinformatics Research Scient...   \n",
       "3           3             \\nDigital Marketing (Data Scientist)\\n   \n",
       "4           4            \\nSenior Quantitative Finance Analyst\\n   \n",
       "\n",
       "                                             Company   Location  \\\n",
       "0                        \\n\\n\\n        Wells Fargo\\n  Charlotte   \n",
       "1        \\n\\n\\n        Carolinas HealthCare System\\n  Charlotte   \n",
       "2                      \\n\\n\\n        UNC Charlotte\\n  Charlotte   \n",
       "3  \\n\\n    Kennedy Unlimited Inc, Professional St...  Charlotte   \n",
       "4                                     \\n\\n    iiTS\\n  Charlotte   \n",
       "\n",
       "                       Salary  \\\n",
       "0                         NaN   \n",
       "1                         NaN   \n",
       "2    $60,000 - $80,000 a year   \n",
       "3  $100,000 - $130,000 a year   \n",
       "4             $140,000 a year   \n",
       "\n",
       "                                             Summary  \n",
       "0  \\nRight now, we are looking for a tenured data...  \n",
       "1  \\nConducts follow up contacts to collect data ...  \n",
       "2  \\nGenetics/genomics data analysis (esp. Enjoy ...  \n",
       "3  \\nResponsibilities of the Digital Marketing (D...  \n",
       "4  \\nAssessing conceptual foundations of a model,...  "
      ]
     },
     "execution_count": 3,
     "metadata": {},
     "output_type": "execute_result"
    }
   ],
   "source": [
    "# Checking data formats\n",
    "df.head()"
   ]
  },
  {
   "cell_type": "code",
   "execution_count": 4,
   "metadata": {},
   "outputs": [
    {
     "data": {
      "text/plain": [
       "(3960, 6)"
      ]
     },
     "execution_count": 4,
     "metadata": {},
     "output_type": "execute_result"
    }
   ],
   "source": [
    "# checking size of dataframe\n",
    "df.shape"
   ]
  },
  {
   "cell_type": "code",
   "execution_count": 5,
   "metadata": {
    "collapsed": true
   },
   "outputs": [],
   "source": [
    "# removing \"unnamed: 0\" column\n",
    "df=df.iloc[:,1:]"
   ]
  },
  {
   "cell_type": "code",
   "execution_count": 6,
   "metadata": {},
   "outputs": [
    {
     "data": {
      "text/html": [
       "<div>\n",
       "<table border=\"1\" class=\"dataframe\">\n",
       "  <thead>\n",
       "    <tr style=\"text-align: right;\">\n",
       "      <th></th>\n",
       "      <th>JobTitle</th>\n",
       "      <th>Company</th>\n",
       "      <th>Location</th>\n",
       "      <th>Salary</th>\n",
       "      <th>Summary</th>\n",
       "    </tr>\n",
       "  </thead>\n",
       "  <tbody>\n",
       "    <tr>\n",
       "      <th>0</th>\n",
       "      <td>\\nSr Data Scientist\\n</td>\n",
       "      <td>\\n\\n\\n        Wells Fargo\\n</td>\n",
       "      <td>Charlotte</td>\n",
       "      <td>NaN</td>\n",
       "      <td>\\nRight now, we are looking for a tenured data...</td>\n",
       "    </tr>\n",
       "    <tr>\n",
       "      <th>1</th>\n",
       "      <td>\\nResearch Analyst\\n</td>\n",
       "      <td>\\n\\n\\n        Carolinas HealthCare System\\n</td>\n",
       "      <td>Charlotte</td>\n",
       "      <td>NaN</td>\n",
       "      <td>\\nConducts follow up contacts to collect data ...</td>\n",
       "    </tr>\n",
       "    <tr>\n",
       "      <th>2</th>\n",
       "      <td>\\nBiostatistics/Bioinformatics Research Scient...</td>\n",
       "      <td>\\n\\n\\n        UNC Charlotte\\n</td>\n",
       "      <td>Charlotte</td>\n",
       "      <td>$60,000 - $80,000 a year</td>\n",
       "      <td>\\nGenetics/genomics data analysis (esp. Enjoy ...</td>\n",
       "    </tr>\n",
       "    <tr>\n",
       "      <th>3</th>\n",
       "      <td>\\nDigital Marketing (Data Scientist)\\n</td>\n",
       "      <td>\\n\\n    Kennedy Unlimited Inc, Professional St...</td>\n",
       "      <td>Charlotte</td>\n",
       "      <td>$100,000 - $130,000 a year</td>\n",
       "      <td>\\nResponsibilities of the Digital Marketing (D...</td>\n",
       "    </tr>\n",
       "    <tr>\n",
       "      <th>4</th>\n",
       "      <td>\\nSenior Quantitative Finance Analyst\\n</td>\n",
       "      <td>\\n\\n    iiTS\\n</td>\n",
       "      <td>Charlotte</td>\n",
       "      <td>$140,000 a year</td>\n",
       "      <td>\\nAssessing conceptual foundations of a model,...</td>\n",
       "    </tr>\n",
       "  </tbody>\n",
       "</table>\n",
       "</div>"
      ],
      "text/plain": [
       "                                            JobTitle  \\\n",
       "0                              \\nSr Data Scientist\\n   \n",
       "1                               \\nResearch Analyst\\n   \n",
       "2  \\nBiostatistics/Bioinformatics Research Scient...   \n",
       "3             \\nDigital Marketing (Data Scientist)\\n   \n",
       "4            \\nSenior Quantitative Finance Analyst\\n   \n",
       "\n",
       "                                             Company   Location  \\\n",
       "0                        \\n\\n\\n        Wells Fargo\\n  Charlotte   \n",
       "1        \\n\\n\\n        Carolinas HealthCare System\\n  Charlotte   \n",
       "2                      \\n\\n\\n        UNC Charlotte\\n  Charlotte   \n",
       "3  \\n\\n    Kennedy Unlimited Inc, Professional St...  Charlotte   \n",
       "4                                     \\n\\n    iiTS\\n  Charlotte   \n",
       "\n",
       "                       Salary  \\\n",
       "0                         NaN   \n",
       "1                         NaN   \n",
       "2    $60,000 - $80,000 a year   \n",
       "3  $100,000 - $130,000 a year   \n",
       "4             $140,000 a year   \n",
       "\n",
       "                                             Summary  \n",
       "0  \\nRight now, we are looking for a tenured data...  \n",
       "1  \\nConducts follow up contacts to collect data ...  \n",
       "2  \\nGenetics/genomics data analysis (esp. Enjoy ...  \n",
       "3  \\nResponsibilities of the Digital Marketing (D...  \n",
       "4  \\nAssessing conceptual foundations of a model,...  "
      ]
     },
     "execution_count": 6,
     "metadata": {},
     "output_type": "execute_result"
    }
   ],
   "source": [
    "df.head()"
   ]
  },
  {
   "cell_type": "code",
   "execution_count": 7,
   "metadata": {},
   "outputs": [],
   "source": [
    "# cleaning job title column\n",
    "df['JobTitle'] = df['JobTitle'].apply(lambda x: x.replace('\\n',''))"
   ]
  },
  {
   "cell_type": "code",
   "execution_count": 8,
   "metadata": {},
   "outputs": [],
   "source": [
    "# removing rows where company is not listed\n",
    "df = df[pd.notnull(df['Company'])]\n",
    "\n",
    "# cleaning company column\n",
    "df['Company'] = df['Company'].apply(lambda x: x.replace('\\n',''))\n",
    "df['Company'] = df['Company'].apply(lambda x: x.lstrip())"
   ]
  },
  {
   "cell_type": "code",
   "execution_count": 9,
   "metadata": {
    "collapsed": true
   },
   "outputs": [],
   "source": [
    "#cleaning summary column\n",
    "df['Summary'] = df['Summary'].apply(lambda x: x.replace('\\n',''))"
   ]
  },
  {
   "cell_type": "code",
   "execution_count": 10,
   "metadata": {},
   "outputs": [
    {
     "data": {
      "text/html": [
       "<div>\n",
       "<table border=\"1\" class=\"dataframe\">\n",
       "  <thead>\n",
       "    <tr style=\"text-align: right;\">\n",
       "      <th></th>\n",
       "      <th>JobTitle</th>\n",
       "      <th>Company</th>\n",
       "      <th>Location</th>\n",
       "      <th>Salary</th>\n",
       "      <th>Summary</th>\n",
       "    </tr>\n",
       "  </thead>\n",
       "  <tbody>\n",
       "    <tr>\n",
       "      <th>0</th>\n",
       "      <td>Sr Data Scientist</td>\n",
       "      <td>Wells Fargo</td>\n",
       "      <td>Charlotte</td>\n",
       "      <td>NaN</td>\n",
       "      <td>Right now, we are looking for a tenured data s...</td>\n",
       "    </tr>\n",
       "    <tr>\n",
       "      <th>1</th>\n",
       "      <td>Research Analyst</td>\n",
       "      <td>Carolinas HealthCare System</td>\n",
       "      <td>Charlotte</td>\n",
       "      <td>NaN</td>\n",
       "      <td>Conducts follow up contacts to collect data fo...</td>\n",
       "    </tr>\n",
       "    <tr>\n",
       "      <th>2</th>\n",
       "      <td>Biostatistics/Bioinformatics Research Scientist</td>\n",
       "      <td>UNC Charlotte</td>\n",
       "      <td>Charlotte</td>\n",
       "      <td>$60,000 - $80,000 a year</td>\n",
       "      <td>Genetics/genomics data analysis (esp. Enjoy co...</td>\n",
       "    </tr>\n",
       "    <tr>\n",
       "      <th>3</th>\n",
       "      <td>Digital Marketing (Data Scientist)</td>\n",
       "      <td>Kennedy Unlimited Inc, Professional Staffing</td>\n",
       "      <td>Charlotte</td>\n",
       "      <td>$100,000 - $130,000 a year</td>\n",
       "      <td>Responsibilities of the Digital Marketing (Dat...</td>\n",
       "    </tr>\n",
       "    <tr>\n",
       "      <th>4</th>\n",
       "      <td>Senior Quantitative Finance Analyst</td>\n",
       "      <td>iiTS</td>\n",
       "      <td>Charlotte</td>\n",
       "      <td>$140,000 a year</td>\n",
       "      <td>Assessing conceptual foundations of a model, m...</td>\n",
       "    </tr>\n",
       "  </tbody>\n",
       "</table>\n",
       "</div>"
      ],
      "text/plain": [
       "                                          JobTitle  \\\n",
       "0                                Sr Data Scientist   \n",
       "1                                 Research Analyst   \n",
       "2  Biostatistics/Bioinformatics Research Scientist   \n",
       "3               Digital Marketing (Data Scientist)   \n",
       "4              Senior Quantitative Finance Analyst   \n",
       "\n",
       "                                        Company   Location  \\\n",
       "0                                   Wells Fargo  Charlotte   \n",
       "1                   Carolinas HealthCare System  Charlotte   \n",
       "2                                 UNC Charlotte  Charlotte   \n",
       "3  Kennedy Unlimited Inc, Professional Staffing  Charlotte   \n",
       "4                                          iiTS  Charlotte   \n",
       "\n",
       "                       Salary  \\\n",
       "0                         NaN   \n",
       "1                         NaN   \n",
       "2    $60,000 - $80,000 a year   \n",
       "3  $100,000 - $130,000 a year   \n",
       "4             $140,000 a year   \n",
       "\n",
       "                                             Summary  \n",
       "0  Right now, we are looking for a tenured data s...  \n",
       "1  Conducts follow up contacts to collect data fo...  \n",
       "2  Genetics/genomics data analysis (esp. Enjoy co...  \n",
       "3  Responsibilities of the Digital Marketing (Dat...  \n",
       "4  Assessing conceptual foundations of a model, m...  "
      ]
     },
     "execution_count": 10,
     "metadata": {},
     "output_type": "execute_result"
    }
   ],
   "source": [
    "df.head()"
   ]
  },
  {
   "cell_type": "code",
   "execution_count": 11,
   "metadata": {},
   "outputs": [
    {
     "data": {
      "text/plain": [
       "3106"
      ]
     },
     "execution_count": 11,
     "metadata": {},
     "output_type": "execute_result"
    }
   ],
   "source": [
    "# checking number of unique job titles\n",
    "df['JobTitle'].nunique()"
   ]
  },
  {
   "cell_type": "code",
   "execution_count": 12,
   "metadata": {},
   "outputs": [
    {
     "data": {
      "text/plain": [
       "array(['Sr Data Scientist', 'Research Analyst',\n",
       "       'Biostatistics/Bioinformatics Research Scientist', ...,\n",
       "       'Sr .NET Software Engineer',\n",
       "       'Data Science Engineer I, Data Science Engineer II or Senior...',\n",
       "       'Project Analyst/Coordinator - Research Applications (System/...'], dtype=object)"
      ]
     },
     "execution_count": 12,
     "metadata": {},
     "output_type": "execute_result"
    }
   ],
   "source": [
    "df['JobTitle'].unique()"
   ]
  },
  {
   "cell_type": "code",
   "execution_count": 13,
   "metadata": {},
   "outputs": [
    {
     "data": {
      "text/plain": [
       "Data Scientist                                                     118\n",
       "Research Analyst                                                    48\n",
       "Senior Data Scientist                                               44\n",
       "Data Engineer                                                       26\n",
       "Research Scientist                                                  23\n",
       "Machine Learning Engineer                                           20\n",
       "Sr. Data Scientist                                                  20\n",
       "Quantitative Analyst                                                18\n",
       "Software Engineer                                                   15\n",
       "Scientist                                                           13\n",
       "Sr Data Scientist                                                   13\n",
       "Statistical Analyst                                                 11\n",
       "Principal Data Scientist                                            11\n",
       "Scientist I                                                         11\n",
       "Senior Software Engineer                                            10\n",
       "Data Analyst                                                        10\n",
       "Bioinformatics Scientist                                             9\n",
       "Senior Data Engineer                                                 9\n",
       "Senior Scientist                                                     9\n",
       "Statistician                                                         9\n",
       "Market Research Analyst                                              9\n",
       "Senior Research Analyst - Bersin by Deloitte                         8\n",
       "Lead Data Scientist                                                  8\n",
       "Senior DevOps Engineer                                               8\n",
       "Research Associate                                                   7\n",
       "Senior Statistician                                                  7\n",
       "Clinical Scientist                                                   7\n",
       "Senior Research Scientist                                            6\n",
       "Statistical Programmer                                               6\n",
       "Clinical Laboratory Scientist                                        6\n",
       "                                                                  ... \n",
       "Janssen PK/PD Intern                                                 1\n",
       "Assoc Food Scientist, R&D - Process Dev                              1\n",
       "Head of Compliance                                                   1\n",
       "Cell Production Manager                                              1\n",
       "Associate Scientist II/III, Gene Therapy Drug Product Develo...      1\n",
       "Applied Scientist III                                                1\n",
       "Sr.Machine Learning Engineer                                         1\n",
       "Technologist IV, Microwave Instrument Systems                        1\n",
       "Principal Program Manager Lead                                       1\n",
       "Senior Applied Scientist- Microsoft Research Technologies            1\n",
       "Scientist / Engineer with Carbon Coating Experience                  1\n",
       "RN- Medical Unit, FT Nights                                          1\n",
       "Sr. Software Engineer for Customer Support                           1\n",
       "Equity Research - Associate Analyst                                  1\n",
       "Landscape Architecture Intern 2017                                   1\n",
       "Machine Learning & Computer Vision Scientist                         1\n",
       "Medical Technologist 1- Egleston- Core Lab- Full Time Day Sh...      1\n",
       "Sr Operations Research Analyst                                       1\n",
       "Postdoc Fellowship                                                   1\n",
       "C++ Software Engineer - Data Management                              1\n",
       "Associate Scientist - Upstream Cell Culture - based in King...       1\n",
       "Postdoctoral Research Scientist                                      1\n",
       "Artificial Intelligence Data Scientist                               1\n",
       "Software Intern - Large Scale Graph Computing                        1\n",
       "Assistant/Associate Scientist                                        1\n",
       "Sr Statistical Analyst                                               1\n",
       "Data Scientist / Sr. Data Scientist                                  1\n",
       "Artificial Intelligence/Machine Learning Architecture Lead           1\n",
       "Director, Early Target Discovery - Target Identification - S...      1\n",
       "Domain Manager - Ingenuity                                           1\n",
       "Name: JobTitle, dtype: int64"
      ]
     },
     "execution_count": 13,
     "metadata": {},
     "output_type": "execute_result"
    }
   ],
   "source": [
    "# checking job titles\n",
    "df['JobTitle'].value_counts()"
   ]
  },
  {
   "cell_type": "code",
   "execution_count": 14,
   "metadata": {},
   "outputs": [
    {
     "data": {
      "text/plain": [
       "1782"
      ]
     },
     "execution_count": 14,
     "metadata": {},
     "output_type": "execute_result"
    }
   ],
   "source": [
    "# checking number of companies\n",
    "df['Company'].nunique()"
   ]
  },
  {
   "cell_type": "code",
   "execution_count": 15,
   "metadata": {},
   "outputs": [
    {
     "data": {
      "text/plain": [
       "array(['Wells Fargo', 'Carolinas HealthCare System', 'UNC Charlotte', ...,\n",
       "       'Centizen', 'nLIGHT', 'NIKE INC'], dtype=object)"
      ]
     },
     "execution_count": 15,
     "metadata": {},
     "output_type": "execute_result"
    }
   ],
   "source": [
    "df['Company'].unique()"
   ]
  },
  {
   "cell_type": "code",
   "execution_count": 16,
   "metadata": {},
   "outputs": [
    {
     "data": {
      "text/plain": [
       "Ball Aerospace                                       56\n",
       "The Aerospace Corporation                            31\n",
       "Walmart eCommerce                                    29\n",
       "University of Washington Medical Center              28\n",
       "Microsoft                                            27\n",
       "Facebook                                             26\n",
       "Fred Hutchinson Cancer Research Center               26\n",
       "University of Washington                             24\n",
       "Pfizer Inc.                                          23\n",
       "Takeda Pharmaceutical                                23\n",
       "Reed Elsevier                                        22\n",
       "Accenture                                            21\n",
       "Janssen Research & Development, LLC.                 19\n",
       "Jobspring Partners                                   19\n",
       "UCLA Health                                          17\n",
       "McKinsey & Company                                   17\n",
       "Lockheed Martin                                      17\n",
       "Netflix                                              17\n",
       "AbbVie                                               16\n",
       "Deloitte                                             16\n",
       "University of Chicago                                16\n",
       "Beckman Coulter, Inc.                                16\n",
       "Broad Institute                                      15\n",
       "BuzzFeed                                             15\n",
       "Roche                                                15\n",
       "Merck                                                15\n",
       "Oracle                                               14\n",
       "Natera                                               14\n",
       "Intel                                                14\n",
       "Analytic Recruiting                                  14\n",
       "                                                     ..\n",
       "CloudCar                                              1\n",
       "Kindred Healthcare                                    1\n",
       "Center for Social Innovation                          1\n",
       "Recombine                                             1\n",
       "Limeade                                               1\n",
       "Gibson - An Education Consulting & Research Group     1\n",
       "Roku                                                  1\n",
       "GKN Aerospace Transparency Systems, Inc.              1\n",
       "Chicago Mercantile Exchange Inc.                      1\n",
       "Ctrl/Shift                                            1\n",
       "ZEFR                                                  1\n",
       "Effective Spend                                       1\n",
       "Goodwin Procter LLP                                   1\n",
       "Codiak BioSciences                                    1\n",
       "CALYX Engineers + Consultants                         1\n",
       "Genesis10                                             1\n",
       "West Monroe Partners                                  1\n",
       "Environmental Compliance Services                     1\n",
       "American Dental Association                           1\n",
       "HumanEdge                                             1\n",
       "Mic                                                   1\n",
       "Kaztronix                                             1\n",
       "Kochur Trummer Corporation                            1\n",
       "Foursquare                                            1\n",
       "Smith Hanley Associates                               1\n",
       "Samsung Electronics America                           1\n",
       "ERC                                                   1\n",
       "Deerland Enzymes                                      1\n",
       "Kayem Foods, Inc.                                     1\n",
       "Concur                                                1\n",
       "Name: Company, dtype: int64"
      ]
     },
     "execution_count": 16,
     "metadata": {},
     "output_type": "execute_result"
    }
   ],
   "source": [
    "# checking company names\n",
    "df['Company'].value_counts()"
   ]
  },
  {
   "cell_type": "code",
   "execution_count": 17,
   "metadata": {},
   "outputs": [
    {
     "data": {
      "text/plain": [
       "20"
      ]
     },
     "execution_count": 17,
     "metadata": {},
     "output_type": "execute_result"
    }
   ],
   "source": [
    "# checking location number\n",
    "df['Location'].nunique()"
   ]
  },
  {
   "cell_type": "code",
   "execution_count": 18,
   "metadata": {},
   "outputs": [
    {
     "data": {
      "text/plain": [
       "array(['Charlotte', 'Salt+Lake+City', 'Arlington', 'Chicago',\n",
       "       'San+Francisco', 'New+York', 'Dallas', 'Orlando', 'Philadelphia',\n",
       "       'Minneapolis', 'Los+Angeles', 'San+Jose', 'San+Diego', 'Houston',\n",
       "       'Denver', 'Boston', 'Atlanta', 'Seattle', 'Austin', 'Portland'], dtype=object)"
      ]
     },
     "execution_count": 18,
     "metadata": {},
     "output_type": "execute_result"
    }
   ],
   "source": [
    "df['Location'].unique()"
   ]
  },
  {
   "cell_type": "code",
   "execution_count": 19,
   "metadata": {},
   "outputs": [
    {
     "data": {
      "text/plain": [
       "Boston            455\n",
       "San+Jose          441\n",
       "San+Francisco     428\n",
       "New+York          425\n",
       "Los+Angeles       292\n",
       "Seattle           282\n",
       "Chicago           232\n",
       "Philadelphia      220\n",
       "San+Diego         191\n",
       "Denver            148\n",
       "Atlanta           143\n",
       "Arlington         124\n",
       "Minneapolis       106\n",
       "Dallas            101\n",
       "Austin             96\n",
       "Houston            81\n",
       "Portland           58\n",
       "Charlotte          50\n",
       "Salt+Lake+City     48\n",
       "Orlando            38\n",
       "Name: Location, dtype: int64"
      ]
     },
     "execution_count": 19,
     "metadata": {},
     "output_type": "execute_result"
    }
   ],
   "source": [
    "# checking location names\n",
    "df['Location'].value_counts()"
   ]
  },
  {
   "cell_type": "code",
   "execution_count": 20,
   "metadata": {},
   "outputs": [
    {
     "data": {
      "text/plain": [
       "$140,000 a year               10\n",
       "$120,000 a year                9\n",
       "$170,000 a year                8\n",
       "$150,000 a year                8\n",
       "$100,000 a year                7\n",
       "$200,000 a year                6\n",
       "$160,000 a year                6\n",
       "$20 an hour                    5\n",
       "$130,000 a year                5\n",
       "$48,000 a year                 3\n",
       "$50,000 a year                 3\n",
       "$100,000 - $130,000 a year     3\n",
       "$60,000 - $80,000 a year       3\n",
       "$21.26 an hour                 3\n",
       "$80,000 - $110,000 a year      2\n",
       "$145,000 a year                2\n",
       "$98 an hour                    2\n",
       "$150,000 - $200,000 a year     2\n",
       "$4,319 - $6,183 a month        2\n",
       "$120,000 - $140,000 a year     2\n",
       "$70,286 - $88,213 a year       2\n",
       "$4,319 - $6,371 a month        2\n",
       "$60,000 - $70,000 a year       2\n",
       "$5,400 - $6,500 a month        2\n",
       "$17 an hour                    2\n",
       "$60,700 - $115,300 a year      2\n",
       "$165,000 a year                2\n",
       "$155,000 a year                2\n",
       "$6,250 - $10,833 a month       2\n",
       "$140,000 - $160,000 a year     2\n",
       "                              ..\n",
       "$38,964 a year                 1\n",
       "$85,000 - $110,000 a year      1\n",
       "$45 - $52 an hour              1\n",
       "$4,083 - $4,696 a month        1\n",
       "$32,656 - $54,933 a year       1\n",
       "$55,000 - $70,000 a year       1\n",
       "$2,739 - $3,635 a month        1\n",
       "$70 an hour                    1\n",
       "$35 an hour                    1\n",
       "$140,000 - $180,000 a year     1\n",
       "$90,000 - $120,000 a year      1\n",
       "$75,900 - $148,100 a year      1\n",
       "$120,000 - $165,000 a year     1\n",
       "$12 an hour                    1\n",
       "$18.33 - $21.36 an hour        1\n",
       "$7,046 a month                 1\n",
       "$30 an hour                    1\n",
       "$250,000 a year                1\n",
       "$2,250 a month                 1\n",
       "$22 - $28 an hour              1\n",
       "$26 an hour                    1\n",
       "$70,000 - $145,000 a year      1\n",
       "$22.50 an hour                 1\n",
       "$31,678 - $45,365 a year       1\n",
       "$99,901 - $124,877 a year      1\n",
       "$50,000 - $60,000 a year       1\n",
       "$95,000 - $130,000 a year      1\n",
       "$46,579 - $61,065 a year       1\n",
       "$2,617 - $3,461 a month        1\n",
       "$5,988 - $6,322 a month        1\n",
       "Name: Salary, dtype: int64"
      ]
     },
     "execution_count": 20,
     "metadata": {},
     "output_type": "execute_result"
    }
   ],
   "source": [
    "# checking salaries\n",
    "df['Salary'].value_counts()"
   ]
  },
  {
   "cell_type": "code",
   "execution_count": 21,
   "metadata": {},
   "outputs": [
    {
     "data": {
      "text/plain": [
       "240"
      ]
     },
     "execution_count": 21,
     "metadata": {},
     "output_type": "execute_result"
    }
   ],
   "source": [
    "# checking number of postings with salaries\n",
    "df['Salary'].count()"
   ]
  },
  {
   "cell_type": "code",
   "execution_count": 22,
   "metadata": {},
   "outputs": [
    {
     "data": {
      "text/html": [
       "<div>\n",
       "<table border=\"1\" class=\"dataframe\">\n",
       "  <thead>\n",
       "    <tr style=\"text-align: right;\">\n",
       "      <th></th>\n",
       "      <th>JobTitle</th>\n",
       "      <th>Company</th>\n",
       "      <th>Location</th>\n",
       "      <th>Salary</th>\n",
       "      <th>Summary</th>\n",
       "    </tr>\n",
       "  </thead>\n",
       "  <tbody>\n",
       "    <tr>\n",
       "      <th>0</th>\n",
       "      <td>Sr Data Scientist</td>\n",
       "      <td>Wells Fargo</td>\n",
       "      <td>Charlotte</td>\n",
       "      <td>NaN</td>\n",
       "      <td>Right now, we are looking for a tenured data s...</td>\n",
       "    </tr>\n",
       "    <tr>\n",
       "      <th>1</th>\n",
       "      <td>Research Analyst</td>\n",
       "      <td>Carolinas HealthCare System</td>\n",
       "      <td>Charlotte</td>\n",
       "      <td>NaN</td>\n",
       "      <td>Conducts follow up contacts to collect data fo...</td>\n",
       "    </tr>\n",
       "    <tr>\n",
       "      <th>2</th>\n",
       "      <td>Biostatistics/Bioinformatics Research Scientist</td>\n",
       "      <td>UNC Charlotte</td>\n",
       "      <td>Charlotte</td>\n",
       "      <td>$60,000 - $80,000 a year</td>\n",
       "      <td>Genetics/genomics data analysis (esp. Enjoy co...</td>\n",
       "    </tr>\n",
       "    <tr>\n",
       "      <th>3</th>\n",
       "      <td>Digital Marketing (Data Scientist)</td>\n",
       "      <td>Kennedy Unlimited Inc, Professional Staffing</td>\n",
       "      <td>Charlotte</td>\n",
       "      <td>$100,000 - $130,000 a year</td>\n",
       "      <td>Responsibilities of the Digital Marketing (Dat...</td>\n",
       "    </tr>\n",
       "    <tr>\n",
       "      <th>4</th>\n",
       "      <td>Senior Quantitative Finance Analyst</td>\n",
       "      <td>iiTS</td>\n",
       "      <td>Charlotte</td>\n",
       "      <td>$140,000 a year</td>\n",
       "      <td>Assessing conceptual foundations of a model, m...</td>\n",
       "    </tr>\n",
       "  </tbody>\n",
       "</table>\n",
       "</div>"
      ],
      "text/plain": [
       "                                          JobTitle  \\\n",
       "0                                Sr Data Scientist   \n",
       "1                                 Research Analyst   \n",
       "2  Biostatistics/Bioinformatics Research Scientist   \n",
       "3               Digital Marketing (Data Scientist)   \n",
       "4              Senior Quantitative Finance Analyst   \n",
       "\n",
       "                                        Company   Location  \\\n",
       "0                                   Wells Fargo  Charlotte   \n",
       "1                   Carolinas HealthCare System  Charlotte   \n",
       "2                                 UNC Charlotte  Charlotte   \n",
       "3  Kennedy Unlimited Inc, Professional Staffing  Charlotte   \n",
       "4                                          iiTS  Charlotte   \n",
       "\n",
       "                       Salary  \\\n",
       "0                         NaN   \n",
       "1                         NaN   \n",
       "2    $60,000 - $80,000 a year   \n",
       "3  $100,000 - $130,000 a year   \n",
       "4             $140,000 a year   \n",
       "\n",
       "                                             Summary  \n",
       "0  Right now, we are looking for a tenured data s...  \n",
       "1  Conducts follow up contacts to collect data fo...  \n",
       "2  Genetics/genomics data analysis (esp. Enjoy co...  \n",
       "3  Responsibilities of the Digital Marketing (Dat...  \n",
       "4  Assessing conceptual foundations of a model, m...  "
      ]
     },
     "execution_count": 22,
     "metadata": {},
     "output_type": "execute_result"
    }
   ],
   "source": [
    "df.head()"
   ]
  },
  {
   "cell_type": "code",
   "execution_count": 23,
   "metadata": {},
   "outputs": [],
   "source": [
    "# cleaning location column\n",
    "df['Location'] = df['Location'].apply(lambda x: x.replace('+',' '))"
   ]
  },
  {
   "cell_type": "code",
   "execution_count": 24,
   "metadata": {
    "scrolled": true
   },
   "outputs": [
    {
     "data": {
      "text/plain": [
       "Boston            455\n",
       "San Jose          441\n",
       "San Francisco     428\n",
       "New York          425\n",
       "Los Angeles       292\n",
       "Seattle           282\n",
       "Chicago           232\n",
       "Philadelphia      220\n",
       "San Diego         191\n",
       "Denver            148\n",
       "Atlanta           143\n",
       "Arlington         124\n",
       "Minneapolis       106\n",
       "Dallas            101\n",
       "Austin             96\n",
       "Houston            81\n",
       "Portland           58\n",
       "Charlotte          50\n",
       "Salt Lake City     48\n",
       "Orlando            38\n",
       "Name: Location, dtype: int64"
      ]
     },
     "execution_count": 24,
     "metadata": {},
     "output_type": "execute_result"
    }
   ],
   "source": [
    "df['Location'].value_counts()"
   ]
  },
  {
   "cell_type": "code",
   "execution_count": 25,
   "metadata": {
    "collapsed": true
   },
   "outputs": [],
   "source": [
    "# creating a dataframe with only the postings that contain salary information\n",
    "# i'll be using these postings to build the models\n",
    "dfs=df.dropna()"
   ]
  },
  {
   "cell_type": "code",
   "execution_count": 26,
   "metadata": {},
   "outputs": [
    {
     "data": {
      "text/plain": [
       "(240, 5)"
      ]
     },
     "execution_count": 26,
     "metadata": {},
     "output_type": "execute_result"
    }
   ],
   "source": [
    "# checking size of new dataframe\n",
    "dfs.shape"
   ]
  },
  {
   "cell_type": "code",
   "execution_count": 27,
   "metadata": {},
   "outputs": [
    {
     "data": {
      "text/plain": [
       "New York          34\n",
       "Los Angeles       30\n",
       "Seattle           22\n",
       "Chicago           19\n",
       "San Francisco     16\n",
       "Austin            16\n",
       "San Jose          14\n",
       "Boston            13\n",
       "Salt Lake City    10\n",
       "Atlanta            9\n",
       "Charlotte          9\n",
       "Arlington          7\n",
       "Dallas             7\n",
       "Philadelphia       7\n",
       "Minneapolis        6\n",
       "Houston            6\n",
       "Denver             5\n",
       "Portland           4\n",
       "Orlando            3\n",
       "San Diego          3\n",
       "Name: Location, dtype: int64"
      ]
     },
     "execution_count": 27,
     "metadata": {},
     "output_type": "execute_result"
    }
   ],
   "source": [
    "dfs['Location'].value_counts()"
   ]
  },
  {
   "cell_type": "code",
   "execution_count": 28,
   "metadata": {},
   "outputs": [
    {
     "data": {
      "text/html": [
       "<div>\n",
       "<table border=\"1\" class=\"dataframe\">\n",
       "  <thead>\n",
       "    <tr style=\"text-align: right;\">\n",
       "      <th></th>\n",
       "      <th>JobTitle</th>\n",
       "      <th>Company</th>\n",
       "      <th>Location</th>\n",
       "      <th>Salary</th>\n",
       "      <th>Summary</th>\n",
       "    </tr>\n",
       "  </thead>\n",
       "  <tbody>\n",
       "    <tr>\n",
       "      <th>2</th>\n",
       "      <td>Biostatistics/Bioinformatics Research Scientist</td>\n",
       "      <td>UNC Charlotte</td>\n",
       "      <td>Charlotte</td>\n",
       "      <td>$60,000 - $80,000 a year</td>\n",
       "      <td>Genetics/genomics data analysis (esp. Enjoy co...</td>\n",
       "    </tr>\n",
       "    <tr>\n",
       "      <th>3</th>\n",
       "      <td>Digital Marketing (Data Scientist)</td>\n",
       "      <td>Kennedy Unlimited Inc, Professional Staffing</td>\n",
       "      <td>Charlotte</td>\n",
       "      <td>$100,000 - $130,000 a year</td>\n",
       "      <td>Responsibilities of the Digital Marketing (Dat...</td>\n",
       "    </tr>\n",
       "    <tr>\n",
       "      <th>4</th>\n",
       "      <td>Senior Quantitative Finance Analyst</td>\n",
       "      <td>iiTS</td>\n",
       "      <td>Charlotte</td>\n",
       "      <td>$140,000 a year</td>\n",
       "      <td>Assessing conceptual foundations of a model, m...</td>\n",
       "    </tr>\n",
       "    <tr>\n",
       "      <th>10</th>\n",
       "      <td>Sr Hadoop Architect/Data Scientist</td>\n",
       "      <td>Sherpa LLC</td>\n",
       "      <td>Charlotte</td>\n",
       "      <td>$98 an hour</td>\n",
       "      <td>Experience with batch and streaming data proce...</td>\n",
       "    </tr>\n",
       "    <tr>\n",
       "      <th>30</th>\n",
       "      <td>SVP Quantitative Analyst - Multiple Vacancies</td>\n",
       "      <td>Selby Jennings</td>\n",
       "      <td>Charlotte</td>\n",
       "      <td>$150,000 a year</td>\n",
       "      <td>A Top Tier Investment Bank is looking for an e...</td>\n",
       "    </tr>\n",
       "  </tbody>\n",
       "</table>\n",
       "</div>"
      ],
      "text/plain": [
       "                                           JobTitle  \\\n",
       "2   Biostatistics/Bioinformatics Research Scientist   \n",
       "3                Digital Marketing (Data Scientist)   \n",
       "4               Senior Quantitative Finance Analyst   \n",
       "10               Sr Hadoop Architect/Data Scientist   \n",
       "30    SVP Quantitative Analyst - Multiple Vacancies   \n",
       "\n",
       "                                         Company   Location  \\\n",
       "2                                  UNC Charlotte  Charlotte   \n",
       "3   Kennedy Unlimited Inc, Professional Staffing  Charlotte   \n",
       "4                                           iiTS  Charlotte   \n",
       "10                                    Sherpa LLC  Charlotte   \n",
       "30                                Selby Jennings  Charlotte   \n",
       "\n",
       "                        Salary  \\\n",
       "2     $60,000 - $80,000 a year   \n",
       "3   $100,000 - $130,000 a year   \n",
       "4              $140,000 a year   \n",
       "10                 $98 an hour   \n",
       "30             $150,000 a year   \n",
       "\n",
       "                                              Summary  \n",
       "2   Genetics/genomics data analysis (esp. Enjoy co...  \n",
       "3   Responsibilities of the Digital Marketing (Dat...  \n",
       "4   Assessing conceptual foundations of a model, m...  \n",
       "10  Experience with batch and streaming data proce...  \n",
       "30  A Top Tier Investment Bank is looking for an e...  "
      ]
     },
     "execution_count": 28,
     "metadata": {},
     "output_type": "execute_result"
    }
   ],
   "source": [
    "dfs.head()"
   ]
  },
  {
   "cell_type": "code",
   "execution_count": 29,
   "metadata": {},
   "outputs": [
    {
     "data": {
      "text/plain": [
       "Data Scientist                                                     12\n",
       "Research Analyst                                                    8\n",
       "Senior Data Scientist                                               5\n",
       "Principal Data Scientist                                            3\n",
       "Digital Marketing (Data Scientist)                                  3\n",
       "RESEARCH STUDY COORDINATOR 1                                        2\n",
       "MEDICAL LABORATORY SCIENTIST-TRAINEE OR 1                           2\n",
       "Sr Hadoop Architect/Data Scientist                                  2\n",
       "Machine Learning Engineer                                           2\n",
       "Geospatial Data Scientist/Software Engineer                         2\n",
       "MEDICAL LABORATORY SCIENTIST 1 OR TRAINEE                           2\n",
       "Research Scientist II                                               2\n",
       "RISK ANALYST - statistical modeling / SAS                           2\n",
       "Admin Assistant with financial reporting exp, data analysis...      2\n",
       "TRUCK DRIVER 1                                                      2\n",
       "SVP Quantitative Analyst - Multiple Vacancies                       2\n",
       "Biostatistics/Bioinformatics Research Scientist                     2\n",
       "Lead Data Scientist                                                 2\n",
       "Data Scientist - Machine Learning, NLP                              1\n",
       "Senior Agent, Customer Care Center (DFW)                            1\n",
       "Med Tech/MLS- Intermountain Molecular Pathology - Full time...      1\n",
       "Financial Analyst I / Research Analyst I                            1\n",
       "Data Scientist (Clean Energy)                                       1\n",
       "CLS Certifying Scientist (Toxicologist)                             1\n",
       "Computer Vision Data Scientist                                      1\n",
       "Data Team Leader (VP, Director)                                     1\n",
       "Manager of FP&A                                                     1\n",
       "Statistical Analyst                                                 1\n",
       "Associate Analytics Analyst - Liberty Mutual Surety                 1\n",
       "Senior Software Engineer (Python, C/C++)                            1\n",
       "                                                                   ..\n",
       "Stream Educator                                                     1\n",
       "Senior Data Analyst                                                 1\n",
       "Client Solutions, Strategy and Analytics Manager Consultancy        1\n",
       "Cost/Cost Research Analyst                                          1\n",
       "Modeler/Policy Analyst                                              1\n",
       "Special Projects Director, Regulatory and External Affairs          1\n",
       "ADMINISTRATIVE COORDINATOR                                          1\n",
       "Director of Analytics                                               1\n",
       "Genetic Counselor, Clinical Genomics                                1\n",
       "CLS Laboratory Scientist                                            1\n",
       "Associate Scientist                                                 1\n",
       "Sr. Bioinformatics Programmer                                       1\n",
       "Lab Technician or Associate Scientist                               1\n",
       "Computer Vision/Machine Learning Engineer                           1\n",
       "Epidemiologist                                                      1\n",
       "Business Data Architect                                             1\n",
       "Emergency Response Coordinator- TRANSCRIPTS REQUIRED                1\n",
       "Data Scientist (Machine Learning)                                   1\n",
       "Lead Quantitative Analyst                                           1\n",
       "Computer Scientist/Software Engineer                                1\n",
       "Social Media Marketing Data Analyst                                 1\n",
       "Data Scientist - Financial Services                                 1\n",
       "Sr. Data Analyst-Statistician-PHARMA                                1\n",
       "Manager, Client Strategy                                            1\n",
       "DATA SCIENCE, MANAGER - BIOINFORMATICS                              1\n",
       "Senior Big Data Engineer                                            1\n",
       "Prospect and Research Analyst (Administrative Analyst/Specia...     1\n",
       "Machine Learning Engineer (Deep Learning)                           1\n",
       "Assistant Vice President of Research and Enrollment Informat...     1\n",
       "Data Scientist - Healthcare                                         1\n",
       "Name: JobTitle, dtype: int64"
      ]
     },
     "execution_count": 29,
     "metadata": {},
     "output_type": "execute_result"
    }
   ],
   "source": [
    "dfs['JobTitle'].value_counts()"
   ]
  },
  {
   "cell_type": "code",
   "execution_count": 30,
   "metadata": {},
   "outputs": [
    {
     "data": {
      "text/plain": [
       "Jobspring Partners                                       18\n",
       "Harnham                                                  12\n",
       "Workbridge Associates                                    11\n",
       "Selby Jennings                                           10\n",
       "University of Washington Medical Center                   9\n",
       "University of Texas at Austin                             7\n",
       "University of Washington                                  6\n",
       "Intermountain Healthcare                                  5\n",
       "Lighthouse Recruiting                                     5\n",
       "University of Utah                                        4\n",
       "Texas Department of Public Safety                         3\n",
       "LT                                                        3\n",
       "Kennedy Unlimited Inc, Professional Staffing              3\n",
       "ZeroChaos                                                 3\n",
       "Los Angeles County Department of Human Resources          3\n",
       "Sherpa LLC                                                2\n",
       "University of Minnesota                                   2\n",
       "LB & Associates                                           2\n",
       "MACP Los Angeles                                          2\n",
       "Regal Professional Services                               2\n",
       "Analytic Recruiting                                       2\n",
       "Cottonwood Financial                                      2\n",
       "DEPT OF HEALTH/MENTAL HYGIENE                             2\n",
       "Tandem Recruiting Group                                   2\n",
       "University of Texas at Dallas                             2\n",
       "UNC Charlotte                                             2\n",
       "Slingshot Aerospace                                       2\n",
       "Signature Science, LLC                                    2\n",
       "Baylor College of Medicine                                2\n",
       "Accountemps                                               1\n",
       "                                                         ..\n",
       "Strategic Employment Partners                             1\n",
       "RemX Specialty Staffing                                   1\n",
       "The LaSalle Network                                       1\n",
       "State of Colorado Job Opportunities                       1\n",
       "California State University, Los Angeles                  1\n",
       "State of Minnesota                                        1\n",
       "Medlinks Cost Containment                                 1\n",
       "Denver Public Schools                                     1\n",
       "Hart                                                      1\n",
       "Green Key Resources                                       1\n",
       "California State University - Fullerton                   1\n",
       "MD Anderson Cancer Center                                 1\n",
       "Rosalind Franklin University of Medicine and Scien...     1\n",
       "Engage Partners                                           1\n",
       "University of Chicago                                     1\n",
       "City of Seattle                                           1\n",
       "Vice Media Inc.                                           1\n",
       "Smith Hanley Associates                                   1\n",
       "Smarkets                                                  1\n",
       "W3Global                                                  1\n",
       "tronc (formerly Tribune Publishing)                       1\n",
       "Weyerhaeuser                                              1\n",
       "CI Radar                                                  1\n",
       "Domeyard LP                                               1\n",
       "Landover Assocates                                        1\n",
       "King County                                               1\n",
       "Long Beach City College                                   1\n",
       "Research Foundation of The City University of New...      1\n",
       "Averity                                                   1\n",
       "ConSol Partners                                           1\n",
       "Name: Company, dtype: int64"
      ]
     },
     "execution_count": 30,
     "metadata": {},
     "output_type": "execute_result"
    }
   ],
   "source": [
    "dfs['Company'].value_counts()"
   ]
  },
  {
   "cell_type": "code",
   "execution_count": 31,
   "metadata": {},
   "outputs": [
    {
     "data": {
      "text/plain": [
       "$140,000 a year               10\n",
       "$120,000 a year                9\n",
       "$150,000 a year                8\n",
       "$170,000 a year                8\n",
       "$100,000 a year                7\n",
       "$200,000 a year                6\n",
       "$160,000 a year                6\n",
       "$20 an hour                    5\n",
       "$130,000 a year                5\n",
       "$60,000 - $80,000 a year       3\n",
       "$100,000 - $130,000 a year     3\n",
       "$48,000 a year                 3\n",
       "$50,000 a year                 3\n",
       "$21.26 an hour                 3\n",
       "$155,000 a year                2\n",
       "$140,000 - $160,000 a year     2\n",
       "$60,000 - $70,000 a year       2\n",
       "$4,319 - $6,183 a month        2\n",
       "$60,000 a year                 2\n",
       "$150,000 - $200,000 a year     2\n",
       "$98 an hour                    2\n",
       "$145,000 a year                2\n",
       "$110,000 a year                2\n",
       "$65,000 a year                 2\n",
       "$165,000 a year                2\n",
       "$60,700 - $115,300 a year      2\n",
       "$17 an hour                    2\n",
       "$3,635 - $4,888 a month        2\n",
       "$120,000 - $140,000 a year     2\n",
       "$14 - $15 an hour              2\n",
       "                              ..\n",
       "$55,000 - $155,000 a year      1\n",
       "$60,000 - $90,000 a year       1\n",
       "$25 - $30 an hour              1\n",
       "$33 an hour                    1\n",
       "$87,768 - $113,838 a year      1\n",
       "$140,000 - $180,000 a year     1\n",
       "$115,000 a year                1\n",
       "$30,000 - $80,000 a year       1\n",
       "$5,988 - $6,322 a month        1\n",
       "$65,000 - $85,000 a year       1\n",
       "$68,000 - $90,000 a year       1\n",
       "$85,000 - $110,000 a year      1\n",
       "$39,828 - $43,812 a year       1\n",
       "$22 - $28 an hour              1\n",
       "$12 an hour                    1\n",
       "$5,233 - $7,410 a month        1\n",
       "$230,000 a year                1\n",
       "$48.39 an hour                 1\n",
       "$27.61 an hour                 1\n",
       "$125,000 - $175,000 a year     1\n",
       "$16 an hour                    1\n",
       "$90,000 a year                 1\n",
       "$18.66 - $26.99 an hour        1\n",
       "$3,077 - $4,113 a month        1\n",
       "$75,000 - $125,000 a year      1\n",
       "$30,000 - $32,000 a year       1\n",
       "$40 an hour                    1\n",
       "$98,000 - $153,000 a year      1\n",
       "$20 - $22 an hour              1\n",
       "$50,000 - $60,000 a year       1\n",
       "Name: Salary, dtype: int64"
      ]
     },
     "execution_count": 31,
     "metadata": {},
     "output_type": "execute_result"
    }
   ],
   "source": [
    "dfs['Salary'].value_counts()"
   ]
  },
  {
   "cell_type": "code",
   "execution_count": 32,
   "metadata": {},
   "outputs": [
    {
     "name": "stderr",
     "output_type": "stream",
     "text": [
      "/Users/ct/anaconda/lib/python2.7/site-packages/ipykernel/__main__.py:2: SettingWithCopyWarning: \n",
      "A value is trying to be set on a copy of a slice from a DataFrame.\n",
      "Try using .loc[row_indexer,col_indexer] = value instead\n",
      "\n",
      "See the caveats in the documentation: http://pandas.pydata.org/pandas-docs/stable/indexing.html#indexing-view-versus-copy\n",
      "  from ipykernel import kernelapp as app\n",
      "/Users/ct/anaconda/lib/python2.7/site-packages/ipykernel/__main__.py:3: SettingWithCopyWarning: \n",
      "A value is trying to be set on a copy of a slice from a DataFrame.\n",
      "Try using .loc[row_indexer,col_indexer] = value instead\n",
      "\n",
      "See the caveats in the documentation: http://pandas.pydata.org/pandas-docs/stable/indexing.html#indexing-view-versus-copy\n",
      "  app.launch_new_instance()\n"
     ]
    }
   ],
   "source": [
    "# cleaning salary\n",
    "dfs['Salary'] = dfs['Salary'].apply(lambda x: x.replace('$',''))\n",
    "dfs['Salary'] = dfs['Salary'].apply(lambda x: x.replace(',',''))"
   ]
  },
  {
   "cell_type": "code",
   "execution_count": 33,
   "metadata": {},
   "outputs": [],
   "source": [
    "# resetting the dataframe index\n",
    "dfs.reset_index(inplace=True, drop=True)"
   ]
  },
  {
   "cell_type": "code",
   "execution_count": 34,
   "metadata": {},
   "outputs": [
    {
     "data": {
      "text/html": [
       "<div>\n",
       "<table border=\"1\" class=\"dataframe\">\n",
       "  <thead>\n",
       "    <tr style=\"text-align: right;\">\n",
       "      <th></th>\n",
       "      <th>JobTitle</th>\n",
       "      <th>Company</th>\n",
       "      <th>Location</th>\n",
       "      <th>Salary</th>\n",
       "      <th>Summary</th>\n",
       "    </tr>\n",
       "  </thead>\n",
       "  <tbody>\n",
       "    <tr>\n",
       "      <th>0</th>\n",
       "      <td>Biostatistics/Bioinformatics Research Scientist</td>\n",
       "      <td>UNC Charlotte</td>\n",
       "      <td>Charlotte</td>\n",
       "      <td>60000 - 80000 a year</td>\n",
       "      <td>Genetics/genomics data analysis (esp. Enjoy co...</td>\n",
       "    </tr>\n",
       "    <tr>\n",
       "      <th>1</th>\n",
       "      <td>Digital Marketing (Data Scientist)</td>\n",
       "      <td>Kennedy Unlimited Inc, Professional Staffing</td>\n",
       "      <td>Charlotte</td>\n",
       "      <td>100000 - 130000 a year</td>\n",
       "      <td>Responsibilities of the Digital Marketing (Dat...</td>\n",
       "    </tr>\n",
       "    <tr>\n",
       "      <th>2</th>\n",
       "      <td>Senior Quantitative Finance Analyst</td>\n",
       "      <td>iiTS</td>\n",
       "      <td>Charlotte</td>\n",
       "      <td>140000 a year</td>\n",
       "      <td>Assessing conceptual foundations of a model, m...</td>\n",
       "    </tr>\n",
       "    <tr>\n",
       "      <th>3</th>\n",
       "      <td>Sr Hadoop Architect/Data Scientist</td>\n",
       "      <td>Sherpa LLC</td>\n",
       "      <td>Charlotte</td>\n",
       "      <td>98 an hour</td>\n",
       "      <td>Experience with batch and streaming data proce...</td>\n",
       "    </tr>\n",
       "    <tr>\n",
       "      <th>4</th>\n",
       "      <td>SVP Quantitative Analyst - Multiple Vacancies</td>\n",
       "      <td>Selby Jennings</td>\n",
       "      <td>Charlotte</td>\n",
       "      <td>150000 a year</td>\n",
       "      <td>A Top Tier Investment Bank is looking for an e...</td>\n",
       "    </tr>\n",
       "  </tbody>\n",
       "</table>\n",
       "</div>"
      ],
      "text/plain": [
       "                                          JobTitle  \\\n",
       "0  Biostatistics/Bioinformatics Research Scientist   \n",
       "1               Digital Marketing (Data Scientist)   \n",
       "2              Senior Quantitative Finance Analyst   \n",
       "3               Sr Hadoop Architect/Data Scientist   \n",
       "4    SVP Quantitative Analyst - Multiple Vacancies   \n",
       "\n",
       "                                        Company   Location  \\\n",
       "0                                 UNC Charlotte  Charlotte   \n",
       "1  Kennedy Unlimited Inc, Professional Staffing  Charlotte   \n",
       "2                                          iiTS  Charlotte   \n",
       "3                                    Sherpa LLC  Charlotte   \n",
       "4                                Selby Jennings  Charlotte   \n",
       "\n",
       "                   Salary                                            Summary  \n",
       "0    60000 - 80000 a year  Genetics/genomics data analysis (esp. Enjoy co...  \n",
       "1  100000 - 130000 a year  Responsibilities of the Digital Marketing (Dat...  \n",
       "2           140000 a year  Assessing conceptual foundations of a model, m...  \n",
       "3              98 an hour  Experience with batch and streaming data proce...  \n",
       "4           150000 a year  A Top Tier Investment Bank is looking for an e...  "
      ]
     },
     "execution_count": 34,
     "metadata": {},
     "output_type": "execute_result"
    }
   ],
   "source": [
    "dfs.head()"
   ]
  },
  {
   "cell_type": "code",
   "execution_count": 35,
   "metadata": {},
   "outputs": [
    {
     "data": {
      "text/plain": [
       "140000 a year             10\n",
       "120000 a year              9\n",
       "150000 a year              8\n",
       "170000 a year              8\n",
       "100000 a year              7\n",
       "160000 a year              6\n",
       "200000 a year              6\n",
       "20 an hour                 5\n",
       "130000 a year              5\n",
       "60000 - 80000 a year       3\n",
       "48000 a year               3\n",
       "50000 a year               3\n",
       "21.26 an hour              3\n",
       "100000 - 130000 a year     3\n",
       "60000 a year               2\n",
       "105000 a year              2\n",
       "110000 a year              2\n",
       "3635 - 4888 a month        2\n",
       "80000 - 110000 a year      2\n",
       "57150 a year               2\n",
       "140000 - 160000 a year     2\n",
       "150000 - 200000 a year     2\n",
       "145000 a year              2\n",
       "17 an hour                 2\n",
       "165000 a year              2\n",
       "4319 - 6371 a month        2\n",
       "120000 - 140000 a year     2\n",
       "5400 - 6500 a month        2\n",
       "98 an hour                 2\n",
       "2977 - 3427 a month        2\n",
       "                          ..\n",
       "45000 - 50000 a year       1\n",
       "45 - 52 an hour            1\n",
       "4083 - 4696 a month        1\n",
       "33 an hour                 1\n",
       "22.50 an hour              1\n",
       "110000 - 180000 a year     1\n",
       "120000 - 160000 a year     1\n",
       "21.44 - 24.66 an hour      1\n",
       "25 - 30 an hour            1\n",
       "46579 - 61065 a year       1\n",
       "31600 - 58400 a year       1\n",
       "60000 - 90000 a year       1\n",
       "125000 - 175000 a year     1\n",
       "16 an hour                 1\n",
       "3007 - 4008 a month        1\n",
       "120000 - 165000 a year     1\n",
       "90000 - 120000 a year      1\n",
       "12 an hour                 1\n",
       "19.36 an hour              1\n",
       "5988 - 6322 a month        1\n",
       "70000 - 91000 a year       1\n",
       "2443 - 3223 a month        1\n",
       "100 an hour                1\n",
       "250000 a year              1\n",
       "2617 - 3461 a month        1\n",
       "58000 - 61000 a year       1\n",
       "30000 - 80000 a year       1\n",
       "7046 a month               1\n",
       "45000 - 65000 a year       1\n",
       "140000 - 180000 a year     1\n",
       "Name: Salary, dtype: int64"
      ]
     },
     "execution_count": 35,
     "metadata": {},
     "output_type": "execute_result"
    }
   ],
   "source": [
    "dfs['Salary'].value_counts()"
   ]
  },
  {
   "cell_type": "code",
   "execution_count": 36,
   "metadata": {},
   "outputs": [
    {
     "data": {
      "text/plain": [
       "JobTitle                              Senior Technician - CLM\n",
       "Company                                   Columbia University\n",
       "Location                                             New York\n",
       "Salary                                             886 a week\n",
       "Summary     He/she will be responsible for maintaining all...\n",
       "Name: 71, dtype: object"
      ]
     },
     "execution_count": 36,
     "metadata": {},
     "output_type": "execute_result"
    }
   ],
   "source": [
    "dfs.iloc[71]"
   ]
  },
  {
   "cell_type": "code",
   "execution_count": 37,
   "metadata": {},
   "outputs": [],
   "source": [
    "# creating a dataframe for postings with yearly salaries\n",
    "dfsyear=dfs[dfs['Salary'].str.contains(\"year\")]"
   ]
  },
  {
   "cell_type": "code",
   "execution_count": 38,
   "metadata": {},
   "outputs": [
    {
     "data": {
      "text/html": [
       "<div>\n",
       "<table border=\"1\" class=\"dataframe\">\n",
       "  <thead>\n",
       "    <tr style=\"text-align: right;\">\n",
       "      <th></th>\n",
       "      <th>JobTitle</th>\n",
       "      <th>Company</th>\n",
       "      <th>Location</th>\n",
       "      <th>Salary</th>\n",
       "      <th>Summary</th>\n",
       "    </tr>\n",
       "  </thead>\n",
       "  <tbody>\n",
       "    <tr>\n",
       "      <th>0</th>\n",
       "      <td>Biostatistics/Bioinformatics Research Scientist</td>\n",
       "      <td>UNC Charlotte</td>\n",
       "      <td>Charlotte</td>\n",
       "      <td>60000 - 80000 a year</td>\n",
       "      <td>Genetics/genomics data analysis (esp. Enjoy co...</td>\n",
       "    </tr>\n",
       "    <tr>\n",
       "      <th>1</th>\n",
       "      <td>Digital Marketing (Data Scientist)</td>\n",
       "      <td>Kennedy Unlimited Inc, Professional Staffing</td>\n",
       "      <td>Charlotte</td>\n",
       "      <td>100000 - 130000 a year</td>\n",
       "      <td>Responsibilities of the Digital Marketing (Dat...</td>\n",
       "    </tr>\n",
       "    <tr>\n",
       "      <th>2</th>\n",
       "      <td>Senior Quantitative Finance Analyst</td>\n",
       "      <td>iiTS</td>\n",
       "      <td>Charlotte</td>\n",
       "      <td>140000 a year</td>\n",
       "      <td>Assessing conceptual foundations of a model, m...</td>\n",
       "    </tr>\n",
       "    <tr>\n",
       "      <th>4</th>\n",
       "      <td>SVP Quantitative Analyst - Multiple Vacancies</td>\n",
       "      <td>Selby Jennings</td>\n",
       "      <td>Charlotte</td>\n",
       "      <td>150000 a year</td>\n",
       "      <td>A Top Tier Investment Bank is looking for an e...</td>\n",
       "    </tr>\n",
       "    <tr>\n",
       "      <th>5</th>\n",
       "      <td>Data Scientist</td>\n",
       "      <td>Oak Grove Partners</td>\n",
       "      <td>Charlotte</td>\n",
       "      <td>120000 - 140000 a year</td>\n",
       "      <td>Data Visualization Tools:. Facilitate fast and...</td>\n",
       "    </tr>\n",
       "  </tbody>\n",
       "</table>\n",
       "</div>"
      ],
      "text/plain": [
       "                                          JobTitle  \\\n",
       "0  Biostatistics/Bioinformatics Research Scientist   \n",
       "1               Digital Marketing (Data Scientist)   \n",
       "2              Senior Quantitative Finance Analyst   \n",
       "4    SVP Quantitative Analyst - Multiple Vacancies   \n",
       "5                                   Data Scientist   \n",
       "\n",
       "                                        Company   Location  \\\n",
       "0                                 UNC Charlotte  Charlotte   \n",
       "1  Kennedy Unlimited Inc, Professional Staffing  Charlotte   \n",
       "2                                          iiTS  Charlotte   \n",
       "4                                Selby Jennings  Charlotte   \n",
       "5                            Oak Grove Partners  Charlotte   \n",
       "\n",
       "                   Salary                                            Summary  \n",
       "0    60000 - 80000 a year  Genetics/genomics data analysis (esp. Enjoy co...  \n",
       "1  100000 - 130000 a year  Responsibilities of the Digital Marketing (Dat...  \n",
       "2           140000 a year  Assessing conceptual foundations of a model, m...  \n",
       "4           150000 a year  A Top Tier Investment Bank is looking for an e...  \n",
       "5  120000 - 140000 a year  Data Visualization Tools:. Facilitate fast and...  "
      ]
     },
     "execution_count": 38,
     "metadata": {},
     "output_type": "execute_result"
    }
   ],
   "source": [
    "dfsyear.head()"
   ]
  },
  {
   "cell_type": "code",
   "execution_count": 39,
   "metadata": {},
   "outputs": [
    {
     "name": "stderr",
     "output_type": "stream",
     "text": [
      "/Users/ct/anaconda/lib/python2.7/site-packages/ipykernel/__main__.py:2: SettingWithCopyWarning: \n",
      "A value is trying to be set on a copy of a slice from a DataFrame.\n",
      "Try using .loc[row_indexer,col_indexer] = value instead\n",
      "\n",
      "See the caveats in the documentation: http://pandas.pydata.org/pandas-docs/stable/indexing.html#indexing-view-versus-copy\n",
      "  from ipykernel import kernelapp as app\n"
     ]
    }
   ],
   "source": [
    "# cleaning salary column for yearly salaries dataframe\n",
    "dfsyear['Salary'] = dfsyear['Salary'].map(lambda x: x.rstrip(' a year'))"
   ]
  },
  {
   "cell_type": "code",
   "execution_count": 40,
   "metadata": {},
   "outputs": [
    {
     "data": {
      "text/html": [
       "<div>\n",
       "<table border=\"1\" class=\"dataframe\">\n",
       "  <thead>\n",
       "    <tr style=\"text-align: right;\">\n",
       "      <th></th>\n",
       "      <th>JobTitle</th>\n",
       "      <th>Company</th>\n",
       "      <th>Location</th>\n",
       "      <th>Salary</th>\n",
       "      <th>Summary</th>\n",
       "    </tr>\n",
       "  </thead>\n",
       "  <tbody>\n",
       "    <tr>\n",
       "      <th>0</th>\n",
       "      <td>Biostatistics/Bioinformatics Research Scientist</td>\n",
       "      <td>UNC Charlotte</td>\n",
       "      <td>Charlotte</td>\n",
       "      <td>60000 - 80000</td>\n",
       "      <td>Genetics/genomics data analysis (esp. Enjoy co...</td>\n",
       "    </tr>\n",
       "    <tr>\n",
       "      <th>1</th>\n",
       "      <td>Digital Marketing (Data Scientist)</td>\n",
       "      <td>Kennedy Unlimited Inc, Professional Staffing</td>\n",
       "      <td>Charlotte</td>\n",
       "      <td>100000 - 130000</td>\n",
       "      <td>Responsibilities of the Digital Marketing (Dat...</td>\n",
       "    </tr>\n",
       "    <tr>\n",
       "      <th>2</th>\n",
       "      <td>Senior Quantitative Finance Analyst</td>\n",
       "      <td>iiTS</td>\n",
       "      <td>Charlotte</td>\n",
       "      <td>140000</td>\n",
       "      <td>Assessing conceptual foundations of a model, m...</td>\n",
       "    </tr>\n",
       "    <tr>\n",
       "      <th>4</th>\n",
       "      <td>SVP Quantitative Analyst - Multiple Vacancies</td>\n",
       "      <td>Selby Jennings</td>\n",
       "      <td>Charlotte</td>\n",
       "      <td>150000</td>\n",
       "      <td>A Top Tier Investment Bank is looking for an e...</td>\n",
       "    </tr>\n",
       "    <tr>\n",
       "      <th>5</th>\n",
       "      <td>Data Scientist</td>\n",
       "      <td>Oak Grove Partners</td>\n",
       "      <td>Charlotte</td>\n",
       "      <td>120000 - 140000</td>\n",
       "      <td>Data Visualization Tools:. Facilitate fast and...</td>\n",
       "    </tr>\n",
       "  </tbody>\n",
       "</table>\n",
       "</div>"
      ],
      "text/plain": [
       "                                          JobTitle  \\\n",
       "0  Biostatistics/Bioinformatics Research Scientist   \n",
       "1               Digital Marketing (Data Scientist)   \n",
       "2              Senior Quantitative Finance Analyst   \n",
       "4    SVP Quantitative Analyst - Multiple Vacancies   \n",
       "5                                   Data Scientist   \n",
       "\n",
       "                                        Company   Location           Salary  \\\n",
       "0                                 UNC Charlotte  Charlotte    60000 - 80000   \n",
       "1  Kennedy Unlimited Inc, Professional Staffing  Charlotte  100000 - 130000   \n",
       "2                                          iiTS  Charlotte           140000   \n",
       "4                                Selby Jennings  Charlotte           150000   \n",
       "5                            Oak Grove Partners  Charlotte  120000 - 140000   \n",
       "\n",
       "                                             Summary  \n",
       "0  Genetics/genomics data analysis (esp. Enjoy co...  \n",
       "1  Responsibilities of the Digital Marketing (Dat...  \n",
       "2  Assessing conceptual foundations of a model, m...  \n",
       "4  A Top Tier Investment Bank is looking for an e...  \n",
       "5  Data Visualization Tools:. Facilitate fast and...  "
      ]
     },
     "execution_count": 40,
     "metadata": {},
     "output_type": "execute_result"
    }
   ],
   "source": [
    "dfsyear.head()"
   ]
  },
  {
   "cell_type": "code",
   "execution_count": 41,
   "metadata": {},
   "outputs": [
    {
     "name": "stderr",
     "output_type": "stream",
     "text": [
      "/Users/ct/anaconda/lib/python2.7/site-packages/ipykernel/__main__.py:2: SettingWithCopyWarning: \n",
      "A value is trying to be set on a copy of a slice from a DataFrame.\n",
      "Try using .loc[row_indexer,col_indexer] = value instead\n",
      "\n",
      "See the caveats in the documentation: http://pandas.pydata.org/pandas-docs/stable/indexing.html#indexing-view-versus-copy\n",
      "  from ipykernel import kernelapp as app\n"
     ]
    }
   ],
   "source": [
    "# using split to separate salary numbers so that i can do math on them\n",
    "dfsyear['Salary'] = dfsyear['Salary'].map(lambda x: x.split(' - '))"
   ]
  },
  {
   "cell_type": "code",
   "execution_count": 42,
   "metadata": {},
   "outputs": [
    {
     "data": {
      "text/html": [
       "<div>\n",
       "<table border=\"1\" class=\"dataframe\">\n",
       "  <thead>\n",
       "    <tr style=\"text-align: right;\">\n",
       "      <th></th>\n",
       "      <th>JobTitle</th>\n",
       "      <th>Company</th>\n",
       "      <th>Location</th>\n",
       "      <th>Salary</th>\n",
       "      <th>Summary</th>\n",
       "    </tr>\n",
       "  </thead>\n",
       "  <tbody>\n",
       "    <tr>\n",
       "      <th>0</th>\n",
       "      <td>Biostatistics/Bioinformatics Research Scientist</td>\n",
       "      <td>UNC Charlotte</td>\n",
       "      <td>Charlotte</td>\n",
       "      <td>[60000, 80000]</td>\n",
       "      <td>Genetics/genomics data analysis (esp. Enjoy co...</td>\n",
       "    </tr>\n",
       "    <tr>\n",
       "      <th>1</th>\n",
       "      <td>Digital Marketing (Data Scientist)</td>\n",
       "      <td>Kennedy Unlimited Inc, Professional Staffing</td>\n",
       "      <td>Charlotte</td>\n",
       "      <td>[100000, 130000]</td>\n",
       "      <td>Responsibilities of the Digital Marketing (Dat...</td>\n",
       "    </tr>\n",
       "    <tr>\n",
       "      <th>2</th>\n",
       "      <td>Senior Quantitative Finance Analyst</td>\n",
       "      <td>iiTS</td>\n",
       "      <td>Charlotte</td>\n",
       "      <td>[140000]</td>\n",
       "      <td>Assessing conceptual foundations of a model, m...</td>\n",
       "    </tr>\n",
       "    <tr>\n",
       "      <th>4</th>\n",
       "      <td>SVP Quantitative Analyst - Multiple Vacancies</td>\n",
       "      <td>Selby Jennings</td>\n",
       "      <td>Charlotte</td>\n",
       "      <td>[150000]</td>\n",
       "      <td>A Top Tier Investment Bank is looking for an e...</td>\n",
       "    </tr>\n",
       "    <tr>\n",
       "      <th>5</th>\n",
       "      <td>Data Scientist</td>\n",
       "      <td>Oak Grove Partners</td>\n",
       "      <td>Charlotte</td>\n",
       "      <td>[120000, 140000]</td>\n",
       "      <td>Data Visualization Tools:. Facilitate fast and...</td>\n",
       "    </tr>\n",
       "  </tbody>\n",
       "</table>\n",
       "</div>"
      ],
      "text/plain": [
       "                                          JobTitle  \\\n",
       "0  Biostatistics/Bioinformatics Research Scientist   \n",
       "1               Digital Marketing (Data Scientist)   \n",
       "2              Senior Quantitative Finance Analyst   \n",
       "4    SVP Quantitative Analyst - Multiple Vacancies   \n",
       "5                                   Data Scientist   \n",
       "\n",
       "                                        Company   Location            Salary  \\\n",
       "0                                 UNC Charlotte  Charlotte    [60000, 80000]   \n",
       "1  Kennedy Unlimited Inc, Professional Staffing  Charlotte  [100000, 130000]   \n",
       "2                                          iiTS  Charlotte          [140000]   \n",
       "4                                Selby Jennings  Charlotte          [150000]   \n",
       "5                            Oak Grove Partners  Charlotte  [120000, 140000]   \n",
       "\n",
       "                                             Summary  \n",
       "0  Genetics/genomics data analysis (esp. Enjoy co...  \n",
       "1  Responsibilities of the Digital Marketing (Dat...  \n",
       "2  Assessing conceptual foundations of a model, m...  \n",
       "4  A Top Tier Investment Bank is looking for an e...  \n",
       "5  Data Visualization Tools:. Facilitate fast and...  "
      ]
     },
     "execution_count": 42,
     "metadata": {},
     "output_type": "execute_result"
    }
   ],
   "source": [
    "dfsyear.head()"
   ]
  },
  {
   "cell_type": "code",
   "execution_count": 43,
   "metadata": {
    "collapsed": true
   },
   "outputs": [],
   "source": [
    "# this function calculates the yearly salary if a range is given\n",
    "# i decided to go with the average of the 2 numbers\n",
    "\n",
    "def yearcalc(x):\n",
    "    if len(x)==2:\n",
    "        avg=(int(x[0])+int(x[1]))/2\n",
    "        return avg\n",
    "    else:\n",
    "        sal=int(x[0])\n",
    "        return sal"
   ]
  },
  {
   "cell_type": "code",
   "execution_count": 44,
   "metadata": {},
   "outputs": [
    {
     "name": "stderr",
     "output_type": "stream",
     "text": [
      "/Users/ct/anaconda/lib/python2.7/site-packages/ipykernel/__main__.py:2: SettingWithCopyWarning: \n",
      "A value is trying to be set on a copy of a slice from a DataFrame.\n",
      "Try using .loc[row_indexer,col_indexer] = value instead\n",
      "\n",
      "See the caveats in the documentation: http://pandas.pydata.org/pandas-docs/stable/indexing.html#indexing-view-versus-copy\n",
      "  from ipykernel import kernelapp as app\n"
     ]
    }
   ],
   "source": [
    "# using the above function to make the salary column a uniform one. with each row having 1 integer\n",
    "dfsyear['Salary'] = dfsyear['Salary'].apply(lambda x: yearcalc(x))"
   ]
  },
  {
   "cell_type": "code",
   "execution_count": 45,
   "metadata": {},
   "outputs": [
    {
     "data": {
      "text/plain": [
       "(162, 5)"
      ]
     },
     "execution_count": 45,
     "metadata": {},
     "output_type": "execute_result"
    }
   ],
   "source": [
    "dfsyear.shape"
   ]
  },
  {
   "cell_type": "code",
   "execution_count": 46,
   "metadata": {},
   "outputs": [
    {
     "data": {
      "text/html": [
       "<div>\n",
       "<table border=\"1\" class=\"dataframe\">\n",
       "  <thead>\n",
       "    <tr style=\"text-align: right;\">\n",
       "      <th></th>\n",
       "      <th>JobTitle</th>\n",
       "      <th>Company</th>\n",
       "      <th>Location</th>\n",
       "      <th>Salary</th>\n",
       "      <th>Summary</th>\n",
       "    </tr>\n",
       "  </thead>\n",
       "  <tbody>\n",
       "    <tr>\n",
       "      <th>0</th>\n",
       "      <td>Biostatistics/Bioinformatics Research Scientist</td>\n",
       "      <td>UNC Charlotte</td>\n",
       "      <td>Charlotte</td>\n",
       "      <td>70000</td>\n",
       "      <td>Genetics/genomics data analysis (esp. Enjoy co...</td>\n",
       "    </tr>\n",
       "    <tr>\n",
       "      <th>1</th>\n",
       "      <td>Digital Marketing (Data Scientist)</td>\n",
       "      <td>Kennedy Unlimited Inc, Professional Staffing</td>\n",
       "      <td>Charlotte</td>\n",
       "      <td>115000</td>\n",
       "      <td>Responsibilities of the Digital Marketing (Dat...</td>\n",
       "    </tr>\n",
       "    <tr>\n",
       "      <th>2</th>\n",
       "      <td>Senior Quantitative Finance Analyst</td>\n",
       "      <td>iiTS</td>\n",
       "      <td>Charlotte</td>\n",
       "      <td>140000</td>\n",
       "      <td>Assessing conceptual foundations of a model, m...</td>\n",
       "    </tr>\n",
       "    <tr>\n",
       "      <th>4</th>\n",
       "      <td>SVP Quantitative Analyst - Multiple Vacancies</td>\n",
       "      <td>Selby Jennings</td>\n",
       "      <td>Charlotte</td>\n",
       "      <td>150000</td>\n",
       "      <td>A Top Tier Investment Bank is looking for an e...</td>\n",
       "    </tr>\n",
       "    <tr>\n",
       "      <th>5</th>\n",
       "      <td>Data Scientist</td>\n",
       "      <td>Oak Grove Partners</td>\n",
       "      <td>Charlotte</td>\n",
       "      <td>130000</td>\n",
       "      <td>Data Visualization Tools:. Facilitate fast and...</td>\n",
       "    </tr>\n",
       "  </tbody>\n",
       "</table>\n",
       "</div>"
      ],
      "text/plain": [
       "                                          JobTitle  \\\n",
       "0  Biostatistics/Bioinformatics Research Scientist   \n",
       "1               Digital Marketing (Data Scientist)   \n",
       "2              Senior Quantitative Finance Analyst   \n",
       "4    SVP Quantitative Analyst - Multiple Vacancies   \n",
       "5                                   Data Scientist   \n",
       "\n",
       "                                        Company   Location  Salary  \\\n",
       "0                                 UNC Charlotte  Charlotte   70000   \n",
       "1  Kennedy Unlimited Inc, Professional Staffing  Charlotte  115000   \n",
       "2                                          iiTS  Charlotte  140000   \n",
       "4                                Selby Jennings  Charlotte  150000   \n",
       "5                            Oak Grove Partners  Charlotte  130000   \n",
       "\n",
       "                                             Summary  \n",
       "0  Genetics/genomics data analysis (esp. Enjoy co...  \n",
       "1  Responsibilities of the Digital Marketing (Dat...  \n",
       "2  Assessing conceptual foundations of a model, m...  \n",
       "4  A Top Tier Investment Bank is looking for an e...  \n",
       "5  Data Visualization Tools:. Facilitate fast and...  "
      ]
     },
     "execution_count": 46,
     "metadata": {},
     "output_type": "execute_result"
    }
   ],
   "source": [
    "# checking to see if my cleaning worked\n",
    "dfsyear.head()"
   ]
  },
  {
   "cell_type": "code",
   "execution_count": 47,
   "metadata": {},
   "outputs": [
    {
     "name": "stderr",
     "output_type": "stream",
     "text": [
      "/Users/ct/anaconda/lib/python2.7/site-packages/ipykernel/__main__.py:7: SettingWithCopyWarning: \n",
      "A value is trying to be set on a copy of a slice from a DataFrame.\n",
      "Try using .loc[row_indexer,col_indexer] = value instead\n",
      "\n",
      "See the caveats in the documentation: http://pandas.pydata.org/pandas-docs/stable/indexing.html#indexing-view-versus-copy\n"
     ]
    },
    {
     "data": {
      "text/html": [
       "<div>\n",
       "<table border=\"1\" class=\"dataframe\">\n",
       "  <thead>\n",
       "    <tr style=\"text-align: right;\">\n",
       "      <th></th>\n",
       "      <th>JobTitle</th>\n",
       "      <th>Company</th>\n",
       "      <th>Location</th>\n",
       "      <th>Salary</th>\n",
       "      <th>Summary</th>\n",
       "    </tr>\n",
       "  </thead>\n",
       "  <tbody>\n",
       "    <tr>\n",
       "      <th>19</th>\n",
       "      <td>Research Analyst II</td>\n",
       "      <td>Dallas County Community College District</td>\n",
       "      <td>Arlington</td>\n",
       "      <td>4083 - 4696</td>\n",
       "      <td>Processes and interprets data from a variety o...</td>\n",
       "    </tr>\n",
       "    <tr>\n",
       "      <th>22</th>\n",
       "      <td>Sr. Technical Recruiter</td>\n",
       "      <td>Afactory HUB, Inc</td>\n",
       "      <td>Arlington</td>\n",
       "      <td>5000</td>\n",
       "      <td>Product Managers, Data Scientists, Network Eng...</td>\n",
       "    </tr>\n",
       "    <tr>\n",
       "      <th>129</th>\n",
       "      <td>Educational Assessment Research Analyst I</td>\n",
       "      <td>Long Beach City College</td>\n",
       "      <td>Los Angeles</td>\n",
       "      <td>4634 - 5717</td>\n",
       "      <td>Maintains files/records and monitors data inte...</td>\n",
       "    </tr>\n",
       "    <tr>\n",
       "      <th>137</th>\n",
       "      <td>CLINICAL LABORATORY SCIENTIST I (Blood Bank)</td>\n",
       "      <td>Los Angeles County Department of Human Resources</td>\n",
       "      <td>Los Angeles</td>\n",
       "      <td>7046</td>\n",
       "      <td>Enters test results, quality control and impro...</td>\n",
       "    </tr>\n",
       "    <tr>\n",
       "      <th>138</th>\n",
       "      <td>CLINICAL LABORATORY SCIENTIST I (North County)</td>\n",
       "      <td>Los Angeles County Department of Human Resources</td>\n",
       "      <td>Los Angeles</td>\n",
       "      <td>5988 - 6322</td>\n",
       "      <td>Enters test results, quality control and impro...</td>\n",
       "    </tr>\n",
       "  </tbody>\n",
       "</table>\n",
       "</div>"
      ],
      "text/plain": [
       "                                           JobTitle  \\\n",
       "19                              Research Analyst II   \n",
       "22                          Sr. Technical Recruiter   \n",
       "129       Educational Assessment Research Analyst I   \n",
       "137    CLINICAL LABORATORY SCIENTIST I (Blood Bank)   \n",
       "138  CLINICAL LABORATORY SCIENTIST I (North County)   \n",
       "\n",
       "                                              Company     Location  \\\n",
       "19           Dallas County Community College District    Arlington   \n",
       "22                                  Afactory HUB, Inc    Arlington   \n",
       "129                           Long Beach City College  Los Angeles   \n",
       "137  Los Angeles County Department of Human Resources  Los Angeles   \n",
       "138  Los Angeles County Department of Human Resources  Los Angeles   \n",
       "\n",
       "          Salary                                            Summary  \n",
       "19   4083 - 4696  Processes and interprets data from a variety o...  \n",
       "22          5000  Product Managers, Data Scientists, Network Eng...  \n",
       "129  4634 - 5717  Maintains files/records and monitors data inte...  \n",
       "137         7046  Enters test results, quality control and impro...  \n",
       "138  5988 - 6322  Enters test results, quality control and impro...  "
      ]
     },
     "execution_count": 47,
     "metadata": {},
     "output_type": "execute_result"
    }
   ],
   "source": [
    "# repeating the process above, this time for monthly salaries.\n",
    "# if there were more postings with salaries i would have dropped\n",
    "# all non-yearly salary entries but with such few entries I converted\n",
    "# everything to yearly salary\n",
    "\n",
    "dfsmonth=dfs[dfs['Salary'].str.contains(\"month\")]\n",
    "dfsmonth['Salary'] = dfsmonth['Salary'].map(lambda x: x.rstrip(' a month'))\n",
    "dfsmonth.head()"
   ]
  },
  {
   "cell_type": "code",
   "execution_count": 48,
   "metadata": {},
   "outputs": [
    {
     "name": "stderr",
     "output_type": "stream",
     "text": [
      "/Users/ct/anaconda/lib/python2.7/site-packages/ipykernel/__main__.py:1: SettingWithCopyWarning: \n",
      "A value is trying to be set on a copy of a slice from a DataFrame.\n",
      "Try using .loc[row_indexer,col_indexer] = value instead\n",
      "\n",
      "See the caveats in the documentation: http://pandas.pydata.org/pandas-docs/stable/indexing.html#indexing-view-versus-copy\n",
      "  if __name__ == '__main__':\n"
     ]
    }
   ],
   "source": [
    "dfsmonth['Salary'] = dfsmonth['Salary'].map(lambda x: x.split(' - '))"
   ]
  },
  {
   "cell_type": "code",
   "execution_count": 49,
   "metadata": {},
   "outputs": [
    {
     "data": {
      "text/plain": [
       "(34, 5)"
      ]
     },
     "execution_count": 49,
     "metadata": {},
     "output_type": "execute_result"
    }
   ],
   "source": [
    "dfsmonth.shape"
   ]
  },
  {
   "cell_type": "code",
   "execution_count": 50,
   "metadata": {},
   "outputs": [
    {
     "data": {
      "text/html": [
       "<div>\n",
       "<table border=\"1\" class=\"dataframe\">\n",
       "  <thead>\n",
       "    <tr style=\"text-align: right;\">\n",
       "      <th></th>\n",
       "      <th>JobTitle</th>\n",
       "      <th>Company</th>\n",
       "      <th>Location</th>\n",
       "      <th>Salary</th>\n",
       "      <th>Summary</th>\n",
       "    </tr>\n",
       "  </thead>\n",
       "  <tbody>\n",
       "    <tr>\n",
       "      <th>19</th>\n",
       "      <td>Research Analyst II</td>\n",
       "      <td>Dallas County Community College District</td>\n",
       "      <td>Arlington</td>\n",
       "      <td>[4083, 4696]</td>\n",
       "      <td>Processes and interprets data from a variety o...</td>\n",
       "    </tr>\n",
       "    <tr>\n",
       "      <th>22</th>\n",
       "      <td>Sr. Technical Recruiter</td>\n",
       "      <td>Afactory HUB, Inc</td>\n",
       "      <td>Arlington</td>\n",
       "      <td>[5000]</td>\n",
       "      <td>Product Managers, Data Scientists, Network Eng...</td>\n",
       "    </tr>\n",
       "    <tr>\n",
       "      <th>129</th>\n",
       "      <td>Educational Assessment Research Analyst I</td>\n",
       "      <td>Long Beach City College</td>\n",
       "      <td>Los Angeles</td>\n",
       "      <td>[4634, 5717]</td>\n",
       "      <td>Maintains files/records and monitors data inte...</td>\n",
       "    </tr>\n",
       "    <tr>\n",
       "      <th>137</th>\n",
       "      <td>CLINICAL LABORATORY SCIENTIST I (Blood Bank)</td>\n",
       "      <td>Los Angeles County Department of Human Resources</td>\n",
       "      <td>Los Angeles</td>\n",
       "      <td>[7046]</td>\n",
       "      <td>Enters test results, quality control and impro...</td>\n",
       "    </tr>\n",
       "    <tr>\n",
       "      <th>138</th>\n",
       "      <td>CLINICAL LABORATORY SCIENTIST I (North County)</td>\n",
       "      <td>Los Angeles County Department of Human Resources</td>\n",
       "      <td>Los Angeles</td>\n",
       "      <td>[5988, 6322]</td>\n",
       "      <td>Enters test results, quality control and impro...</td>\n",
       "    </tr>\n",
       "  </tbody>\n",
       "</table>\n",
       "</div>"
      ],
      "text/plain": [
       "                                           JobTitle  \\\n",
       "19                              Research Analyst II   \n",
       "22                          Sr. Technical Recruiter   \n",
       "129       Educational Assessment Research Analyst I   \n",
       "137    CLINICAL LABORATORY SCIENTIST I (Blood Bank)   \n",
       "138  CLINICAL LABORATORY SCIENTIST I (North County)   \n",
       "\n",
       "                                              Company     Location  \\\n",
       "19           Dallas County Community College District    Arlington   \n",
       "22                                  Afactory HUB, Inc    Arlington   \n",
       "129                           Long Beach City College  Los Angeles   \n",
       "137  Los Angeles County Department of Human Resources  Los Angeles   \n",
       "138  Los Angeles County Department of Human Resources  Los Angeles   \n",
       "\n",
       "           Salary                                            Summary  \n",
       "19   [4083, 4696]  Processes and interprets data from a variety o...  \n",
       "22         [5000]  Product Managers, Data Scientists, Network Eng...  \n",
       "129  [4634, 5717]  Maintains files/records and monitors data inte...  \n",
       "137        [7046]  Enters test results, quality control and impro...  \n",
       "138  [5988, 6322]  Enters test results, quality control and impro...  "
      ]
     },
     "execution_count": 50,
     "metadata": {},
     "output_type": "execute_result"
    }
   ],
   "source": [
    "dfsmonth.head()"
   ]
  },
  {
   "cell_type": "code",
   "execution_count": 51,
   "metadata": {
    "collapsed": true
   },
   "outputs": [],
   "source": [
    "def monthcalc(x):\n",
    "    if len(x)==2:\n",
    "        avg=((int(x[0])+int(x[1]))/2)*12\n",
    "        return avg\n",
    "    else:\n",
    "        sal=(int(x[0]))*12\n",
    "        return sal"
   ]
  },
  {
   "cell_type": "code",
   "execution_count": 52,
   "metadata": {},
   "outputs": [
    {
     "name": "stderr",
     "output_type": "stream",
     "text": [
      "/Users/ct/anaconda/lib/python2.7/site-packages/ipykernel/__main__.py:1: SettingWithCopyWarning: \n",
      "A value is trying to be set on a copy of a slice from a DataFrame.\n",
      "Try using .loc[row_indexer,col_indexer] = value instead\n",
      "\n",
      "See the caveats in the documentation: http://pandas.pydata.org/pandas-docs/stable/indexing.html#indexing-view-versus-copy\n",
      "  if __name__ == '__main__':\n"
     ]
    }
   ],
   "source": [
    "dfsmonth['Salary'] = dfsmonth['Salary'].apply(lambda x: monthcalc(x))"
   ]
  },
  {
   "cell_type": "code",
   "execution_count": 53,
   "metadata": {},
   "outputs": [
    {
     "data": {
      "text/html": [
       "<div>\n",
       "<table border=\"1\" class=\"dataframe\">\n",
       "  <thead>\n",
       "    <tr style=\"text-align: right;\">\n",
       "      <th></th>\n",
       "      <th>JobTitle</th>\n",
       "      <th>Company</th>\n",
       "      <th>Location</th>\n",
       "      <th>Salary</th>\n",
       "      <th>Summary</th>\n",
       "    </tr>\n",
       "  </thead>\n",
       "  <tbody>\n",
       "    <tr>\n",
       "      <th>19</th>\n",
       "      <td>Research Analyst II</td>\n",
       "      <td>Dallas County Community College District</td>\n",
       "      <td>Arlington</td>\n",
       "      <td>52668</td>\n",
       "      <td>Processes and interprets data from a variety o...</td>\n",
       "    </tr>\n",
       "    <tr>\n",
       "      <th>22</th>\n",
       "      <td>Sr. Technical Recruiter</td>\n",
       "      <td>Afactory HUB, Inc</td>\n",
       "      <td>Arlington</td>\n",
       "      <td>60000</td>\n",
       "      <td>Product Managers, Data Scientists, Network Eng...</td>\n",
       "    </tr>\n",
       "    <tr>\n",
       "      <th>129</th>\n",
       "      <td>Educational Assessment Research Analyst I</td>\n",
       "      <td>Long Beach City College</td>\n",
       "      <td>Los Angeles</td>\n",
       "      <td>62100</td>\n",
       "      <td>Maintains files/records and monitors data inte...</td>\n",
       "    </tr>\n",
       "    <tr>\n",
       "      <th>137</th>\n",
       "      <td>CLINICAL LABORATORY SCIENTIST I (Blood Bank)</td>\n",
       "      <td>Los Angeles County Department of Human Resources</td>\n",
       "      <td>Los Angeles</td>\n",
       "      <td>84552</td>\n",
       "      <td>Enters test results, quality control and impro...</td>\n",
       "    </tr>\n",
       "    <tr>\n",
       "      <th>138</th>\n",
       "      <td>CLINICAL LABORATORY SCIENTIST I (North County)</td>\n",
       "      <td>Los Angeles County Department of Human Resources</td>\n",
       "      <td>Los Angeles</td>\n",
       "      <td>73860</td>\n",
       "      <td>Enters test results, quality control and impro...</td>\n",
       "    </tr>\n",
       "  </tbody>\n",
       "</table>\n",
       "</div>"
      ],
      "text/plain": [
       "                                           JobTitle  \\\n",
       "19                              Research Analyst II   \n",
       "22                          Sr. Technical Recruiter   \n",
       "129       Educational Assessment Research Analyst I   \n",
       "137    CLINICAL LABORATORY SCIENTIST I (Blood Bank)   \n",
       "138  CLINICAL LABORATORY SCIENTIST I (North County)   \n",
       "\n",
       "                                              Company     Location  Salary  \\\n",
       "19           Dallas County Community College District    Arlington   52668   \n",
       "22                                  Afactory HUB, Inc    Arlington   60000   \n",
       "129                           Long Beach City College  Los Angeles   62100   \n",
       "137  Los Angeles County Department of Human Resources  Los Angeles   84552   \n",
       "138  Los Angeles County Department of Human Resources  Los Angeles   73860   \n",
       "\n",
       "                                               Summary  \n",
       "19   Processes and interprets data from a variety o...  \n",
       "22   Product Managers, Data Scientists, Network Eng...  \n",
       "129  Maintains files/records and monitors data inte...  \n",
       "137  Enters test results, quality control and impro...  \n",
       "138  Enters test results, quality control and impro...  "
      ]
     },
     "execution_count": 53,
     "metadata": {},
     "output_type": "execute_result"
    }
   ],
   "source": [
    "dfsmonth.head()"
   ]
  },
  {
   "cell_type": "code",
   "execution_count": 54,
   "metadata": {},
   "outputs": [
    {
     "name": "stderr",
     "output_type": "stream",
     "text": [
      "/Users/ct/anaconda/lib/python2.7/site-packages/ipykernel/__main__.py:4: SettingWithCopyWarning: \n",
      "A value is trying to be set on a copy of a slice from a DataFrame.\n",
      "Try using .loc[row_indexer,col_indexer] = value instead\n",
      "\n",
      "See the caveats in the documentation: http://pandas.pydata.org/pandas-docs/stable/indexing.html#indexing-view-versus-copy\n",
      "/Users/ct/anaconda/lib/python2.7/site-packages/ipykernel/__main__.py:5: SettingWithCopyWarning: \n",
      "A value is trying to be set on a copy of a slice from a DataFrame.\n",
      "Try using .loc[row_indexer,col_indexer] = value instead\n",
      "\n",
      "See the caveats in the documentation: http://pandas.pydata.org/pandas-docs/stable/indexing.html#indexing-view-versus-copy\n"
     ]
    },
    {
     "data": {
      "text/html": [
       "<div>\n",
       "<table border=\"1\" class=\"dataframe\">\n",
       "  <thead>\n",
       "    <tr style=\"text-align: right;\">\n",
       "      <th></th>\n",
       "      <th>JobTitle</th>\n",
       "      <th>Company</th>\n",
       "      <th>Location</th>\n",
       "      <th>Salary</th>\n",
       "      <th>Summary</th>\n",
       "    </tr>\n",
       "  </thead>\n",
       "  <tbody>\n",
       "    <tr>\n",
       "      <th>3</th>\n",
       "      <td>Sr Hadoop Architect/Data Scientist</td>\n",
       "      <td>Sherpa LLC</td>\n",
       "      <td>Charlotte</td>\n",
       "      <td>[98]</td>\n",
       "      <td>Experience with batch and streaming data proce...</td>\n",
       "    </tr>\n",
       "    <tr>\n",
       "      <th>8</th>\n",
       "      <td>Sr Hadoop Architect/Data Scientist</td>\n",
       "      <td>Sherpa LLC</td>\n",
       "      <td>Charlotte</td>\n",
       "      <td>[98]</td>\n",
       "      <td>Experience with batch and streaming data proce...</td>\n",
       "    </tr>\n",
       "    <tr>\n",
       "      <th>9</th>\n",
       "      <td>Data Analyst-Statistical-Stf</td>\n",
       "      <td>Intermountain Healthcare</td>\n",
       "      <td>Salt Lake City</td>\n",
       "      <td>[33.83]</td>\n",
       "      <td>Compares data output to ensure data accuracy. ...</td>\n",
       "    </tr>\n",
       "    <tr>\n",
       "      <th>15</th>\n",
       "      <td>Med Tech/MLS-Registered - Park City Hospital -...</td>\n",
       "      <td>Intermountain Healthcare</td>\n",
       "      <td>Salt Lake City</td>\n",
       "      <td>[21.26]</td>\n",
       "      <td>Performs periodic regulatory reviews of qualit...</td>\n",
       "    </tr>\n",
       "    <tr>\n",
       "      <th>16</th>\n",
       "      <td>Med Tech/MLS-Registered - Park City Medical Ce...</td>\n",
       "      <td>Intermountain Healthcare</td>\n",
       "      <td>Salt Lake City</td>\n",
       "      <td>[21.26]</td>\n",
       "      <td>Performs periodic regulatory reviews of qualit...</td>\n",
       "    </tr>\n",
       "  </tbody>\n",
       "</table>\n",
       "</div>"
      ],
      "text/plain": [
       "                                             JobTitle  \\\n",
       "3                  Sr Hadoop Architect/Data Scientist   \n",
       "8                  Sr Hadoop Architect/Data Scientist   \n",
       "9                        Data Analyst-Statistical-Stf   \n",
       "15  Med Tech/MLS-Registered - Park City Hospital -...   \n",
       "16  Med Tech/MLS-Registered - Park City Medical Ce...   \n",
       "\n",
       "                     Company        Location   Salary  \\\n",
       "3                 Sherpa LLC       Charlotte     [98]   \n",
       "8                 Sherpa LLC       Charlotte     [98]   \n",
       "9   Intermountain Healthcare  Salt Lake City  [33.83]   \n",
       "15  Intermountain Healthcare  Salt Lake City  [21.26]   \n",
       "16  Intermountain Healthcare  Salt Lake City  [21.26]   \n",
       "\n",
       "                                              Summary  \n",
       "3   Experience with batch and streaming data proce...  \n",
       "8   Experience with batch and streaming data proce...  \n",
       "9   Compares data output to ensure data accuracy. ...  \n",
       "15  Performs periodic regulatory reviews of qualit...  \n",
       "16  Performs periodic regulatory reviews of qualit...  "
      ]
     },
     "execution_count": 54,
     "metadata": {},
     "output_type": "execute_result"
    }
   ],
   "source": [
    "# Repeating the process again for hourly rate\n",
    "\n",
    "dfshour=dfs[dfs['Salary'].str.contains(\"hour\")]\n",
    "dfshour['Salary'] = dfshour['Salary'].map(lambda x: x.rstrip(' an hour'))\n",
    "dfshour['Salary'] = dfshour['Salary'].map(lambda x: x.split(' - '))\n",
    "dfshour.head()"
   ]
  },
  {
   "cell_type": "code",
   "execution_count": 55,
   "metadata": {},
   "outputs": [],
   "source": [
    "def hourcalc(x):\n",
    "    if len(x)==2:\n",
    "        avg=((((float(x[0])+float(x[1]))/2)*8)*5)*52\n",
    "        return avg\n",
    "    else:\n",
    "        sal=float(x[0])*8*5*52\n",
    "        return sal"
   ]
  },
  {
   "cell_type": "code",
   "execution_count": 56,
   "metadata": {},
   "outputs": [
    {
     "name": "stderr",
     "output_type": "stream",
     "text": [
      "/Users/ct/anaconda/lib/python2.7/site-packages/ipykernel/__main__.py:1: SettingWithCopyWarning: \n",
      "A value is trying to be set on a copy of a slice from a DataFrame.\n",
      "Try using .loc[row_indexer,col_indexer] = value instead\n",
      "\n",
      "See the caveats in the documentation: http://pandas.pydata.org/pandas-docs/stable/indexing.html#indexing-view-versus-copy\n",
      "  if __name__ == '__main__':\n"
     ]
    }
   ],
   "source": [
    "dfshour['Salary'] = dfshour['Salary'].apply(lambda x: hourcalc(x))"
   ]
  },
  {
   "cell_type": "code",
   "execution_count": 57,
   "metadata": {},
   "outputs": [
    {
     "data": {
      "text/plain": [
       "(43, 5)"
      ]
     },
     "execution_count": 57,
     "metadata": {},
     "output_type": "execute_result"
    }
   ],
   "source": [
    "dfshour.shape"
   ]
  },
  {
   "cell_type": "code",
   "execution_count": 58,
   "metadata": {},
   "outputs": [
    {
     "data": {
      "text/html": [
       "<div>\n",
       "<table border=\"1\" class=\"dataframe\">\n",
       "  <thead>\n",
       "    <tr style=\"text-align: right;\">\n",
       "      <th></th>\n",
       "      <th>JobTitle</th>\n",
       "      <th>Company</th>\n",
       "      <th>Location</th>\n",
       "      <th>Salary</th>\n",
       "      <th>Summary</th>\n",
       "    </tr>\n",
       "  </thead>\n",
       "  <tbody>\n",
       "    <tr>\n",
       "      <th>3</th>\n",
       "      <td>Sr Hadoop Architect/Data Scientist</td>\n",
       "      <td>Sherpa LLC</td>\n",
       "      <td>Charlotte</td>\n",
       "      <td>203840.0</td>\n",
       "      <td>Experience with batch and streaming data proce...</td>\n",
       "    </tr>\n",
       "    <tr>\n",
       "      <th>8</th>\n",
       "      <td>Sr Hadoop Architect/Data Scientist</td>\n",
       "      <td>Sherpa LLC</td>\n",
       "      <td>Charlotte</td>\n",
       "      <td>203840.0</td>\n",
       "      <td>Experience with batch and streaming data proce...</td>\n",
       "    </tr>\n",
       "    <tr>\n",
       "      <th>9</th>\n",
       "      <td>Data Analyst-Statistical-Stf</td>\n",
       "      <td>Intermountain Healthcare</td>\n",
       "      <td>Salt Lake City</td>\n",
       "      <td>70366.4</td>\n",
       "      <td>Compares data output to ensure data accuracy. ...</td>\n",
       "    </tr>\n",
       "    <tr>\n",
       "      <th>15</th>\n",
       "      <td>Med Tech/MLS-Registered - Park City Hospital -...</td>\n",
       "      <td>Intermountain Healthcare</td>\n",
       "      <td>Salt Lake City</td>\n",
       "      <td>44220.8</td>\n",
       "      <td>Performs periodic regulatory reviews of qualit...</td>\n",
       "    </tr>\n",
       "    <tr>\n",
       "      <th>16</th>\n",
       "      <td>Med Tech/MLS-Registered - Park City Medical Ce...</td>\n",
       "      <td>Intermountain Healthcare</td>\n",
       "      <td>Salt Lake City</td>\n",
       "      <td>44220.8</td>\n",
       "      <td>Performs periodic regulatory reviews of qualit...</td>\n",
       "    </tr>\n",
       "  </tbody>\n",
       "</table>\n",
       "</div>"
      ],
      "text/plain": [
       "                                             JobTitle  \\\n",
       "3                  Sr Hadoop Architect/Data Scientist   \n",
       "8                  Sr Hadoop Architect/Data Scientist   \n",
       "9                        Data Analyst-Statistical-Stf   \n",
       "15  Med Tech/MLS-Registered - Park City Hospital -...   \n",
       "16  Med Tech/MLS-Registered - Park City Medical Ce...   \n",
       "\n",
       "                     Company        Location    Salary  \\\n",
       "3                 Sherpa LLC       Charlotte  203840.0   \n",
       "8                 Sherpa LLC       Charlotte  203840.0   \n",
       "9   Intermountain Healthcare  Salt Lake City   70366.4   \n",
       "15  Intermountain Healthcare  Salt Lake City   44220.8   \n",
       "16  Intermountain Healthcare  Salt Lake City   44220.8   \n",
       "\n",
       "                                              Summary  \n",
       "3   Experience with batch and streaming data proce...  \n",
       "8   Experience with batch and streaming data proce...  \n",
       "9   Compares data output to ensure data accuracy. ...  \n",
       "15  Performs periodic regulatory reviews of qualit...  \n",
       "16  Performs periodic regulatory reviews of qualit...  "
      ]
     },
     "execution_count": 58,
     "metadata": {},
     "output_type": "execute_result"
    }
   ],
   "source": [
    "dfshour.head()"
   ]
  },
  {
   "cell_type": "code",
   "execution_count": 59,
   "metadata": {},
   "outputs": [
    {
     "name": "stderr",
     "output_type": "stream",
     "text": [
      "/Users/ct/anaconda/lib/python2.7/site-packages/ipykernel/__main__.py:4: SettingWithCopyWarning: \n",
      "A value is trying to be set on a copy of a slice from a DataFrame.\n",
      "Try using .loc[row_indexer,col_indexer] = value instead\n",
      "\n",
      "See the caveats in the documentation: http://pandas.pydata.org/pandas-docs/stable/indexing.html#indexing-view-versus-copy\n",
      "/Users/ct/anaconda/lib/python2.7/site-packages/ipykernel/__main__.py:5: SettingWithCopyWarning: \n",
      "A value is trying to be set on a copy of a slice from a DataFrame.\n",
      "Try using .loc[row_indexer,col_indexer] = value instead\n",
      "\n",
      "See the caveats in the documentation: http://pandas.pydata.org/pandas-docs/stable/indexing.html#indexing-view-versus-copy\n"
     ]
    }
   ],
   "source": [
    "# repeating one more time for the weekly rate\n",
    "\n",
    "dfsweek=dfs[dfs['Salary'].str.contains(\"week\")]\n",
    "dfsweek['Salary'] = dfsweek['Salary'].map(lambda x: x.rstrip(' a week'))\n",
    "dfsweek['Salary'] = dfsweek['Salary'].map(lambda x: x.split(' - '))"
   ]
  },
  {
   "cell_type": "code",
   "execution_count": 60,
   "metadata": {},
   "outputs": [],
   "source": [
    "def weekcalc(x):\n",
    "    if len(x)==2:\n",
    "        avg=((int(x[0])+int(x[1]))/2)*52\n",
    "        return avg\n",
    "    else:\n",
    "        sal=int(x[0])*52\n",
    "        return sal"
   ]
  },
  {
   "cell_type": "code",
   "execution_count": 61,
   "metadata": {},
   "outputs": [
    {
     "name": "stderr",
     "output_type": "stream",
     "text": [
      "/Users/ct/anaconda/lib/python2.7/site-packages/ipykernel/__main__.py:1: SettingWithCopyWarning: \n",
      "A value is trying to be set on a copy of a slice from a DataFrame.\n",
      "Try using .loc[row_indexer,col_indexer] = value instead\n",
      "\n",
      "See the caveats in the documentation: http://pandas.pydata.org/pandas-docs/stable/indexing.html#indexing-view-versus-copy\n",
      "  if __name__ == '__main__':\n"
     ]
    }
   ],
   "source": [
    "dfsweek['Salary'] = dfsweek['Salary'].apply(lambda x: weekcalc(x))"
   ]
  },
  {
   "cell_type": "code",
   "execution_count": 62,
   "metadata": {},
   "outputs": [],
   "source": [
    "# concatenating all of the cleaned salaries back into 1 dataframe\n",
    "dfsx=pd.concat([dfsyear,dfsmonth,dfshour, dfsweek])"
   ]
  },
  {
   "cell_type": "code",
   "execution_count": 63,
   "metadata": {},
   "outputs": [
    {
     "data": {
      "text/html": [
       "<div>\n",
       "<table border=\"1\" class=\"dataframe\">\n",
       "  <thead>\n",
       "    <tr style=\"text-align: right;\">\n",
       "      <th></th>\n",
       "      <th>JobTitle</th>\n",
       "      <th>Company</th>\n",
       "      <th>Location</th>\n",
       "      <th>Salary</th>\n",
       "      <th>Summary</th>\n",
       "    </tr>\n",
       "  </thead>\n",
       "  <tbody>\n",
       "    <tr>\n",
       "      <th>0</th>\n",
       "      <td>Biostatistics/Bioinformatics Research Scientist</td>\n",
       "      <td>UNC Charlotte</td>\n",
       "      <td>Charlotte</td>\n",
       "      <td>70000.0</td>\n",
       "      <td>Genetics/genomics data analysis (esp. Enjoy co...</td>\n",
       "    </tr>\n",
       "    <tr>\n",
       "      <th>1</th>\n",
       "      <td>Digital Marketing (Data Scientist)</td>\n",
       "      <td>Kennedy Unlimited Inc, Professional Staffing</td>\n",
       "      <td>Charlotte</td>\n",
       "      <td>115000.0</td>\n",
       "      <td>Responsibilities of the Digital Marketing (Dat...</td>\n",
       "    </tr>\n",
       "    <tr>\n",
       "      <th>2</th>\n",
       "      <td>Senior Quantitative Finance Analyst</td>\n",
       "      <td>iiTS</td>\n",
       "      <td>Charlotte</td>\n",
       "      <td>140000.0</td>\n",
       "      <td>Assessing conceptual foundations of a model, m...</td>\n",
       "    </tr>\n",
       "    <tr>\n",
       "      <th>4</th>\n",
       "      <td>SVP Quantitative Analyst - Multiple Vacancies</td>\n",
       "      <td>Selby Jennings</td>\n",
       "      <td>Charlotte</td>\n",
       "      <td>150000.0</td>\n",
       "      <td>A Top Tier Investment Bank is looking for an e...</td>\n",
       "    </tr>\n",
       "    <tr>\n",
       "      <th>5</th>\n",
       "      <td>Data Scientist</td>\n",
       "      <td>Oak Grove Partners</td>\n",
       "      <td>Charlotte</td>\n",
       "      <td>130000.0</td>\n",
       "      <td>Data Visualization Tools:. Facilitate fast and...</td>\n",
       "    </tr>\n",
       "  </tbody>\n",
       "</table>\n",
       "</div>"
      ],
      "text/plain": [
       "                                          JobTitle  \\\n",
       "0  Biostatistics/Bioinformatics Research Scientist   \n",
       "1               Digital Marketing (Data Scientist)   \n",
       "2              Senior Quantitative Finance Analyst   \n",
       "4    SVP Quantitative Analyst - Multiple Vacancies   \n",
       "5                                   Data Scientist   \n",
       "\n",
       "                                        Company   Location    Salary  \\\n",
       "0                                 UNC Charlotte  Charlotte   70000.0   \n",
       "1  Kennedy Unlimited Inc, Professional Staffing  Charlotte  115000.0   \n",
       "2                                          iiTS  Charlotte  140000.0   \n",
       "4                                Selby Jennings  Charlotte  150000.0   \n",
       "5                            Oak Grove Partners  Charlotte  130000.0   \n",
       "\n",
       "                                             Summary  \n",
       "0  Genetics/genomics data analysis (esp. Enjoy co...  \n",
       "1  Responsibilities of the Digital Marketing (Dat...  \n",
       "2  Assessing conceptual foundations of a model, m...  \n",
       "4  A Top Tier Investment Bank is looking for an e...  \n",
       "5  Data Visualization Tools:. Facilitate fast and...  "
      ]
     },
     "execution_count": 63,
     "metadata": {},
     "output_type": "execute_result"
    }
   ],
   "source": [
    "dfsx.head()"
   ]
  },
  {
   "cell_type": "code",
   "execution_count": 64,
   "metadata": {},
   "outputs": [],
   "source": [
    "# resetting the index\n",
    "dfsx.reset_index(inplace=True, drop=True)"
   ]
  },
  {
   "cell_type": "code",
   "execution_count": 65,
   "metadata": {},
   "outputs": [
    {
     "data": {
      "text/html": [
       "<div>\n",
       "<table border=\"1\" class=\"dataframe\">\n",
       "  <thead>\n",
       "    <tr style=\"text-align: right;\">\n",
       "      <th></th>\n",
       "      <th>JobTitle</th>\n",
       "      <th>Company</th>\n",
       "      <th>Location</th>\n",
       "      <th>Salary</th>\n",
       "      <th>Summary</th>\n",
       "    </tr>\n",
       "  </thead>\n",
       "  <tbody>\n",
       "    <tr>\n",
       "      <th>0</th>\n",
       "      <td>Biostatistics/Bioinformatics Research Scientist</td>\n",
       "      <td>UNC Charlotte</td>\n",
       "      <td>Charlotte</td>\n",
       "      <td>70000.0</td>\n",
       "      <td>Genetics/genomics data analysis (esp. Enjoy co...</td>\n",
       "    </tr>\n",
       "    <tr>\n",
       "      <th>1</th>\n",
       "      <td>Digital Marketing (Data Scientist)</td>\n",
       "      <td>Kennedy Unlimited Inc, Professional Staffing</td>\n",
       "      <td>Charlotte</td>\n",
       "      <td>115000.0</td>\n",
       "      <td>Responsibilities of the Digital Marketing (Dat...</td>\n",
       "    </tr>\n",
       "    <tr>\n",
       "      <th>2</th>\n",
       "      <td>Senior Quantitative Finance Analyst</td>\n",
       "      <td>iiTS</td>\n",
       "      <td>Charlotte</td>\n",
       "      <td>140000.0</td>\n",
       "      <td>Assessing conceptual foundations of a model, m...</td>\n",
       "    </tr>\n",
       "    <tr>\n",
       "      <th>3</th>\n",
       "      <td>SVP Quantitative Analyst - Multiple Vacancies</td>\n",
       "      <td>Selby Jennings</td>\n",
       "      <td>Charlotte</td>\n",
       "      <td>150000.0</td>\n",
       "      <td>A Top Tier Investment Bank is looking for an e...</td>\n",
       "    </tr>\n",
       "    <tr>\n",
       "      <th>4</th>\n",
       "      <td>Data Scientist</td>\n",
       "      <td>Oak Grove Partners</td>\n",
       "      <td>Charlotte</td>\n",
       "      <td>130000.0</td>\n",
       "      <td>Data Visualization Tools:. Facilitate fast and...</td>\n",
       "    </tr>\n",
       "  </tbody>\n",
       "</table>\n",
       "</div>"
      ],
      "text/plain": [
       "                                          JobTitle  \\\n",
       "0  Biostatistics/Bioinformatics Research Scientist   \n",
       "1               Digital Marketing (Data Scientist)   \n",
       "2              Senior Quantitative Finance Analyst   \n",
       "3    SVP Quantitative Analyst - Multiple Vacancies   \n",
       "4                                   Data Scientist   \n",
       "\n",
       "                                        Company   Location    Salary  \\\n",
       "0                                 UNC Charlotte  Charlotte   70000.0   \n",
       "1  Kennedy Unlimited Inc, Professional Staffing  Charlotte  115000.0   \n",
       "2                                          iiTS  Charlotte  140000.0   \n",
       "3                                Selby Jennings  Charlotte  150000.0   \n",
       "4                            Oak Grove Partners  Charlotte  130000.0   \n",
       "\n",
       "                                             Summary  \n",
       "0  Genetics/genomics data analysis (esp. Enjoy co...  \n",
       "1  Responsibilities of the Digital Marketing (Dat...  \n",
       "2  Assessing conceptual foundations of a model, m...  \n",
       "3  A Top Tier Investment Bank is looking for an e...  \n",
       "4  Data Visualization Tools:. Facilitate fast and...  "
      ]
     },
     "execution_count": 65,
     "metadata": {},
     "output_type": "execute_result"
    }
   ],
   "source": [
    "dfsx.head()"
   ]
  },
  {
   "cell_type": "code",
   "execution_count": 66,
   "metadata": {
    "collapsed": true
   },
   "outputs": [],
   "source": [
    "# i decided to change all columns to lower case so that i can find words more easily\n",
    "dfsx['JobTitle']=dfsx['JobTitle'].str.lower()\n",
    "dfsx['Company']=dfsx['Company'].str.lower()\n",
    "dfsx['Location']=dfsx['Location'].str.lower()\n",
    "dfsx['Summary']=dfsx['Summary'].str.lower()"
   ]
  },
  {
   "cell_type": "code",
   "execution_count": 67,
   "metadata": {},
   "outputs": [
    {
     "data": {
      "text/html": [
       "<div>\n",
       "<table border=\"1\" class=\"dataframe\">\n",
       "  <thead>\n",
       "    <tr style=\"text-align: right;\">\n",
       "      <th></th>\n",
       "      <th>JobTitle</th>\n",
       "      <th>Company</th>\n",
       "      <th>Location</th>\n",
       "      <th>Salary</th>\n",
       "      <th>Summary</th>\n",
       "    </tr>\n",
       "  </thead>\n",
       "  <tbody>\n",
       "    <tr>\n",
       "      <th>0</th>\n",
       "      <td>biostatistics/bioinformatics research scientist</td>\n",
       "      <td>unc charlotte</td>\n",
       "      <td>charlotte</td>\n",
       "      <td>70000.0</td>\n",
       "      <td>genetics/genomics data analysis (esp. enjoy co...</td>\n",
       "    </tr>\n",
       "    <tr>\n",
       "      <th>1</th>\n",
       "      <td>digital marketing (data scientist)</td>\n",
       "      <td>kennedy unlimited inc, professional staffing</td>\n",
       "      <td>charlotte</td>\n",
       "      <td>115000.0</td>\n",
       "      <td>responsibilities of the digital marketing (dat...</td>\n",
       "    </tr>\n",
       "    <tr>\n",
       "      <th>2</th>\n",
       "      <td>senior quantitative finance analyst</td>\n",
       "      <td>iits</td>\n",
       "      <td>charlotte</td>\n",
       "      <td>140000.0</td>\n",
       "      <td>assessing conceptual foundations of a model, m...</td>\n",
       "    </tr>\n",
       "    <tr>\n",
       "      <th>3</th>\n",
       "      <td>svp quantitative analyst - multiple vacancies</td>\n",
       "      <td>selby jennings</td>\n",
       "      <td>charlotte</td>\n",
       "      <td>150000.0</td>\n",
       "      <td>a top tier investment bank is looking for an e...</td>\n",
       "    </tr>\n",
       "    <tr>\n",
       "      <th>4</th>\n",
       "      <td>data scientist</td>\n",
       "      <td>oak grove partners</td>\n",
       "      <td>charlotte</td>\n",
       "      <td>130000.0</td>\n",
       "      <td>data visualization tools:. facilitate fast and...</td>\n",
       "    </tr>\n",
       "  </tbody>\n",
       "</table>\n",
       "</div>"
      ],
      "text/plain": [
       "                                          JobTitle  \\\n",
       "0  biostatistics/bioinformatics research scientist   \n",
       "1               digital marketing (data scientist)   \n",
       "2              senior quantitative finance analyst   \n",
       "3    svp quantitative analyst - multiple vacancies   \n",
       "4                                   data scientist   \n",
       "\n",
       "                                        Company   Location    Salary  \\\n",
       "0                                 unc charlotte  charlotte   70000.0   \n",
       "1  kennedy unlimited inc, professional staffing  charlotte  115000.0   \n",
       "2                                          iits  charlotte  140000.0   \n",
       "3                                selby jennings  charlotte  150000.0   \n",
       "4                            oak grove partners  charlotte  130000.0   \n",
       "\n",
       "                                             Summary  \n",
       "0  genetics/genomics data analysis (esp. enjoy co...  \n",
       "1  responsibilities of the digital marketing (dat...  \n",
       "2  assessing conceptual foundations of a model, m...  \n",
       "3  a top tier investment bank is looking for an e...  \n",
       "4  data visualization tools:. facilitate fast and...  "
      ]
     },
     "execution_count": 67,
     "metadata": {},
     "output_type": "execute_result"
    }
   ],
   "source": [
    "dfsx.head()"
   ]
  },
  {
   "cell_type": "code",
   "execution_count": 68,
   "metadata": {},
   "outputs": [
    {
     "data": {
      "text/plain": [
       "data scientist                                                     12\n",
       "research analyst                                                    8\n",
       "senior data scientist                                               5\n",
       "digital marketing (data scientist)                                  3\n",
       "principal data scientist                                            3\n",
       "geospatial data scientist/software engineer                         2\n",
       "data analyst                                                        2\n",
       "admin assistant with financial reporting exp, data analysis...      2\n",
       "truck driver 1                                                      2\n",
       "biostatistics/bioinformatics research scientist                     2\n",
       "medical laboratory scientist 1 or trainee                           2\n",
       "sr hadoop architect/data scientist                                  2\n",
       "research study coordinator 1                                        2\n",
       "machine learning engineer                                           2\n",
       "lead data scientist                                                 2\n",
       "svp quantitative analyst - multiple vacancies                       2\n",
       "research scientist ii                                               2\n",
       "medical laboratory scientist-trainee or 1                           2\n",
       "risk analyst - statistical modeling / sas                           2\n",
       "sr data scientist                                                   1\n",
       "python and data scientist position                                  1\n",
       "senior machine learning engineer                                    1\n",
       "software engineer, santa monica/la, usa                             1\n",
       "assistant vice president of research and enrollment informat...     1\n",
       "data team leader (vp, director)                                     1\n",
       "data analyst-statistical-stf                                        1\n",
       "project analyst/coordinator - research applications (system/...     1\n",
       "clinical laboratory scientist i (north county)                      1\n",
       "forensic dna specialist, les - austin                               1\n",
       "clinical laboratory scientist i (blood bank)                        1\n",
       "                                                                   ..\n",
       "computer vision/machine learning engineer                           1\n",
       "project manager, research & evaluation group                        1\n",
       "junior computer vision & machine learning researcher                1\n",
       "software engineer - big data                                        1\n",
       "data analysis & quality evaluation: simplified chinese              1\n",
       "sr. bioinformatics programmer                                       1\n",
       "social media marketing data analyst                                 1\n",
       "research/data analyst                                               1\n",
       "on-call mri technologist                                            1\n",
       "team lead - data science                                            1\n",
       "prospect research and fiscal analyst                                1\n",
       "manager, client strategy                                            1\n",
       "japanese research analyst                                           1\n",
       "research analyst ii                                                 1\n",
       "senior data engineer / senior data scientist                        1\n",
       "java machine learning @ dallas, tx // full time                     1\n",
       "quantitative analyst - credit risk                                  1\n",
       "cls certifying scientist (toxicologist)                             1\n",
       "lab research chemist/physicist/engineer iii                         1\n",
       "data scientist - finanace, r, hadoop                                1\n",
       "clinical research lpn                                               1\n",
       "automotive industry market research analyst                         1\n",
       "data science manager                                                1\n",
       "data analyst city research scientist                                1\n",
       "senior research analyst, accountability - 16525                     1\n",
       "data analysis & quality evaluation                                  1\n",
       "embedded firmware engineer (machine learning/camera firmware...     1\n",
       "development & communications associate                              1\n",
       "programmer/analyst sr                                               1\n",
       "data scientist - supply chain                                       1\n",
       "Name: JobTitle, dtype: int64"
      ]
     },
     "execution_count": 68,
     "metadata": {},
     "output_type": "execute_result"
    }
   ],
   "source": [
    "dfsx['JobTitle'].value_counts()"
   ]
  },
  {
   "cell_type": "code",
   "execution_count": 69,
   "metadata": {},
   "outputs": [
    {
     "data": {
      "image/png": "[encoded data removed]",
      "text/plain": [
       "<matplotlib.figure.Figure at 0x10f150bd0>"
      ]
     },
     "metadata": {},
     "output_type": "display_data"
    }
   ],
   "source": [
    "# checking distribution of salaries\n",
    "\n",
    "import matplotlib.pyplot as plt\n",
    "plt.style.use('fivethirtyeight')\n",
    "%matplotlib inline\n",
    "ax=dfsx['Salary'].hist(bins=20, color='red')"
   ]
  },
  {
   "cell_type": "code",
   "execution_count": 70,
   "metadata": {
    "collapsed": true
   },
   "outputs": [],
   "source": [
    "# creating the target column of whether or not the salary is high\n",
    "# i chose a threshold of $100,000\n",
    "\n",
    "def check_highsal(x):\n",
    "    if x >= 100000:\n",
    "        return 1\n",
    "    else:\n",
    "        return 0"
   ]
  },
  {
   "cell_type": "code",
   "execution_count": 71,
   "metadata": {
    "collapsed": true
   },
   "outputs": [],
   "source": [
    "dfsx['HighSalary'] = df['Salary'].map(check_highsal)"
   ]
  },
  {
   "cell_type": "code",
   "execution_count": 72,
   "metadata": {},
   "outputs": [
    {
     "data": {
      "text/html": [
       "<div>\n",
       "<table border=\"1\" class=\"dataframe\">\n",
       "  <thead>\n",
       "    <tr style=\"text-align: right;\">\n",
       "      <th></th>\n",
       "      <th>JobTitle</th>\n",
       "      <th>Company</th>\n",
       "      <th>Location</th>\n",
       "      <th>Salary</th>\n",
       "      <th>Summary</th>\n",
       "      <th>HighSalary</th>\n",
       "    </tr>\n",
       "  </thead>\n",
       "  <tbody>\n",
       "    <tr>\n",
       "      <th>0</th>\n",
       "      <td>biostatistics/bioinformatics research scientist</td>\n",
       "      <td>unc charlotte</td>\n",
       "      <td>charlotte</td>\n",
       "      <td>70000.0</td>\n",
       "      <td>genetics/genomics data analysis (esp. enjoy co...</td>\n",
       "      <td>0</td>\n",
       "    </tr>\n",
       "    <tr>\n",
       "      <th>1</th>\n",
       "      <td>digital marketing (data scientist)</td>\n",
       "      <td>kennedy unlimited inc, professional staffing</td>\n",
       "      <td>charlotte</td>\n",
       "      <td>115000.0</td>\n",
       "      <td>responsibilities of the digital marketing (dat...</td>\n",
       "      <td>0</td>\n",
       "    </tr>\n",
       "    <tr>\n",
       "      <th>2</th>\n",
       "      <td>senior quantitative finance analyst</td>\n",
       "      <td>iits</td>\n",
       "      <td>charlotte</td>\n",
       "      <td>140000.0</td>\n",
       "      <td>assessing conceptual foundations of a model, m...</td>\n",
       "      <td>1</td>\n",
       "    </tr>\n",
       "    <tr>\n",
       "      <th>3</th>\n",
       "      <td>svp quantitative analyst - multiple vacancies</td>\n",
       "      <td>selby jennings</td>\n",
       "      <td>charlotte</td>\n",
       "      <td>150000.0</td>\n",
       "      <td>a top tier investment bank is looking for an e...</td>\n",
       "      <td>1</td>\n",
       "    </tr>\n",
       "    <tr>\n",
       "      <th>4</th>\n",
       "      <td>data scientist</td>\n",
       "      <td>oak grove partners</td>\n",
       "      <td>charlotte</td>\n",
       "      <td>130000.0</td>\n",
       "      <td>data visualization tools:. facilitate fast and...</td>\n",
       "      <td>1</td>\n",
       "    </tr>\n",
       "  </tbody>\n",
       "</table>\n",
       "</div>"
      ],
      "text/plain": [
       "                                          JobTitle  \\\n",
       "0  biostatistics/bioinformatics research scientist   \n",
       "1               digital marketing (data scientist)   \n",
       "2              senior quantitative finance analyst   \n",
       "3    svp quantitative analyst - multiple vacancies   \n",
       "4                                   data scientist   \n",
       "\n",
       "                                        Company   Location    Salary  \\\n",
       "0                                 unc charlotte  charlotte   70000.0   \n",
       "1  kennedy unlimited inc, professional staffing  charlotte  115000.0   \n",
       "2                                          iits  charlotte  140000.0   \n",
       "3                                selby jennings  charlotte  150000.0   \n",
       "4                            oak grove partners  charlotte  130000.0   \n",
       "\n",
       "                                             Summary  HighSalary  \n",
       "0  genetics/genomics data analysis (esp. enjoy co...           0  \n",
       "1  responsibilities of the digital marketing (dat...           0  \n",
       "2  assessing conceptual foundations of a model, m...           1  \n",
       "3  a top tier investment bank is looking for an e...           1  \n",
       "4  data visualization tools:. facilitate fast and...           1  "
      ]
     },
     "execution_count": 72,
     "metadata": {},
     "output_type": "execute_result"
    }
   ],
   "source": [
    "dfsx.head()"
   ]
  },
  {
   "cell_type": "code",
   "execution_count": 73,
   "metadata": {
    "collapsed": true
   },
   "outputs": [],
   "source": [
    "# cleaning the summary column some more\n",
    "\n",
    "dfsx['Summary'] = dfsx['Summary'].apply(lambda x: x.replace('.',''))\n",
    "dfsx['Summary'] = dfsx['Summary'].apply(lambda x: x.replace('/',' '))\n",
    "dfsx['Summary'] = dfsx['Summary'].apply(lambda x: x.replace('(',''))\n",
    "dfsx['Summary'] = dfsx['Summary'].apply(lambda x: x.replace(')',''))\n",
    "dfsx['Summary'] = dfsx['Summary'].apply(lambda x: x.replace(':',''))\n",
    "dfsx['Summary'] = dfsx['Summary'].apply(lambda x: x.replace(',',''))"
   ]
  },
  {
   "cell_type": "code",
   "execution_count": 74,
   "metadata": {},
   "outputs": [
    {
     "data": {
      "text/html": [
       "<div>\n",
       "<table border=\"1\" class=\"dataframe\">\n",
       "  <thead>\n",
       "    <tr style=\"text-align: right;\">\n",
       "      <th></th>\n",
       "      <th>JobTitle</th>\n",
       "      <th>Company</th>\n",
       "      <th>Location</th>\n",
       "      <th>Salary</th>\n",
       "      <th>Summary</th>\n",
       "      <th>HighSalary</th>\n",
       "    </tr>\n",
       "  </thead>\n",
       "  <tbody>\n",
       "    <tr>\n",
       "      <th>0</th>\n",
       "      <td>biostatistics/bioinformatics research scientist</td>\n",
       "      <td>unc charlotte</td>\n",
       "      <td>charlotte</td>\n",
       "      <td>70000.0</td>\n",
       "      <td>genetics genomics data analysis esp enjoy comp...</td>\n",
       "      <td>0</td>\n",
       "    </tr>\n",
       "    <tr>\n",
       "      <th>1</th>\n",
       "      <td>digital marketing (data scientist)</td>\n",
       "      <td>kennedy unlimited inc, professional staffing</td>\n",
       "      <td>charlotte</td>\n",
       "      <td>115000.0</td>\n",
       "      <td>responsibilities of the digital marketing data...</td>\n",
       "      <td>0</td>\n",
       "    </tr>\n",
       "    <tr>\n",
       "      <th>2</th>\n",
       "      <td>senior quantitative finance analyst</td>\n",
       "      <td>iits</td>\n",
       "      <td>charlotte</td>\n",
       "      <td>140000.0</td>\n",
       "      <td>assessing conceptual foundations of a model mo...</td>\n",
       "      <td>1</td>\n",
       "    </tr>\n",
       "    <tr>\n",
       "      <th>3</th>\n",
       "      <td>svp quantitative analyst - multiple vacancies</td>\n",
       "      <td>selby jennings</td>\n",
       "      <td>charlotte</td>\n",
       "      <td>150000.0</td>\n",
       "      <td>a top tier investment bank is looking for an e...</td>\n",
       "      <td>1</td>\n",
       "    </tr>\n",
       "    <tr>\n",
       "      <th>4</th>\n",
       "      <td>data scientist</td>\n",
       "      <td>oak grove partners</td>\n",
       "      <td>charlotte</td>\n",
       "      <td>130000.0</td>\n",
       "      <td>data visualization tools facilitate fast and e...</td>\n",
       "      <td>1</td>\n",
       "    </tr>\n",
       "  </tbody>\n",
       "</table>\n",
       "</div>"
      ],
      "text/plain": [
       "                                          JobTitle  \\\n",
       "0  biostatistics/bioinformatics research scientist   \n",
       "1               digital marketing (data scientist)   \n",
       "2              senior quantitative finance analyst   \n",
       "3    svp quantitative analyst - multiple vacancies   \n",
       "4                                   data scientist   \n",
       "\n",
       "                                        Company   Location    Salary  \\\n",
       "0                                 unc charlotte  charlotte   70000.0   \n",
       "1  kennedy unlimited inc, professional staffing  charlotte  115000.0   \n",
       "2                                          iits  charlotte  140000.0   \n",
       "3                                selby jennings  charlotte  150000.0   \n",
       "4                            oak grove partners  charlotte  130000.0   \n",
       "\n",
       "                                             Summary  HighSalary  \n",
       "0  genetics genomics data analysis esp enjoy comp...           0  \n",
       "1  responsibilities of the digital marketing data...           0  \n",
       "2  assessing conceptual foundations of a model mo...           1  \n",
       "3  a top tier investment bank is looking for an e...           1  \n",
       "4  data visualization tools facilitate fast and e...           1  "
      ]
     },
     "execution_count": 74,
     "metadata": {},
     "output_type": "execute_result"
    }
   ],
   "source": [
    "dfsx.head()"
   ]
  },
  {
   "cell_type": "code",
   "execution_count": 75,
   "metadata": {},
   "outputs": [],
   "source": [
    "# splitting the summary into a list of words\n",
    "dfsx['Summary'] = dfsx['Summary'].map(lambda x: x.split(' '))"
   ]
  },
  {
   "cell_type": "code",
   "execution_count": 76,
   "metadata": {},
   "outputs": [],
   "source": [
    "# throwing all the lists of words into a list to create a single list of all words in all summaries\n",
    "listx=[]\n",
    "for i in dfsx['Summary']:\n",
    "    listx.extend(i)"
   ]
  },
  {
   "cell_type": "code",
   "execution_count": 77,
   "metadata": {},
   "outputs": [
    {
     "data": {
      "text/plain": [
       "data           359\n",
       "and            260\n",
       "a              132\n",
       "to             130\n",
       "of             116\n",
       "the            113\n",
       "scientist       95\n",
       "in              89\n",
       "with            81\n",
       "for             81\n",
       "is              74\n",
       "experience      55\n",
       "as              41\n",
       "scientists      38\n",
       "will            37\n",
       "or              37\n",
       "analysis        37\n",
       "this            34\n",
       "looking         32\n",
       "medical         31\n",
       "research        31\n",
       "analytics       27\n",
       "an              27\n",
       "join            26\n",
       "team            26\n",
       "company         25\n",
       "laboratory      25\n",
       "their           24\n",
       "be              24\n",
       "learning        23\n",
       "              ... \n",
       "between          1\n",
       "priest           1\n",
       "client’s         1\n",
       "experiences      1\n",
       "artificial       1\n",
       "afactory         1\n",
       "mentor           1\n",
       "pedigree         1\n",
       "amt              1\n",
       "best             1\n",
       "back-end         1\n",
       "rabbis           1\n",
       "familiarity      1\n",
       "formulation      1\n",
       "variables        1\n",
       "accounting       1\n",
       "assembling       1\n",
       "fish             1\n",
       "national         1\n",
       "online           1\n",
       "respond          1\n",
       "vision           1\n",
       "econometric      1\n",
       "where            1\n",
       "tutorcare        1\n",
       "analytical       1\n",
       "queries          1\n",
       "equipped         1\n",
       "streamlined      1\n",
       "augmented        1\n",
       "dtype: int64"
      ]
     },
     "execution_count": 77,
     "metadata": {},
     "output_type": "execute_result"
    }
   ],
   "source": [
    "# Finding the words that appear most frequently in the summaries\n",
    "pd.Series(listx).value_counts()"
   ]
  },
  {
   "cell_type": "code",
   "execution_count": 78,
   "metadata": {},
   "outputs": [],
   "source": [
    "# I chose 5 words from the list above to create variables for\n",
    "# This cell contains code for creating the variable for the word research\n",
    "\n",
    "def check_research(x):\n",
    "    if 'research' in x:\n",
    "        return 1\n",
    "    else:\n",
    "        return 0\n",
    "    \n",
    "dfsx['s_research'] = dfsx['Summary'].map(check_research)"
   ]
  },
  {
   "cell_type": "code",
   "execution_count": 79,
   "metadata": {},
   "outputs": [
    {
     "data": {
      "text/html": [
       "<div>\n",
       "<table border=\"1\" class=\"dataframe\">\n",
       "  <thead>\n",
       "    <tr style=\"text-align: right;\">\n",
       "      <th></th>\n",
       "      <th>JobTitle</th>\n",
       "      <th>Company</th>\n",
       "      <th>Location</th>\n",
       "      <th>Salary</th>\n",
       "      <th>Summary</th>\n",
       "      <th>HighSalary</th>\n",
       "      <th>s_research</th>\n",
       "    </tr>\n",
       "  </thead>\n",
       "  <tbody>\n",
       "    <tr>\n",
       "      <th>0</th>\n",
       "      <td>biostatistics/bioinformatics research scientist</td>\n",
       "      <td>unc charlotte</td>\n",
       "      <td>charlotte</td>\n",
       "      <td>70000.0</td>\n",
       "      <td>[genetics, genomics, data, analysis, esp, enjo...</td>\n",
       "      <td>0</td>\n",
       "      <td>1</td>\n",
       "    </tr>\n",
       "    <tr>\n",
       "      <th>1</th>\n",
       "      <td>digital marketing (data scientist)</td>\n",
       "      <td>kennedy unlimited inc, professional staffing</td>\n",
       "      <td>charlotte</td>\n",
       "      <td>115000.0</td>\n",
       "      <td>[responsibilities, of, the, digital, marketing...</td>\n",
       "      <td>0</td>\n",
       "      <td>0</td>\n",
       "    </tr>\n",
       "    <tr>\n",
       "      <th>2</th>\n",
       "      <td>senior quantitative finance analyst</td>\n",
       "      <td>iits</td>\n",
       "      <td>charlotte</td>\n",
       "      <td>140000.0</td>\n",
       "      <td>[assessing, conceptual, foundations, of, a, mo...</td>\n",
       "      <td>1</td>\n",
       "      <td>0</td>\n",
       "    </tr>\n",
       "    <tr>\n",
       "      <th>3</th>\n",
       "      <td>svp quantitative analyst - multiple vacancies</td>\n",
       "      <td>selby jennings</td>\n",
       "      <td>charlotte</td>\n",
       "      <td>150000.0</td>\n",
       "      <td>[a, top, tier, investment, bank, is, looking, ...</td>\n",
       "      <td>1</td>\n",
       "      <td>0</td>\n",
       "    </tr>\n",
       "    <tr>\n",
       "      <th>4</th>\n",
       "      <td>data scientist</td>\n",
       "      <td>oak grove partners</td>\n",
       "      <td>charlotte</td>\n",
       "      <td>130000.0</td>\n",
       "      <td>[data, visualization, tools, facilitate, fast,...</td>\n",
       "      <td>1</td>\n",
       "      <td>0</td>\n",
       "    </tr>\n",
       "  </tbody>\n",
       "</table>\n",
       "</div>"
      ],
      "text/plain": [
       "                                          JobTitle  \\\n",
       "0  biostatistics/bioinformatics research scientist   \n",
       "1               digital marketing (data scientist)   \n",
       "2              senior quantitative finance analyst   \n",
       "3    svp quantitative analyst - multiple vacancies   \n",
       "4                                   data scientist   \n",
       "\n",
       "                                        Company   Location    Salary  \\\n",
       "0                                 unc charlotte  charlotte   70000.0   \n",
       "1  kennedy unlimited inc, professional staffing  charlotte  115000.0   \n",
       "2                                          iits  charlotte  140000.0   \n",
       "3                                selby jennings  charlotte  150000.0   \n",
       "4                            oak grove partners  charlotte  130000.0   \n",
       "\n",
       "                                             Summary  HighSalary  s_research  \n",
       "0  [genetics, genomics, data, analysis, esp, enjo...           0           1  \n",
       "1  [responsibilities, of, the, digital, marketing...           0           0  \n",
       "2  [assessing, conceptual, foundations, of, a, mo...           1           0  \n",
       "3  [a, top, tier, investment, bank, is, looking, ...           1           0  \n",
       "4  [data, visualization, tools, facilitate, fast,...           1           0  "
      ]
     },
     "execution_count": 79,
     "metadata": {},
     "output_type": "execute_result"
    }
   ],
   "source": [
    "dfsx.head()"
   ]
  },
  {
   "cell_type": "code",
   "execution_count": 80,
   "metadata": {},
   "outputs": [],
   "source": [
    "# creating the variable for the word analytics\n",
    "def check_analytics(x):\n",
    "    if 'analytics' in x:\n",
    "        return 1\n",
    "    else:\n",
    "        return 0\n",
    "    \n",
    "dfsx['s_analytics'] = dfsx['Summary'].map(check_analytics)"
   ]
  },
  {
   "cell_type": "code",
   "execution_count": 81,
   "metadata": {
    "collapsed": true
   },
   "outputs": [],
   "source": [
    "# creating the variable for the word medical\n",
    "def check_medical(x):\n",
    "    if 'medical' in x:\n",
    "        return 1\n",
    "    else:\n",
    "        return 0\n",
    "    \n",
    "dfsx['s_medical'] = dfsx['Summary'].map(check_medical)"
   ]
  },
  {
   "cell_type": "code",
   "execution_count": 82,
   "metadata": {
    "collapsed": true
   },
   "outputs": [],
   "source": [
    "# creating the variable for the word analysis\n",
    "def check_analysis(x):\n",
    "    if 'analysis' in x:\n",
    "        return 1\n",
    "    else:\n",
    "        return 0\n",
    "    \n",
    "dfsx['s_analysis'] = dfsx['Summary'].map(check_analysis)"
   ]
  },
  {
   "cell_type": "code",
   "execution_count": 83,
   "metadata": {
    "collapsed": true
   },
   "outputs": [],
   "source": [
    "# creating the variable for the word experience\n",
    "def check_experience(x):\n",
    "    if 'experience' in x:\n",
    "        return 1\n",
    "    else:\n",
    "        return 0\n",
    "    \n",
    "dfsx['s_experience'] = dfsx['Summary'].map(check_experience)"
   ]
  },
  {
   "cell_type": "code",
   "execution_count": 84,
   "metadata": {},
   "outputs": [
    {
     "data": {
      "text/html": [
       "<div>\n",
       "<table border=\"1\" class=\"dataframe\">\n",
       "  <thead>\n",
       "    <tr style=\"text-align: right;\">\n",
       "      <th></th>\n",
       "      <th>JobTitle</th>\n",
       "      <th>Company</th>\n",
       "      <th>Location</th>\n",
       "      <th>Salary</th>\n",
       "      <th>Summary</th>\n",
       "      <th>HighSalary</th>\n",
       "      <th>s_research</th>\n",
       "      <th>s_analytics</th>\n",
       "      <th>s_medical</th>\n",
       "      <th>s_analysis</th>\n",
       "      <th>s_experience</th>\n",
       "    </tr>\n",
       "  </thead>\n",
       "  <tbody>\n",
       "    <tr>\n",
       "      <th>0</th>\n",
       "      <td>biostatistics/bioinformatics research scientist</td>\n",
       "      <td>unc charlotte</td>\n",
       "      <td>charlotte</td>\n",
       "      <td>70000.0</td>\n",
       "      <td>[genetics, genomics, data, analysis, esp, enjo...</td>\n",
       "      <td>0</td>\n",
       "      <td>1</td>\n",
       "      <td>0</td>\n",
       "      <td>0</td>\n",
       "      <td>1</td>\n",
       "      <td>0</td>\n",
       "    </tr>\n",
       "    <tr>\n",
       "      <th>1</th>\n",
       "      <td>digital marketing (data scientist)</td>\n",
       "      <td>kennedy unlimited inc, professional staffing</td>\n",
       "      <td>charlotte</td>\n",
       "      <td>115000.0</td>\n",
       "      <td>[responsibilities, of, the, digital, marketing...</td>\n",
       "      <td>0</td>\n",
       "      <td>0</td>\n",
       "      <td>0</td>\n",
       "      <td>0</td>\n",
       "      <td>0</td>\n",
       "      <td>0</td>\n",
       "    </tr>\n",
       "    <tr>\n",
       "      <th>2</th>\n",
       "      <td>senior quantitative finance analyst</td>\n",
       "      <td>iits</td>\n",
       "      <td>charlotte</td>\n",
       "      <td>140000.0</td>\n",
       "      <td>[assessing, conceptual, foundations, of, a, mo...</td>\n",
       "      <td>1</td>\n",
       "      <td>0</td>\n",
       "      <td>0</td>\n",
       "      <td>0</td>\n",
       "      <td>0</td>\n",
       "      <td>0</td>\n",
       "    </tr>\n",
       "    <tr>\n",
       "      <th>3</th>\n",
       "      <td>svp quantitative analyst - multiple vacancies</td>\n",
       "      <td>selby jennings</td>\n",
       "      <td>charlotte</td>\n",
       "      <td>150000.0</td>\n",
       "      <td>[a, top, tier, investment, bank, is, looking, ...</td>\n",
       "      <td>1</td>\n",
       "      <td>0</td>\n",
       "      <td>1</td>\n",
       "      <td>0</td>\n",
       "      <td>0</td>\n",
       "      <td>0</td>\n",
       "    </tr>\n",
       "    <tr>\n",
       "      <th>4</th>\n",
       "      <td>data scientist</td>\n",
       "      <td>oak grove partners</td>\n",
       "      <td>charlotte</td>\n",
       "      <td>130000.0</td>\n",
       "      <td>[data, visualization, tools, facilitate, fast,...</td>\n",
       "      <td>1</td>\n",
       "      <td>0</td>\n",
       "      <td>0</td>\n",
       "      <td>0</td>\n",
       "      <td>0</td>\n",
       "      <td>0</td>\n",
       "    </tr>\n",
       "  </tbody>\n",
       "</table>\n",
       "</div>"
      ],
      "text/plain": [
       "                                          JobTitle  \\\n",
       "0  biostatistics/bioinformatics research scientist   \n",
       "1               digital marketing (data scientist)   \n",
       "2              senior quantitative finance analyst   \n",
       "3    svp quantitative analyst - multiple vacancies   \n",
       "4                                   data scientist   \n",
       "\n",
       "                                        Company   Location    Salary  \\\n",
       "0                                 unc charlotte  charlotte   70000.0   \n",
       "1  kennedy unlimited inc, professional staffing  charlotte  115000.0   \n",
       "2                                          iits  charlotte  140000.0   \n",
       "3                                selby jennings  charlotte  150000.0   \n",
       "4                            oak grove partners  charlotte  130000.0   \n",
       "\n",
       "                                             Summary  HighSalary  s_research  \\\n",
       "0  [genetics, genomics, data, analysis, esp, enjo...           0           1   \n",
       "1  [responsibilities, of, the, digital, marketing...           0           0   \n",
       "2  [assessing, conceptual, foundations, of, a, mo...           1           0   \n",
       "3  [a, top, tier, investment, bank, is, looking, ...           1           0   \n",
       "4  [data, visualization, tools, facilitate, fast,...           1           0   \n",
       "\n",
       "   s_analytics  s_medical  s_analysis  s_experience  \n",
       "0            0          0           1             0  \n",
       "1            0          0           0             0  \n",
       "2            0          0           0             0  \n",
       "3            1          0           0             0  \n",
       "4            0          0           0             0  "
      ]
     },
     "execution_count": 84,
     "metadata": {},
     "output_type": "execute_result"
    }
   ],
   "source": [
    "dfsx.head()"
   ]
  },
  {
   "cell_type": "code",
   "execution_count": 85,
   "metadata": {},
   "outputs": [],
   "source": [
    "# making summy variables for the locations\n",
    "dfsx=pd.concat([dfsx,pd.get_dummies(dfsx['Location'], drop_first=True, prefix='L')], axis = 1)"
   ]
  },
  {
   "cell_type": "code",
   "execution_count": 86,
   "metadata": {},
   "outputs": [
    {
     "data": {
      "text/plain": [
       "jobspring partners                                       18\n",
       "harnham                                                  12\n",
       "workbridge associates                                    11\n",
       "selby jennings                                           10\n",
       "university of washington medical center                   9\n",
       "university of texas at austin                             7\n",
       "university of washington                                  6\n",
       "lighthouse recruiting                                     5\n",
       "intermountain healthcare                                  5\n",
       "university of utah                                        4\n",
       "kennedy unlimited inc, professional staffing              3\n",
       "texas department of public safety                         3\n",
       "lt                                                        3\n",
       "zerochaos                                                 3\n",
       "los angeles county department of human resources          3\n",
       "signature science, llc                                    2\n",
       "macp los angeles                                          2\n",
       "analytic recruiting                                       2\n",
       "unc charlotte                                             2\n",
       "lb & associates                                           2\n",
       "cottonwood financial                                      2\n",
       "dept of health/mental hygiene                             2\n",
       "tandem recruiting group                                   2\n",
       "university of texas at dallas                             2\n",
       "regal professional services                               2\n",
       "slingshot aerospace                                       2\n",
       "university of minnesota                                   2\n",
       "baylor college of medicine                                2\n",
       "sherpa llc                                                2\n",
       "averity                                                   1\n",
       "                                                         ..\n",
       "strategic employment partners                             1\n",
       "national staffing consultants                             1\n",
       "long beach city college                                   1\n",
       "teema solutions group inc.                                1\n",
       "smith hanley associates                                   1\n",
       "cook county sheriff’s office                              1\n",
       "state of minnesota                                        1\n",
       "oregon health & science university                        1\n",
       "city of new york dept of the comptroller                  1\n",
       "vroom                                                     1\n",
       "the finders group                                         1\n",
       "huxley banking & financial services                       1\n",
       "accountemps                                               1\n",
       "smarking                                                  1\n",
       "university of chicago                                     1\n",
       "community investors, inc.                                 1\n",
       "california state university - fullerton                   1\n",
       "eos da                                                    1\n",
       "dimensional thinking                                      1\n",
       "dept of state health services                             1\n",
       "qyresearch                                                1\n",
       "texas a&m university                                      1\n",
       "salt lake county                                          1\n",
       "hart                                                      1\n",
       "atlanta research & educ found                             1\n",
       "carlton staffing                                          1\n",
       "stanford university school of medicine, dept. of p...     1\n",
       "walmart ecommerce                                         1\n",
       "consol partners                                           1\n",
       "principle solutions group                                 1\n",
       "Name: Company, dtype: int64"
      ]
     },
     "execution_count": 86,
     "metadata": {},
     "output_type": "execute_result"
    }
   ],
   "source": [
    "# i decided to make variables for only the most frequently occuring companies\n",
    "dfsx['Company'].value_counts()"
   ]
  },
  {
   "cell_type": "code",
   "execution_count": 87,
   "metadata": {
    "collapsed": true
   },
   "outputs": [],
   "source": [
    "# creating the variable for the company jobspring\n",
    "def c_jobspring(x):\n",
    "    if 'jobspring partners' in x:\n",
    "        return 1\n",
    "    else:\n",
    "        return 0\n",
    "    \n",
    "dfsx['c_jobspringpartners'] = dfsx['Company'].map(c_jobspring)"
   ]
  },
  {
   "cell_type": "code",
   "execution_count": 88,
   "metadata": {
    "collapsed": true
   },
   "outputs": [],
   "source": [
    "# creating the variable for the company harnham\n",
    "def c_harnham(x):\n",
    "    if 'harnham' in x:\n",
    "        return 1\n",
    "    else:\n",
    "        return 0\n",
    "    \n",
    "dfsx['c_harnham'] = dfsx['Company'].map(c_harnham)"
   ]
  },
  {
   "cell_type": "code",
   "execution_count": 89,
   "metadata": {
    "collapsed": true
   },
   "outputs": [],
   "source": [
    "# creating the variable for the company workbridge associates\n",
    "def c_workbridge(x):\n",
    "    if 'workbridge associates' in x:\n",
    "        return 1\n",
    "    else:\n",
    "        return 0\n",
    "    \n",
    "dfsx['c_workbridge'] = dfsx['Company'].map(c_workbridge)"
   ]
  },
  {
   "cell_type": "code",
   "execution_count": 90,
   "metadata": {
    "collapsed": true
   },
   "outputs": [],
   "source": [
    "# creating the variable for the company selby jennings\n",
    "def c_selby(x):\n",
    "    if 'selby jennings' in x:\n",
    "        return 1\n",
    "    else:\n",
    "        return 0\n",
    "    \n",
    "dfsx['c_selby'] = dfsx['Company'].map(c_selby)"
   ]
  },
  {
   "cell_type": "code",
   "execution_count": 91,
   "metadata": {},
   "outputs": [
    {
     "data": {
      "text/html": [
       "<div>\n",
       "<table border=\"1\" class=\"dataframe\">\n",
       "  <thead>\n",
       "    <tr style=\"text-align: right;\">\n",
       "      <th></th>\n",
       "      <th>JobTitle</th>\n",
       "      <th>Company</th>\n",
       "      <th>Location</th>\n",
       "      <th>Salary</th>\n",
       "      <th>Summary</th>\n",
       "      <th>HighSalary</th>\n",
       "      <th>s_research</th>\n",
       "      <th>s_analytics</th>\n",
       "      <th>s_medical</th>\n",
       "      <th>s_analysis</th>\n",
       "      <th>...</th>\n",
       "      <th>L_portland</th>\n",
       "      <th>L_salt lake city</th>\n",
       "      <th>L_san diego</th>\n",
       "      <th>L_san francisco</th>\n",
       "      <th>L_san jose</th>\n",
       "      <th>L_seattle</th>\n",
       "      <th>c_jobspringpartners</th>\n",
       "      <th>c_harnham</th>\n",
       "      <th>c_workbridge</th>\n",
       "      <th>c_selby</th>\n",
       "    </tr>\n",
       "  </thead>\n",
       "  <tbody>\n",
       "    <tr>\n",
       "      <th>0</th>\n",
       "      <td>biostatistics/bioinformatics research scientist</td>\n",
       "      <td>unc charlotte</td>\n",
       "      <td>charlotte</td>\n",
       "      <td>70000.0</td>\n",
       "      <td>[genetics, genomics, data, analysis, esp, enjo...</td>\n",
       "      <td>0</td>\n",
       "      <td>1</td>\n",
       "      <td>0</td>\n",
       "      <td>0</td>\n",
       "      <td>1</td>\n",
       "      <td>...</td>\n",
       "      <td>0.0</td>\n",
       "      <td>0.0</td>\n",
       "      <td>0.0</td>\n",
       "      <td>0.0</td>\n",
       "      <td>0.0</td>\n",
       "      <td>0.0</td>\n",
       "      <td>0</td>\n",
       "      <td>0</td>\n",
       "      <td>0</td>\n",
       "      <td>0</td>\n",
       "    </tr>\n",
       "    <tr>\n",
       "      <th>1</th>\n",
       "      <td>digital marketing (data scientist)</td>\n",
       "      <td>kennedy unlimited inc, professional staffing</td>\n",
       "      <td>charlotte</td>\n",
       "      <td>115000.0</td>\n",
       "      <td>[responsibilities, of, the, digital, marketing...</td>\n",
       "      <td>0</td>\n",
       "      <td>0</td>\n",
       "      <td>0</td>\n",
       "      <td>0</td>\n",
       "      <td>0</td>\n",
       "      <td>...</td>\n",
       "      <td>0.0</td>\n",
       "      <td>0.0</td>\n",
       "      <td>0.0</td>\n",
       "      <td>0.0</td>\n",
       "      <td>0.0</td>\n",
       "      <td>0.0</td>\n",
       "      <td>0</td>\n",
       "      <td>0</td>\n",
       "      <td>0</td>\n",
       "      <td>0</td>\n",
       "    </tr>\n",
       "    <tr>\n",
       "      <th>2</th>\n",
       "      <td>senior quantitative finance analyst</td>\n",
       "      <td>iits</td>\n",
       "      <td>charlotte</td>\n",
       "      <td>140000.0</td>\n",
       "      <td>[assessing, conceptual, foundations, of, a, mo...</td>\n",
       "      <td>1</td>\n",
       "      <td>0</td>\n",
       "      <td>0</td>\n",
       "      <td>0</td>\n",
       "      <td>0</td>\n",
       "      <td>...</td>\n",
       "      <td>0.0</td>\n",
       "      <td>0.0</td>\n",
       "      <td>0.0</td>\n",
       "      <td>0.0</td>\n",
       "      <td>0.0</td>\n",
       "      <td>0.0</td>\n",
       "      <td>0</td>\n",
       "      <td>0</td>\n",
       "      <td>0</td>\n",
       "      <td>0</td>\n",
       "    </tr>\n",
       "    <tr>\n",
       "      <th>3</th>\n",
       "      <td>svp quantitative analyst - multiple vacancies</td>\n",
       "      <td>selby jennings</td>\n",
       "      <td>charlotte</td>\n",
       "      <td>150000.0</td>\n",
       "      <td>[a, top, tier, investment, bank, is, looking, ...</td>\n",
       "      <td>1</td>\n",
       "      <td>0</td>\n",
       "      <td>1</td>\n",
       "      <td>0</td>\n",
       "      <td>0</td>\n",
       "      <td>...</td>\n",
       "      <td>0.0</td>\n",
       "      <td>0.0</td>\n",
       "      <td>0.0</td>\n",
       "      <td>0.0</td>\n",
       "      <td>0.0</td>\n",
       "      <td>0.0</td>\n",
       "      <td>0</td>\n",
       "      <td>0</td>\n",
       "      <td>0</td>\n",
       "      <td>1</td>\n",
       "    </tr>\n",
       "    <tr>\n",
       "      <th>4</th>\n",
       "      <td>data scientist</td>\n",
       "      <td>oak grove partners</td>\n",
       "      <td>charlotte</td>\n",
       "      <td>130000.0</td>\n",
       "      <td>[data, visualization, tools, facilitate, fast,...</td>\n",
       "      <td>1</td>\n",
       "      <td>0</td>\n",
       "      <td>0</td>\n",
       "      <td>0</td>\n",
       "      <td>0</td>\n",
       "      <td>...</td>\n",
       "      <td>0.0</td>\n",
       "      <td>0.0</td>\n",
       "      <td>0.0</td>\n",
       "      <td>0.0</td>\n",
       "      <td>0.0</td>\n",
       "      <td>0.0</td>\n",
       "      <td>0</td>\n",
       "      <td>0</td>\n",
       "      <td>0</td>\n",
       "      <td>0</td>\n",
       "    </tr>\n",
       "  </tbody>\n",
       "</table>\n",
       "<p>5 rows × 34 columns</p>\n",
       "</div>"
      ],
      "text/plain": [
       "                                          JobTitle  \\\n",
       "0  biostatistics/bioinformatics research scientist   \n",
       "1               digital marketing (data scientist)   \n",
       "2              senior quantitative finance analyst   \n",
       "3    svp quantitative analyst - multiple vacancies   \n",
       "4                                   data scientist   \n",
       "\n",
       "                                        Company   Location    Salary  \\\n",
       "0                                 unc charlotte  charlotte   70000.0   \n",
       "1  kennedy unlimited inc, professional staffing  charlotte  115000.0   \n",
       "2                                          iits  charlotte  140000.0   \n",
       "3                                selby jennings  charlotte  150000.0   \n",
       "4                            oak grove partners  charlotte  130000.0   \n",
       "\n",
       "                                             Summary  HighSalary  s_research  \\\n",
       "0  [genetics, genomics, data, analysis, esp, enjo...           0           1   \n",
       "1  [responsibilities, of, the, digital, marketing...           0           0   \n",
       "2  [assessing, conceptual, foundations, of, a, mo...           1           0   \n",
       "3  [a, top, tier, investment, bank, is, looking, ...           1           0   \n",
       "4  [data, visualization, tools, facilitate, fast,...           1           0   \n",
       "\n",
       "   s_analytics  s_medical  s_analysis   ...     L_portland  L_salt lake city  \\\n",
       "0            0          0           1   ...            0.0               0.0   \n",
       "1            0          0           0   ...            0.0               0.0   \n",
       "2            0          0           0   ...            0.0               0.0   \n",
       "3            1          0           0   ...            0.0               0.0   \n",
       "4            0          0           0   ...            0.0               0.0   \n",
       "\n",
       "   L_san diego  L_san francisco  L_san jose  L_seattle  c_jobspringpartners  \\\n",
       "0          0.0              0.0         0.0        0.0                    0   \n",
       "1          0.0              0.0         0.0        0.0                    0   \n",
       "2          0.0              0.0         0.0        0.0                    0   \n",
       "3          0.0              0.0         0.0        0.0                    0   \n",
       "4          0.0              0.0         0.0        0.0                    0   \n",
       "\n",
       "   c_harnham  c_workbridge  c_selby  \n",
       "0          0             0        0  \n",
       "1          0             0        0  \n",
       "2          0             0        0  \n",
       "3          0             0        1  \n",
       "4          0             0        0  \n",
       "\n",
       "[5 rows x 34 columns]"
      ]
     },
     "execution_count": 91,
     "metadata": {},
     "output_type": "execute_result"
    }
   ],
   "source": [
    "dfsx.head()"
   ]
  },
  {
   "cell_type": "code",
   "execution_count": 92,
   "metadata": {
    "collapsed": true
   },
   "outputs": [],
   "source": [
    "# I decided to make variables for words that appeared in job titles that I felt could be relevant\n",
    "# to whether or not the job would have a high salary. This cell and the following 9 cells contain\n",
    "# the code for creating those variables\n",
    "def datascientist(x):\n",
    "    if 'data scientist' in x:\n",
    "        return 1\n",
    "    else:\n",
    "        return 0\n",
    "    \n",
    "dfsx['jt_datascientist'] = dfsx['JobTitle'].map(datascientist)"
   ]
  },
  {
   "cell_type": "code",
   "execution_count": 93,
   "metadata": {
    "collapsed": true
   },
   "outputs": [],
   "source": [
    "def analyst(x):\n",
    "    if 'analyst' in x:\n",
    "        return 1\n",
    "    else:\n",
    "        return 0\n",
    "    \n",
    "dfsx['jt_analyst'] = dfsx['JobTitle'].map(analyst)"
   ]
  },
  {
   "cell_type": "code",
   "execution_count": 94,
   "metadata": {
    "collapsed": true
   },
   "outputs": [],
   "source": [
    "def lead(x):\n",
    "    if 'lead' in x:\n",
    "        return 1\n",
    "    else:\n",
    "        return 0\n",
    "    \n",
    "dfsx['jt_lead'] = dfsx['JobTitle'].map(lead)"
   ]
  },
  {
   "cell_type": "code",
   "execution_count": 95,
   "metadata": {
    "collapsed": true
   },
   "outputs": [],
   "source": [
    "def engineer(x):\n",
    "    if 'engineer' in x:\n",
    "        return 1\n",
    "    else:\n",
    "        return 0\n",
    "    \n",
    "dfsx['jt_engineer'] = dfsx['JobTitle'].map(engineer)"
   ]
  },
  {
   "cell_type": "code",
   "execution_count": 96,
   "metadata": {
    "collapsed": true
   },
   "outputs": [],
   "source": [
    "def manager(x):\n",
    "    if 'manager' in x:\n",
    "        return 1\n",
    "    else:\n",
    "        return 0\n",
    "    \n",
    "dfsx['jt_manager'] = dfsx['JobTitle'].map(manager)"
   ]
  },
  {
   "cell_type": "code",
   "execution_count": 97,
   "metadata": {
    "collapsed": true
   },
   "outputs": [],
   "source": [
    "def senior(x):\n",
    "    if ('senior' in x) or ('sr' in x):\n",
    "        return 1\n",
    "    else:\n",
    "        return 0\n",
    "    \n",
    "dfsx['jt_senior'] = dfsx['JobTitle'].map(senior)"
   ]
  },
  {
   "cell_type": "code",
   "execution_count": 98,
   "metadata": {
    "collapsed": true
   },
   "outputs": [],
   "source": [
    "def level1(x):\n",
    "    if ('1' in x) or (' i' in x):\n",
    "        return 1\n",
    "    else:\n",
    "        return 0\n",
    "    \n",
    "dfsx['jt_level1'] = dfsx['JobTitle'].map(level1)"
   ]
  },
  {
   "cell_type": "code",
   "execution_count": 99,
   "metadata": {
    "collapsed": true
   },
   "outputs": [],
   "source": [
    "def level2(x):\n",
    "    if ('2' in x) or (' ii' in x):\n",
    "        return 1\n",
    "    else:\n",
    "        return 0\n",
    "    \n",
    "dfsx['jt_level2'] = dfsx['JobTitle'].map(level2)"
   ]
  },
  {
   "cell_type": "code",
   "execution_count": 100,
   "metadata": {
    "collapsed": true
   },
   "outputs": [],
   "source": [
    "def level3(x):\n",
    "    if ('3' in x) or (' iii' in x):\n",
    "        return 1\n",
    "    else:\n",
    "        return 0\n",
    "    \n",
    "dfsx['jt_level3'] = dfsx['JobTitle'].map(level3)"
   ]
  },
  {
   "cell_type": "code",
   "execution_count": 101,
   "metadata": {
    "collapsed": true
   },
   "outputs": [],
   "source": [
    "def coordinator(x):\n",
    "    if 'coordinator' in x:\n",
    "        return 1\n",
    "    else:\n",
    "        return 0\n",
    "    \n",
    "dfsx['jt_coordinator'] = dfsx['JobTitle'].map(coordinator)"
   ]
  },
  {
   "cell_type": "code",
   "execution_count": 102,
   "metadata": {},
   "outputs": [
    {
     "data": {
      "text/html": [
       "<div>\n",
       "<table border=\"1\" class=\"dataframe\">\n",
       "  <thead>\n",
       "    <tr style=\"text-align: right;\">\n",
       "      <th></th>\n",
       "      <th>JobTitle</th>\n",
       "      <th>Company</th>\n",
       "      <th>Location</th>\n",
       "      <th>Salary</th>\n",
       "      <th>Summary</th>\n",
       "      <th>HighSalary</th>\n",
       "      <th>s_research</th>\n",
       "      <th>s_analytics</th>\n",
       "      <th>s_medical</th>\n",
       "      <th>s_analysis</th>\n",
       "      <th>...</th>\n",
       "      <th>jt_datascientist</th>\n",
       "      <th>jt_analyst</th>\n",
       "      <th>jt_lead</th>\n",
       "      <th>jt_engineer</th>\n",
       "      <th>jt_manager</th>\n",
       "      <th>jt_senior</th>\n",
       "      <th>jt_level1</th>\n",
       "      <th>jt_level2</th>\n",
       "      <th>jt_level3</th>\n",
       "      <th>jt_coordinator</th>\n",
       "    </tr>\n",
       "  </thead>\n",
       "  <tbody>\n",
       "    <tr>\n",
       "      <th>0</th>\n",
       "      <td>biostatistics/bioinformatics research scientist</td>\n",
       "      <td>unc charlotte</td>\n",
       "      <td>charlotte</td>\n",
       "      <td>70000.0</td>\n",
       "      <td>[genetics, genomics, data, analysis, esp, enjo...</td>\n",
       "      <td>0</td>\n",
       "      <td>1</td>\n",
       "      <td>0</td>\n",
       "      <td>0</td>\n",
       "      <td>1</td>\n",
       "      <td>...</td>\n",
       "      <td>0</td>\n",
       "      <td>0</td>\n",
       "      <td>0</td>\n",
       "      <td>0</td>\n",
       "      <td>0</td>\n",
       "      <td>0</td>\n",
       "      <td>0</td>\n",
       "      <td>0</td>\n",
       "      <td>0</td>\n",
       "      <td>0</td>\n",
       "    </tr>\n",
       "    <tr>\n",
       "      <th>1</th>\n",
       "      <td>digital marketing (data scientist)</td>\n",
       "      <td>kennedy unlimited inc, professional staffing</td>\n",
       "      <td>charlotte</td>\n",
       "      <td>115000.0</td>\n",
       "      <td>[responsibilities, of, the, digital, marketing...</td>\n",
       "      <td>0</td>\n",
       "      <td>0</td>\n",
       "      <td>0</td>\n",
       "      <td>0</td>\n",
       "      <td>0</td>\n",
       "      <td>...</td>\n",
       "      <td>1</td>\n",
       "      <td>0</td>\n",
       "      <td>0</td>\n",
       "      <td>0</td>\n",
       "      <td>0</td>\n",
       "      <td>0</td>\n",
       "      <td>0</td>\n",
       "      <td>0</td>\n",
       "      <td>0</td>\n",
       "      <td>0</td>\n",
       "    </tr>\n",
       "    <tr>\n",
       "      <th>2</th>\n",
       "      <td>senior quantitative finance analyst</td>\n",
       "      <td>iits</td>\n",
       "      <td>charlotte</td>\n",
       "      <td>140000.0</td>\n",
       "      <td>[assessing, conceptual, foundations, of, a, mo...</td>\n",
       "      <td>1</td>\n",
       "      <td>0</td>\n",
       "      <td>0</td>\n",
       "      <td>0</td>\n",
       "      <td>0</td>\n",
       "      <td>...</td>\n",
       "      <td>0</td>\n",
       "      <td>1</td>\n",
       "      <td>0</td>\n",
       "      <td>0</td>\n",
       "      <td>0</td>\n",
       "      <td>1</td>\n",
       "      <td>0</td>\n",
       "      <td>0</td>\n",
       "      <td>0</td>\n",
       "      <td>0</td>\n",
       "    </tr>\n",
       "    <tr>\n",
       "      <th>3</th>\n",
       "      <td>svp quantitative analyst - multiple vacancies</td>\n",
       "      <td>selby jennings</td>\n",
       "      <td>charlotte</td>\n",
       "      <td>150000.0</td>\n",
       "      <td>[a, top, tier, investment, bank, is, looking, ...</td>\n",
       "      <td>1</td>\n",
       "      <td>0</td>\n",
       "      <td>1</td>\n",
       "      <td>0</td>\n",
       "      <td>0</td>\n",
       "      <td>...</td>\n",
       "      <td>0</td>\n",
       "      <td>1</td>\n",
       "      <td>0</td>\n",
       "      <td>0</td>\n",
       "      <td>0</td>\n",
       "      <td>0</td>\n",
       "      <td>0</td>\n",
       "      <td>0</td>\n",
       "      <td>0</td>\n",
       "      <td>0</td>\n",
       "    </tr>\n",
       "    <tr>\n",
       "      <th>4</th>\n",
       "      <td>data scientist</td>\n",
       "      <td>oak grove partners</td>\n",
       "      <td>charlotte</td>\n",
       "      <td>130000.0</td>\n",
       "      <td>[data, visualization, tools, facilitate, fast,...</td>\n",
       "      <td>1</td>\n",
       "      <td>0</td>\n",
       "      <td>0</td>\n",
       "      <td>0</td>\n",
       "      <td>0</td>\n",
       "      <td>...</td>\n",
       "      <td>1</td>\n",
       "      <td>0</td>\n",
       "      <td>0</td>\n",
       "      <td>0</td>\n",
       "      <td>0</td>\n",
       "      <td>0</td>\n",
       "      <td>0</td>\n",
       "      <td>0</td>\n",
       "      <td>0</td>\n",
       "      <td>0</td>\n",
       "    </tr>\n",
       "  </tbody>\n",
       "</table>\n",
       "<p>5 rows × 44 columns</p>\n",
       "</div>"
      ],
      "text/plain": [
       "                                          JobTitle  \\\n",
       "0  biostatistics/bioinformatics research scientist   \n",
       "1               digital marketing (data scientist)   \n",
       "2              senior quantitative finance analyst   \n",
       "3    svp quantitative analyst - multiple vacancies   \n",
       "4                                   data scientist   \n",
       "\n",
       "                                        Company   Location    Salary  \\\n",
       "0                                 unc charlotte  charlotte   70000.0   \n",
       "1  kennedy unlimited inc, professional staffing  charlotte  115000.0   \n",
       "2                                          iits  charlotte  140000.0   \n",
       "3                                selby jennings  charlotte  150000.0   \n",
       "4                            oak grove partners  charlotte  130000.0   \n",
       "\n",
       "                                             Summary  HighSalary  s_research  \\\n",
       "0  [genetics, genomics, data, analysis, esp, enjo...           0           1   \n",
       "1  [responsibilities, of, the, digital, marketing...           0           0   \n",
       "2  [assessing, conceptual, foundations, of, a, mo...           1           0   \n",
       "3  [a, top, tier, investment, bank, is, looking, ...           1           0   \n",
       "4  [data, visualization, tools, facilitate, fast,...           1           0   \n",
       "\n",
       "   s_analytics  s_medical  s_analysis       ...        jt_datascientist  \\\n",
       "0            0          0           1       ...                       0   \n",
       "1            0          0           0       ...                       1   \n",
       "2            0          0           0       ...                       0   \n",
       "3            1          0           0       ...                       0   \n",
       "4            0          0           0       ...                       1   \n",
       "\n",
       "   jt_analyst  jt_lead  jt_engineer  jt_manager  jt_senior  jt_level1  \\\n",
       "0           0        0            0           0          0          0   \n",
       "1           0        0            0           0          0          0   \n",
       "2           1        0            0           0          1          0   \n",
       "3           1        0            0           0          0          0   \n",
       "4           0        0            0           0          0          0   \n",
       "\n",
       "   jt_level2  jt_level3  jt_coordinator  \n",
       "0          0          0               0  \n",
       "1          0          0               0  \n",
       "2          0          0               0  \n",
       "3          0          0               0  \n",
       "4          0          0               0  \n",
       "\n",
       "[5 rows x 44 columns]"
      ]
     },
     "execution_count": 102,
     "metadata": {},
     "output_type": "execute_result"
    }
   ],
   "source": [
    "dfsx.head()"
   ]
  },
  {
   "cell_type": "code",
   "execution_count": 103,
   "metadata": {
    "collapsed": true
   },
   "outputs": [],
   "source": [
    "# creating a final dataframe that I will use as the basis of my models\n",
    "dffinal=dfsx.iloc[:,5:]"
   ]
  },
  {
   "cell_type": "code",
   "execution_count": 104,
   "metadata": {},
   "outputs": [
    {
     "data": {
      "text/html": [
       "<div>\n",
       "<table border=\"1\" class=\"dataframe\">\n",
       "  <thead>\n",
       "    <tr style=\"text-align: right;\">\n",
       "      <th></th>\n",
       "      <th>HighSalary</th>\n",
       "      <th>s_research</th>\n",
       "      <th>s_analytics</th>\n",
       "      <th>s_medical</th>\n",
       "      <th>s_analysis</th>\n",
       "      <th>s_experience</th>\n",
       "      <th>L_atlanta</th>\n",
       "      <th>L_austin</th>\n",
       "      <th>L_boston</th>\n",
       "      <th>L_charlotte</th>\n",
       "      <th>...</th>\n",
       "      <th>jt_datascientist</th>\n",
       "      <th>jt_analyst</th>\n",
       "      <th>jt_lead</th>\n",
       "      <th>jt_engineer</th>\n",
       "      <th>jt_manager</th>\n",
       "      <th>jt_senior</th>\n",
       "      <th>jt_level1</th>\n",
       "      <th>jt_level2</th>\n",
       "      <th>jt_level3</th>\n",
       "      <th>jt_coordinator</th>\n",
       "    </tr>\n",
       "  </thead>\n",
       "  <tbody>\n",
       "    <tr>\n",
       "      <th>0</th>\n",
       "      <td>0</td>\n",
       "      <td>1</td>\n",
       "      <td>0</td>\n",
       "      <td>0</td>\n",
       "      <td>1</td>\n",
       "      <td>0</td>\n",
       "      <td>0.0</td>\n",
       "      <td>0.0</td>\n",
       "      <td>0.0</td>\n",
       "      <td>1.0</td>\n",
       "      <td>...</td>\n",
       "      <td>0</td>\n",
       "      <td>0</td>\n",
       "      <td>0</td>\n",
       "      <td>0</td>\n",
       "      <td>0</td>\n",
       "      <td>0</td>\n",
       "      <td>0</td>\n",
       "      <td>0</td>\n",
       "      <td>0</td>\n",
       "      <td>0</td>\n",
       "    </tr>\n",
       "    <tr>\n",
       "      <th>1</th>\n",
       "      <td>0</td>\n",
       "      <td>0</td>\n",
       "      <td>0</td>\n",
       "      <td>0</td>\n",
       "      <td>0</td>\n",
       "      <td>0</td>\n",
       "      <td>0.0</td>\n",
       "      <td>0.0</td>\n",
       "      <td>0.0</td>\n",
       "      <td>1.0</td>\n",
       "      <td>...</td>\n",
       "      <td>1</td>\n",
       "      <td>0</td>\n",
       "      <td>0</td>\n",
       "      <td>0</td>\n",
       "      <td>0</td>\n",
       "      <td>0</td>\n",
       "      <td>0</td>\n",
       "      <td>0</td>\n",
       "      <td>0</td>\n",
       "      <td>0</td>\n",
       "    </tr>\n",
       "    <tr>\n",
       "      <th>2</th>\n",
       "      <td>1</td>\n",
       "      <td>0</td>\n",
       "      <td>0</td>\n",
       "      <td>0</td>\n",
       "      <td>0</td>\n",
       "      <td>0</td>\n",
       "      <td>0.0</td>\n",
       "      <td>0.0</td>\n",
       "      <td>0.0</td>\n",
       "      <td>1.0</td>\n",
       "      <td>...</td>\n",
       "      <td>0</td>\n",
       "      <td>1</td>\n",
       "      <td>0</td>\n",
       "      <td>0</td>\n",
       "      <td>0</td>\n",
       "      <td>1</td>\n",
       "      <td>0</td>\n",
       "      <td>0</td>\n",
       "      <td>0</td>\n",
       "      <td>0</td>\n",
       "    </tr>\n",
       "    <tr>\n",
       "      <th>3</th>\n",
       "      <td>1</td>\n",
       "      <td>0</td>\n",
       "      <td>1</td>\n",
       "      <td>0</td>\n",
       "      <td>0</td>\n",
       "      <td>0</td>\n",
       "      <td>0.0</td>\n",
       "      <td>0.0</td>\n",
       "      <td>0.0</td>\n",
       "      <td>1.0</td>\n",
       "      <td>...</td>\n",
       "      <td>0</td>\n",
       "      <td>1</td>\n",
       "      <td>0</td>\n",
       "      <td>0</td>\n",
       "      <td>0</td>\n",
       "      <td>0</td>\n",
       "      <td>0</td>\n",
       "      <td>0</td>\n",
       "      <td>0</td>\n",
       "      <td>0</td>\n",
       "    </tr>\n",
       "    <tr>\n",
       "      <th>4</th>\n",
       "      <td>1</td>\n",
       "      <td>0</td>\n",
       "      <td>0</td>\n",
       "      <td>0</td>\n",
       "      <td>0</td>\n",
       "      <td>0</td>\n",
       "      <td>0.0</td>\n",
       "      <td>0.0</td>\n",
       "      <td>0.0</td>\n",
       "      <td>1.0</td>\n",
       "      <td>...</td>\n",
       "      <td>1</td>\n",
       "      <td>0</td>\n",
       "      <td>0</td>\n",
       "      <td>0</td>\n",
       "      <td>0</td>\n",
       "      <td>0</td>\n",
       "      <td>0</td>\n",
       "      <td>0</td>\n",
       "      <td>0</td>\n",
       "      <td>0</td>\n",
       "    </tr>\n",
       "  </tbody>\n",
       "</table>\n",
       "<p>5 rows × 39 columns</p>\n",
       "</div>"
      ],
      "text/plain": [
       "   HighSalary  s_research  s_analytics  s_medical  s_analysis  s_experience  \\\n",
       "0           0           1            0          0           1             0   \n",
       "1           0           0            0          0           0             0   \n",
       "2           1           0            0          0           0             0   \n",
       "3           1           0            1          0           0             0   \n",
       "4           1           0            0          0           0             0   \n",
       "\n",
       "   L_atlanta  L_austin  L_boston  L_charlotte       ...        \\\n",
       "0        0.0       0.0       0.0          1.0       ...         \n",
       "1        0.0       0.0       0.0          1.0       ...         \n",
       "2        0.0       0.0       0.0          1.0       ...         \n",
       "3        0.0       0.0       0.0          1.0       ...         \n",
       "4        0.0       0.0       0.0          1.0       ...         \n",
       "\n",
       "   jt_datascientist  jt_analyst  jt_lead  jt_engineer  jt_manager  jt_senior  \\\n",
       "0                 0           0        0            0           0          0   \n",
       "1                 1           0        0            0           0          0   \n",
       "2                 0           1        0            0           0          1   \n",
       "3                 0           1        0            0           0          0   \n",
       "4                 1           0        0            0           0          0   \n",
       "\n",
       "   jt_level1  jt_level2  jt_level3  jt_coordinator  \n",
       "0          0          0          0               0  \n",
       "1          0          0          0               0  \n",
       "2          0          0          0               0  \n",
       "3          0          0          0               0  \n",
       "4          0          0          0               0  \n",
       "\n",
       "[5 rows x 39 columns]"
      ]
     },
     "execution_count": 104,
     "metadata": {},
     "output_type": "execute_result"
    }
   ],
   "source": [
    "dffinal.head()"
   ]
  },
  {
   "cell_type": "markdown",
   "metadata": {},
   "source": [
    "## Logistic Regression:\n",
    "In the following cells I used GridSearchCV to determine the best Logistic Regression and knn classifier parameters, as well as using cross_val_score to check the scores for those models."
   ]
  },
  {
   "cell_type": "code",
   "execution_count": 105,
   "metadata": {},
   "outputs": [
    {
     "name": "stderr",
     "output_type": "stream",
     "text": [
      "/Users/ct/anaconda/lib/python2.7/site-packages/sklearn/cross_validation.py:44: DeprecationWarning: This module was deprecated in version 0.18 in favor of the model_selection module into which all the refactored classes and functions are moved. Also note that the interface of the new CV iterators are different from that of this module. This module will be removed in 0.20.\n",
      "  \"This module will be removed in 0.20.\", DeprecationWarning)\n",
      "/Users/ct/anaconda/lib/python2.7/site-packages/sklearn/grid_search.py:43: DeprecationWarning: This module was deprecated in version 0.18 in favor of the model_selection module into which all the refactored classes and functions are moved. This module will be removed in 0.20.\n",
      "  DeprecationWarning)\n"
     ]
    }
   ],
   "source": [
    "import numpy as np\n",
    "import pandas as pd\n",
    "import patsy\n",
    "\n",
    "from sklearn.metrics import classification_report, confusion_matrix, accuracy_score\n",
    "from sklearn.model_selection import train_test_split, cross_val_score\n",
    "from sklearn.linear_model import LogisticRegression, LogisticRegressionCV\n",
    "from sklearn.grid_search import GridSearchCV"
   ]
  },
  {
   "cell_type": "code",
   "execution_count": 106,
   "metadata": {
    "collapsed": true
   },
   "outputs": [],
   "source": [
    "X=dffinal.iloc[:,1:]\n",
    "y=dffinal.iloc[:,0]"
   ]
  },
  {
   "cell_type": "markdown",
   "metadata": {},
   "source": [
    "### Logistic Regression"
   ]
  },
  {
   "cell_type": "code",
   "execution_count": 107,
   "metadata": {},
   "outputs": [
    {
     "data": {
      "text/plain": [
       "GridSearchCV(cv=5, error_score='raise',\n",
       "       estimator=LogisticRegression(C=1.0, class_weight=None, dual=False, fit_intercept=True,\n",
       "          intercept_scaling=1, max_iter=100, multi_class='ovr', n_jobs=1,\n",
       "          penalty='l2', random_state=None, solver='liblinear', tol=0.0001,\n",
       "          verbose=0, warm_start=False),\n",
       "       fit_params={}, iid=True, n_jobs=1,\n",
       "       param_grid={'penalty': ['l1', 'l2'], 'C': [0.0001, 0.001, 0.01, 0.1, 0.15, 0.25, 0.275, 0.33, 0.5, 0.66, 0.75, 1.0, 2.5, 5.0, 10.0, 100.0, 1000.0]},\n",
       "       pre_dispatch='2*n_jobs', refit=True, scoring=None, verbose=False)"
      ]
     },
     "execution_count": 107,
     "metadata": {},
     "output_type": "execute_result"
    }
   ],
   "source": [
    "logreg = LogisticRegression(solver='liblinear')\n",
    "C_vals = [0.0001, 0.001, 0.01, 0.1, .15, .25, .275, .33, 0.5, .66, 0.75, 1.0, 2.5, 5.0, 10.0, 100.0, 1000.0]\n",
    "penalties = ['l1','l2']\n",
    "\n",
    "gs = GridSearchCV(logreg, {'penalty': penalties, 'C': C_vals},\\\n",
    "                  verbose=False, cv=5)\n",
    "gs.fit(X, y)"
   ]
  },
  {
   "cell_type": "code",
   "execution_count": 108,
   "metadata": {},
   "outputs": [
    {
     "data": {
      "text/plain": [
       "{'C': 0.0001, 'penalty': 'l1'}"
      ]
     },
     "execution_count": 108,
     "metadata": {},
     "output_type": "execute_result"
    }
   ],
   "source": [
    "# getting the best parameters for a logistic regression\n",
    "gs.best_params_"
   ]
  },
  {
   "cell_type": "code",
   "execution_count": 109,
   "metadata": {},
   "outputs": [
    {
     "data": {
      "text/plain": [
       "LogisticRegression(C=0.0001, class_weight=None, dual=False,\n",
       "          fit_intercept=True, intercept_scaling=1, max_iter=100,\n",
       "          multi_class='ovr', n_jobs=1, penalty='l1', random_state=None,\n",
       "          solver='liblinear', tol=0.0001, verbose=0, warm_start=False)"
      ]
     },
     "execution_count": 109,
     "metadata": {},
     "output_type": "execute_result"
    }
   ],
   "source": [
    "gs.best_estimator_"
   ]
  },
  {
   "cell_type": "code",
   "execution_count": 110,
   "metadata": {},
   "outputs": [
    {
     "data": {
      "text/plain": [
       "0.8916666666666667"
      ]
     },
     "execution_count": 110,
     "metadata": {},
     "output_type": "execute_result"
    }
   ],
   "source": [
    "# getting the best score\n",
    "gs.best_score_"
   ]
  },
  {
   "cell_type": "code",
   "execution_count": 111,
   "metadata": {},
   "outputs": [
    {
     "data": {
      "text/plain": [
       "0.89173360833695181"
      ]
     },
     "execution_count": 111,
     "metadata": {},
     "output_type": "execute_result"
    }
   ],
   "source": [
    "# getting the cross val score\n",
    "cross_val_score(gs, X, y, n_jobs=1, cv=5).mean()"
   ]
  },
  {
   "cell_type": "code",
   "execution_count": null,
   "metadata": {
    "collapsed": true
   },
   "outputs": [],
   "source": []
  },
  {
   "cell_type": "code",
   "execution_count": null,
   "metadata": {
    "collapsed": true
   },
   "outputs": [],
   "source": []
  },
  {
   "cell_type": "code",
   "execution_count": null,
   "metadata": {
    "collapsed": true
   },
   "outputs": [],
   "source": []
  },
  {
   "cell_type": "code",
   "execution_count": null,
   "metadata": {
    "collapsed": true
   },
   "outputs": [],
   "source": []
  },
  {
   "cell_type": "code",
   "execution_count": null,
   "metadata": {},
   "outputs": [],
   "source": []
  },
  {
   "cell_type": "markdown",
   "metadata": {},
   "source": [
    "### KNeighborsClassifier"
   ]
  },
  {
   "cell_type": "code",
   "execution_count": 112,
   "metadata": {
    "collapsed": true
   },
   "outputs": [],
   "source": [
    "from sklearn.neighbors import KNeighborsClassifier\n",
    "knn = KNeighborsClassifier()\n",
    "n_neighbors = [1,3,5,7,9,11,13,15,17,19]\n",
    "p = [1,2]"
   ]
  },
  {
   "cell_type": "code",
   "execution_count": 113,
   "metadata": {},
   "outputs": [
    {
     "data": {
      "text/plain": [
       "GridSearchCV(cv=5, error_score='raise',\n",
       "       estimator=KNeighborsClassifier(algorithm='auto', leaf_size=30, metric='minkowski',\n",
       "           metric_params=None, n_jobs=1, n_neighbors=5, p=2,\n",
       "           weights='uniform'),\n",
       "       fit_params={}, iid=True, n_jobs=1,\n",
       "       param_grid={'n_neighbors': [1, 3, 5, 7, 9, 11, 13, 15, 17, 19], 'p': [1, 2]},\n",
       "       pre_dispatch='2*n_jobs', refit=True, scoring=None, verbose=False)"
      ]
     },
     "execution_count": 113,
     "metadata": {},
     "output_type": "execute_result"
    }
   ],
   "source": [
    "gs2 = GridSearchCV(knn, {'n_neighbors': n_neighbors, 'p': p},cv=5, verbose=False)\n",
    "gs2.fit(X,y)"
   ]
  },
  {
   "cell_type": "code",
   "execution_count": 114,
   "metadata": {},
   "outputs": [
    {
     "data": {
      "text/plain": [
       "0.8916666666666667"
      ]
     },
     "execution_count": 114,
     "metadata": {},
     "output_type": "execute_result"
    }
   ],
   "source": [
    "# getting best score\n",
    "gs2.best_score_"
   ]
  },
  {
   "cell_type": "code",
   "execution_count": 115,
   "metadata": {},
   "outputs": [
    {
     "data": {
      "text/plain": [
       "{'n_neighbors': 7, 'p': 1}"
      ]
     },
     "execution_count": 115,
     "metadata": {},
     "output_type": "execute_result"
    }
   ],
   "source": [
    "# getting best parameters for knn\n",
    "gs2.best_params_"
   ]
  },
  {
   "cell_type": "code",
   "execution_count": 116,
   "metadata": {},
   "outputs": [
    {
     "data": {
      "text/plain": [
       "0.89173360833695181"
      ]
     },
     "execution_count": 116,
     "metadata": {},
     "output_type": "execute_result"
    }
   ],
   "source": [
    "# getting the cross validation score\n",
    "cross_val_score(gs2, X, y, n_jobs=1, cv=5).mean()"
   ]
  },
  {
   "cell_type": "code",
   "execution_count": 117,
   "metadata": {},
   "outputs": [
    {
     "data": {
      "image/png": "[encoded data removed]",
      "text/plain": [
       "<matplotlib.figure.Figure at 0x113480fd0>"
      ]
     },
     "metadata": {},
     "output_type": "display_data"
    }
   ],
   "source": [
    "# creating a correlation matrix\n",
    "corr=dffinal.corr()\n",
    "fig, ax = plt.subplots(figsize=(15,15)) \n",
    "sns.heatmap(corr,linewidths=.5, ax=ax);"
   ]
  },
  {
   "cell_type": "markdown",
   "metadata": {},
   "source": [
    "## Insights:\n",
    "From the correlation matrix above, it appears that location is an important factor in determining the salary. Certain cities like New York, San Francisco, and surprisingly Charlotte look to have a correlation to high salaries. Also, whether the position is senior level or not seems to be a factor as well.\n",
    "\n",
    "As I mentioned earlier, the fact that there are not a lot of job postings with salary information makes it more difficult to build a strong model for predicting salary range. Also, considering the large number of features I used for my models, there is a chance that the models could be overfit for the data. In this situation it would be more beneficial if we had more salary data that we could use to fit,test, and cross validate a model on."
   ]
  },
  {
   "cell_type": "code",
   "execution_count": null,
   "metadata": {
    "collapsed": true
   },
   "outputs": [],
   "source": []
  }
 ],
 "metadata": {
  "anaconda-cloud": {},
  "kernelspec": {
   "display_name": "Python 2",
   "language": "python",
   "name": "python2"
  },
  "language_info": {
   "codemirror_mode": {
    "name": "ipython",
    "version": 2
   },
   "file_extension": ".py",
   "mimetype": "text/x-python",
   "name": "python",
   "nbconvert_exporter": "python",
   "pygments_lexer": "ipython2",
   "version": "2.7.13"
  }
 },
 "nbformat": 4,
 "nbformat_minor": 1
}
