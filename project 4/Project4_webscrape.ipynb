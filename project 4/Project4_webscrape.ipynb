{
 "cells": [
  {
   "cell_type": "markdown",
   "metadata": {},
   "source": [
    "# Project 4 - Web Scraping & Logistic Regression\n",
    "\n",
    "## Web Scraping Notebook\n",
    "\n",
    "The following is my code for web scraping indeed.com for data science job postings"
   ]
  },
  {
   "cell_type": "code",
   "execution_count": 1,
   "metadata": {
    "collapsed": true
   },
   "outputs": [],
   "source": [
    "import pandas as pd\n",
    "import requests\n",
    "import bs4\n",
    "from bs4 import BeautifulSoup\n",
    "import re\n",
    "\n",
    "pd.set_option('display.max_rows', None, 'display.max_columns', None)"
   ]
  },
  {
   "cell_type": "code",
   "execution_count": 2,
   "metadata": {
    "collapsed": true
   },
   "outputs": [],
   "source": [
    "# method to get location from each result\n",
    "def extract_location_from_result(result):\n",
    "    try:\n",
    "        return result.find(class_=\"location\").text\n",
    "    except:\n",
    "        return None"
   ]
  },
  {
   "cell_type": "code",
   "execution_count": 3,
   "metadata": {
    "collapsed": true
   },
   "outputs": [],
   "source": [
    "# method to get company from each result\n",
    "def extract_company_from_result(result):\n",
    "    try:\n",
    "        return result.find(class_=\"company\").text\n",
    "    except:\n",
    "        return None"
   ]
  },
  {
   "cell_type": "code",
   "execution_count": 4,
   "metadata": {
    "collapsed": true
   },
   "outputs": [],
   "source": [
    "# method to get job title from each result\n",
    "def extract_job_from_result(result):\n",
    "    return result.find(class_=\"jobtitle\").text"
   ]
  },
  {
   "cell_type": "code",
   "execution_count": 5,
   "metadata": {
    "collapsed": true
   },
   "outputs": [],
   "source": [
    "# method to get salary from each result\n",
    "def extract_salary_from_result(result):\n",
    "    try:\n",
    "        return result.find('td', class_='snip').find('nobr').text\n",
    "    except:\n",
    "        return None"
   ]
  },
  {
   "cell_type": "code",
   "execution_count": 6,
   "metadata": {
    "collapsed": true
   },
   "outputs": [],
   "source": [
    "# method to get summary from each result\n",
    "def extract_summary_from_result(result):\n",
    "    try:\n",
    "        return result.find('span', class_='summary').text\n",
    "    except:\n",
    "        return None"
   ]
  },
  {
   "cell_type": "code",
   "execution_count": 7,
   "metadata": {
    "collapsed": false
   },
   "outputs": [],
   "source": [
    "# scraping code\n",
    "max_results_per_city = 1000\n",
    "\n",
    "results = []\n",
    "\n",
    "for city in set(['New+York', 'Chicago', 'San+Francisco', 'Austin', 'Atlanta','San+Jose','Los+Angeles','Seattle',\n",
    "                 'Boston','Dallas','Salt+Lake+City','Arlington','Minneapolis','San+Diego','Denver','Portland',\n",
    "                 'Orlando','Charlotte','Houston','Philadelphia']):\n",
    "    for start in range(0, max_results_per_city, 10):\n",
    "        \n",
    "        url=\"http://www.indeed.com/jobs?q=data+scientist+%2420%2C000&l=\"+city+\"&start=\"+str(start)\n",
    "        response = requests.get(url)\n",
    "        page=response.content\n",
    "        soup = BeautifulSoup(page, \"lxml\")\n",
    "        soup.prettify()\n",
    "        x=soup.findAll('div', class_='result', id=re.compile(\"p_\"))\n",
    "        \n",
    "        for i in x:\n",
    "            listx=[]\n",
    "            listx.append(extract_job_from_result(i))\n",
    "            listx.append(extract_company_from_result(i))\n",
    "            listx.append(city)\n",
    "            listx.append(extract_salary_from_result(i))\n",
    "            listx.append(extract_summary_from_result(i))\n",
    "            results.append(listx)"
   ]
  },
  {
   "cell_type": "code",
   "execution_count": 8,
   "metadata": {
    "collapsed": false
   },
   "outputs": [
    {
     "data": {
      "text/plain": [
       "(17791, 5)"
      ]
     },
     "execution_count": 8,
     "metadata": {},
     "output_type": "execute_result"
    }
   ],
   "source": [
    "# creating dataframe\n",
    "df = pd.DataFrame(results, columns = ['JobTitle', 'Company', 'Location', 'Salary','Summary'])\n",
    "df.shape"
   ]
  },
  {
   "cell_type": "code",
   "execution_count": 10,
   "metadata": {
    "collapsed": false
   },
   "outputs": [
    {
     "data": {
      "text/html": [
       "<div>\n",
       "<table border=\"1\" class=\"dataframe\">\n",
       "  <thead>\n",
       "    <tr style=\"text-align: right;\">\n",
       "      <th></th>\n",
       "      <th>JobTitle</th>\n",
       "      <th>Company</th>\n",
       "      <th>Location</th>\n",
       "      <th>Salary</th>\n",
       "      <th>Summary</th>\n",
       "    </tr>\n",
       "  </thead>\n",
       "  <tbody>\n",
       "    <tr>\n",
       "      <th>0</th>\n",
       "      <td>\\nSr Data Scientist\\n</td>\n",
       "      <td>\\n\\n\\n        Wells Fargo\\n</td>\n",
       "      <td>Charlotte</td>\n",
       "      <td>None</td>\n",
       "      <td>\\nRight now, we are looking for a tenured data...</td>\n",
       "    </tr>\n",
       "    <tr>\n",
       "      <th>1</th>\n",
       "      <td>\\nResearch Analyst\\n</td>\n",
       "      <td>\\n\\n\\n        Carolinas HealthCare System\\n</td>\n",
       "      <td>Charlotte</td>\n",
       "      <td>None</td>\n",
       "      <td>\\nConducts follow up contacts to collect data ...</td>\n",
       "    </tr>\n",
       "    <tr>\n",
       "      <th>2</th>\n",
       "      <td>\\nBiostatistics/Bioinformatics Research Scient...</td>\n",
       "      <td>\\n\\n\\n        UNC Charlotte\\n</td>\n",
       "      <td>Charlotte</td>\n",
       "      <td>$60,000 - $80,000 a year</td>\n",
       "      <td>\\nGenetics/genomics data analysis (esp. Enjoy ...</td>\n",
       "    </tr>\n",
       "    <tr>\n",
       "      <th>3</th>\n",
       "      <td>\\nDigital Marketing (Data Scientist)\\n</td>\n",
       "      <td>\\n\\n    Kennedy Unlimited Inc, Professional St...</td>\n",
       "      <td>Charlotte</td>\n",
       "      <td>$100,000 - $130,000 a year</td>\n",
       "      <td>\\nResponsibilities of the Digital Marketing (D...</td>\n",
       "    </tr>\n",
       "    <tr>\n",
       "      <th>4</th>\n",
       "      <td>\\nSenior Quantitative Finance Analyst\\n</td>\n",
       "      <td>\\n\\n    iiTS\\n</td>\n",
       "      <td>Charlotte</td>\n",
       "      <td>$140,000 a year</td>\n",
       "      <td>\\nAssessing conceptual foundations of a model,...</td>\n",
       "    </tr>\n",
       "  </tbody>\n",
       "</table>\n",
       "</div>"
      ],
      "text/plain": [
       "                                            JobTitle  \\\n",
       "0                              \\nSr Data Scientist\\n   \n",
       "1                               \\nResearch Analyst\\n   \n",
       "2  \\nBiostatistics/Bioinformatics Research Scient...   \n",
       "3             \\nDigital Marketing (Data Scientist)\\n   \n",
       "4            \\nSenior Quantitative Finance Analyst\\n   \n",
       "\n",
       "                                             Company   Location  \\\n",
       "0                        \\n\\n\\n        Wells Fargo\\n  Charlotte   \n",
       "1        \\n\\n\\n        Carolinas HealthCare System\\n  Charlotte   \n",
       "2                      \\n\\n\\n        UNC Charlotte\\n  Charlotte   \n",
       "3  \\n\\n    Kennedy Unlimited Inc, Professional St...  Charlotte   \n",
       "4                                     \\n\\n    iiTS\\n  Charlotte   \n",
       "\n",
       "                       Salary  \\\n",
       "0                        None   \n",
       "1                        None   \n",
       "2    $60,000 - $80,000 a year   \n",
       "3  $100,000 - $130,000 a year   \n",
       "4             $140,000 a year   \n",
       "\n",
       "                                             Summary  \n",
       "0  \\nRight now, we are looking for a tenured data...  \n",
       "1  \\nConducts follow up contacts to collect data ...  \n",
       "2  \\nGenetics/genomics data analysis (esp. Enjoy ...  \n",
       "3  \\nResponsibilities of the Digital Marketing (D...  \n",
       "4  \\nAssessing conceptual foundations of a model,...  "
      ]
     },
     "execution_count": 10,
     "metadata": {},
     "output_type": "execute_result"
    }
   ],
   "source": [
    "df.head()"
   ]
  },
  {
   "cell_type": "code",
   "execution_count": 11,
   "metadata": {
    "collapsed": true
   },
   "outputs": [],
   "source": [
    "# dropping entries for duplicate job postings\n",
    "df.drop_duplicates(inplace=True)"
   ]
  },
  {
   "cell_type": "code",
   "execution_count": 12,
   "metadata": {
    "collapsed": false
   },
   "outputs": [
    {
     "data": {
      "text/plain": [
       "(3960, 5)"
      ]
     },
     "execution_count": 12,
     "metadata": {},
     "output_type": "execute_result"
    }
   ],
   "source": [
    "df.shape"
   ]
  },
  {
   "cell_type": "code",
   "execution_count": 13,
   "metadata": {
    "collapsed": false
   },
   "outputs": [],
   "source": [
    "# creating csv file for the dataframe that was created from the scrape\n",
    "df.to_csv('project_4_data.csv',encoding='utf-8')"
   ]
  },
  {
   "cell_type": "code",
   "execution_count": null,
   "metadata": {
    "collapsed": true
   },
   "outputs": [],
   "source": []
  }
 ],
 "metadata": {
  "anaconda-cloud": {},
  "kernelspec": {
   "display_name": "Python 2",
   "language": "python",
   "name": "python2"
  },
  "language_info": {
   "codemirror_mode": {
    "name": "ipython",
    "version": 2
   },
   "file_extension": ".py",
   "mimetype": "text/x-python",
   "name": "python",
   "nbconvert_exporter": "python",
   "pygments_lexer": "ipython2",
   "version": "2.7.13"
  }
 },
 "nbformat": 4,
 "nbformat_minor": 1
}
