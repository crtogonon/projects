{
 "cells": [
  {
   "cell_type": "code",
   "execution_count": 1,
   "metadata": {
    "collapsed": true
   },
   "outputs": [],
   "source": [
    "import pandas as pd\n",
    "import requests\n",
    "import bs4\n",
    "from bs4 import BeautifulSoup\n",
    "import re\n",
    "import time\n",
    "from random import randint\n",
    "import numpy as np\n",
    "import seaborn as sns\n",
    "import matplotlib.pyplot as plt\n",
    "from math import isnan\n",
    "plt.style.use('fivethirtyeight')\n",
    "%matplotlib inline\n",
    "\n",
    "pd.set_option('display.max_columns', None)"
   ]
  },
  {
   "cell_type": "markdown",
   "metadata": {
    "collapsed": true
   },
   "source": [
    "# Testing Classification Models"
   ]
  },
  {
   "cell_type": "code",
   "execution_count": 2,
   "metadata": {
    "collapsed": true
   },
   "outputs": [],
   "source": [
    "df=pd.read_csv('/Users/ct/DSI-NYC-4/projects/capstone/part-03/nonulls_2.csv')"
   ]
  },
  {
   "cell_type": "code",
   "execution_count": 3,
   "metadata": {},
   "outputs": [
    {
     "data": {
      "text/html": [
       "<div>\n",
       "<table border=\"1\" class=\"dataframe\">\n",
       "  <thead>\n",
       "    <tr style=\"text-align: right;\">\n",
       "      <th></th>\n",
       "      <th>PER</th>\n",
       "      <th>name</th>\n",
       "      <th>g</th>\n",
       "      <th>mp_per_g</th>\n",
       "      <th>fg_per_g</th>\n",
       "      <th>fga_per_g</th>\n",
       "      <th>fg_pct</th>\n",
       "      <th>ft_per_g</th>\n",
       "      <th>fta_per_g</th>\n",
       "      <th>ft_pct</th>\n",
       "      <th>trb_per_g</th>\n",
       "      <th>ast_per_g</th>\n",
       "      <th>stl_per_g</th>\n",
       "      <th>blk_per_g</th>\n",
       "      <th>tov_per_g</th>\n",
       "      <th>pf_per_g</th>\n",
       "      <th>pts_per_g</th>\n",
       "      <th>height</th>\n",
       "      <th>weight</th>\n",
       "      <th>Forward</th>\n",
       "      <th>Guard</th>\n",
       "      <th>UNC</th>\n",
       "      <th>Kentucky</th>\n",
       "      <th>UCLA</th>\n",
       "      <th>Duke</th>\n",
       "      <th>Arizona</th>\n",
       "      <th>Kansas</th>\n",
       "      <th>UConn</th>\n",
       "      <th>Michigan</th>\n",
       "      <th>Georgia Tech</th>\n",
       "      <th>Michigan State</th>\n",
       "      <th>Alabama</th>\n",
       "      <th>Georgetown</th>\n",
       "      <th>Syracuse</th>\n",
       "      <th>Arkansas</th>\n",
       "      <th>Memphis</th>\n",
       "      <th>Louisville</th>\n",
       "      <th>Indiana</th>\n",
       "      <th>LSU</th>\n",
       "      <th>Notre Dame</th>\n",
       "      <th>Ohio State</th>\n",
       "    </tr>\n",
       "  </thead>\n",
       "  <tbody>\n",
       "    <tr>\n",
       "      <th>0</th>\n",
       "      <td>27.9</td>\n",
       "      <td>Michael Jordan</td>\n",
       "      <td>101</td>\n",
       "      <td>29.599117</td>\n",
       "      <td>7.1</td>\n",
       "      <td>13.2</td>\n",
       "      <td>0.540</td>\n",
       "      <td>3.1</td>\n",
       "      <td>4.2</td>\n",
       "      <td>0.748</td>\n",
       "      <td>5.0</td>\n",
       "      <td>1.8</td>\n",
       "      <td>1.7</td>\n",
       "      <td>0.7</td>\n",
       "      <td>2.0</td>\n",
       "      <td>2.7</td>\n",
       "      <td>17.7</td>\n",
       "      <td>78</td>\n",
       "      <td>195.0</td>\n",
       "      <td>0</td>\n",
       "      <td>1</td>\n",
       "      <td>1</td>\n",
       "      <td>0</td>\n",
       "      <td>0</td>\n",
       "      <td>0</td>\n",
       "      <td>0</td>\n",
       "      <td>0</td>\n",
       "      <td>0</td>\n",
       "      <td>0</td>\n",
       "      <td>0</td>\n",
       "      <td>0</td>\n",
       "      <td>0</td>\n",
       "      <td>0</td>\n",
       "      <td>0</td>\n",
       "      <td>0</td>\n",
       "      <td>0</td>\n",
       "      <td>0</td>\n",
       "      <td>0</td>\n",
       "      <td>0</td>\n",
       "      <td>0</td>\n",
       "      <td>0</td>\n",
       "    </tr>\n",
       "    <tr>\n",
       "      <th>1</th>\n",
       "      <td>26.6</td>\n",
       "      <td>Anthony Davis</td>\n",
       "      <td>40</td>\n",
       "      <td>32.000000</td>\n",
       "      <td>5.3</td>\n",
       "      <td>8.4</td>\n",
       "      <td>0.623</td>\n",
       "      <td>3.6</td>\n",
       "      <td>5.1</td>\n",
       "      <td>0.709</td>\n",
       "      <td>10.4</td>\n",
       "      <td>1.3</td>\n",
       "      <td>1.4</td>\n",
       "      <td>4.7</td>\n",
       "      <td>1.0</td>\n",
       "      <td>2.0</td>\n",
       "      <td>14.2</td>\n",
       "      <td>82</td>\n",
       "      <td>220.0</td>\n",
       "      <td>1</td>\n",
       "      <td>0</td>\n",
       "      <td>0</td>\n",
       "      <td>1</td>\n",
       "      <td>0</td>\n",
       "      <td>0</td>\n",
       "      <td>0</td>\n",
       "      <td>0</td>\n",
       "      <td>0</td>\n",
       "      <td>0</td>\n",
       "      <td>0</td>\n",
       "      <td>0</td>\n",
       "      <td>0</td>\n",
       "      <td>0</td>\n",
       "      <td>0</td>\n",
       "      <td>0</td>\n",
       "      <td>0</td>\n",
       "      <td>0</td>\n",
       "      <td>0</td>\n",
       "      <td>0</td>\n",
       "      <td>0</td>\n",
       "      <td>0</td>\n",
       "    </tr>\n",
       "    <tr>\n",
       "      <th>2</th>\n",
       "      <td>26.4</td>\n",
       "      <td>Shaquille O'Neal</td>\n",
       "      <td>90</td>\n",
       "      <td>30.500000</td>\n",
       "      <td>8.7</td>\n",
       "      <td>14.3</td>\n",
       "      <td>0.610</td>\n",
       "      <td>4.1</td>\n",
       "      <td>7.1</td>\n",
       "      <td>0.575</td>\n",
       "      <td>13.5</td>\n",
       "      <td>1.7</td>\n",
       "      <td>1.2</td>\n",
       "      <td>4.6</td>\n",
       "      <td>3.3</td>\n",
       "      <td>3.2</td>\n",
       "      <td>21.6</td>\n",
       "      <td>85</td>\n",
       "      <td>325.0</td>\n",
       "      <td>0</td>\n",
       "      <td>0</td>\n",
       "      <td>0</td>\n",
       "      <td>0</td>\n",
       "      <td>0</td>\n",
       "      <td>0</td>\n",
       "      <td>0</td>\n",
       "      <td>0</td>\n",
       "      <td>0</td>\n",
       "      <td>0</td>\n",
       "      <td>0</td>\n",
       "      <td>0</td>\n",
       "      <td>0</td>\n",
       "      <td>0</td>\n",
       "      <td>0</td>\n",
       "      <td>0</td>\n",
       "      <td>0</td>\n",
       "      <td>0</td>\n",
       "      <td>0</td>\n",
       "      <td>1</td>\n",
       "      <td>0</td>\n",
       "      <td>0</td>\n",
       "    </tr>\n",
       "    <tr>\n",
       "      <th>3</th>\n",
       "      <td>26.2</td>\n",
       "      <td>David Robinson</td>\n",
       "      <td>127</td>\n",
       "      <td>29.500000</td>\n",
       "      <td>8.1</td>\n",
       "      <td>13.3</td>\n",
       "      <td>0.613</td>\n",
       "      <td>4.8</td>\n",
       "      <td>7.6</td>\n",
       "      <td>0.627</td>\n",
       "      <td>10.3</td>\n",
       "      <td>0.7</td>\n",
       "      <td>1.2</td>\n",
       "      <td>4.1</td>\n",
       "      <td>2.1</td>\n",
       "      <td>2.8</td>\n",
       "      <td>21.0</td>\n",
       "      <td>85</td>\n",
       "      <td>235.0</td>\n",
       "      <td>0</td>\n",
       "      <td>0</td>\n",
       "      <td>0</td>\n",
       "      <td>0</td>\n",
       "      <td>0</td>\n",
       "      <td>0</td>\n",
       "      <td>0</td>\n",
       "      <td>0</td>\n",
       "      <td>0</td>\n",
       "      <td>0</td>\n",
       "      <td>0</td>\n",
       "      <td>0</td>\n",
       "      <td>0</td>\n",
       "      <td>0</td>\n",
       "      <td>0</td>\n",
       "      <td>0</td>\n",
       "      <td>0</td>\n",
       "      <td>0</td>\n",
       "      <td>0</td>\n",
       "      <td>0</td>\n",
       "      <td>0</td>\n",
       "      <td>0</td>\n",
       "    </tr>\n",
       "    <tr>\n",
       "      <th>4</th>\n",
       "      <td>25.7</td>\n",
       "      <td>Chris Paul</td>\n",
       "      <td>63</td>\n",
       "      <td>33.500000</td>\n",
       "      <td>4.4</td>\n",
       "      <td>9.3</td>\n",
       "      <td>0.472</td>\n",
       "      <td>4.9</td>\n",
       "      <td>5.8</td>\n",
       "      <td>0.838</td>\n",
       "      <td>3.9</td>\n",
       "      <td>6.3</td>\n",
       "      <td>2.5</td>\n",
       "      <td>0.2</td>\n",
       "      <td>2.5</td>\n",
       "      <td>2.5</td>\n",
       "      <td>15.0</td>\n",
       "      <td>72</td>\n",
       "      <td>175.0</td>\n",
       "      <td>0</td>\n",
       "      <td>1</td>\n",
       "      <td>0</td>\n",
       "      <td>0</td>\n",
       "      <td>0</td>\n",
       "      <td>0</td>\n",
       "      <td>0</td>\n",
       "      <td>0</td>\n",
       "      <td>0</td>\n",
       "      <td>0</td>\n",
       "      <td>0</td>\n",
       "      <td>0</td>\n",
       "      <td>0</td>\n",
       "      <td>0</td>\n",
       "      <td>0</td>\n",
       "      <td>0</td>\n",
       "      <td>0</td>\n",
       "      <td>0</td>\n",
       "      <td>0</td>\n",
       "      <td>0</td>\n",
       "      <td>0</td>\n",
       "      <td>0</td>\n",
       "    </tr>\n",
       "  </tbody>\n",
       "</table>\n",
       "</div>"
      ],
      "text/plain": [
       "    PER              name    g   mp_per_g  fg_per_g  fga_per_g  fg_pct  \\\n",
       "0  27.9    Michael Jordan  101  29.599117       7.1       13.2   0.540   \n",
       "1  26.6     Anthony Davis   40  32.000000       5.3        8.4   0.623   \n",
       "2  26.4  Shaquille O'Neal   90  30.500000       8.7       14.3   0.610   \n",
       "3  26.2    David Robinson  127  29.500000       8.1       13.3   0.613   \n",
       "4  25.7        Chris Paul   63  33.500000       4.4        9.3   0.472   \n",
       "\n",
       "   ft_per_g  fta_per_g  ft_pct  trb_per_g  ast_per_g  stl_per_g  blk_per_g  \\\n",
       "0       3.1        4.2   0.748        5.0        1.8        1.7        0.7   \n",
       "1       3.6        5.1   0.709       10.4        1.3        1.4        4.7   \n",
       "2       4.1        7.1   0.575       13.5        1.7        1.2        4.6   \n",
       "3       4.8        7.6   0.627       10.3        0.7        1.2        4.1   \n",
       "4       4.9        5.8   0.838        3.9        6.3        2.5        0.2   \n",
       "\n",
       "   tov_per_g  pf_per_g  pts_per_g  height  weight  Forward  Guard  UNC  \\\n",
       "0        2.0       2.7       17.7      78   195.0        0      1    1   \n",
       "1        1.0       2.0       14.2      82   220.0        1      0    0   \n",
       "2        3.3       3.2       21.6      85   325.0        0      0    0   \n",
       "3        2.1       2.8       21.0      85   235.0        0      0    0   \n",
       "4        2.5       2.5       15.0      72   175.0        0      1    0   \n",
       "\n",
       "   Kentucky  UCLA  Duke  Arizona  Kansas  UConn  Michigan  Georgia Tech  \\\n",
       "0         0     0     0        0       0      0         0             0   \n",
       "1         1     0     0        0       0      0         0             0   \n",
       "2         0     0     0        0       0      0         0             0   \n",
       "3         0     0     0        0       0      0         0             0   \n",
       "4         0     0     0        0       0      0         0             0   \n",
       "\n",
       "   Michigan State  Alabama  Georgetown  Syracuse  Arkansas  Memphis  \\\n",
       "0               0        0           0         0         0        0   \n",
       "1               0        0           0         0         0        0   \n",
       "2               0        0           0         0         0        0   \n",
       "3               0        0           0         0         0        0   \n",
       "4               0        0           0         0         0        0   \n",
       "\n",
       "   Louisville  Indiana  LSU  Notre Dame  Ohio State  \n",
       "0           0        0    0           0           0  \n",
       "1           0        0    0           0           0  \n",
       "2           0        0    1           0           0  \n",
       "3           0        0    0           0           0  \n",
       "4           0        0    0           0           0  "
      ]
     },
     "execution_count": 3,
     "metadata": {},
     "output_type": "execute_result"
    }
   ],
   "source": [
    "df.head()"
   ]
  },
  {
   "cell_type": "code",
   "execution_count": 24,
   "metadata": {
    "collapsed": true
   },
   "outputs": [],
   "source": [
    "# function that returns classifications\n",
    "\n",
    "def grader(x):\n",
    "    if x>17:\n",
    "        return 'good'\n",
    "    elif x<=17 and x>=12:\n",
    "        return 'average'\n",
    "    elif x<12:\n",
    "        return 'bad'\n",
    "    "
   ]
  },
  {
   "cell_type": "code",
   "execution_count": 25,
   "metadata": {
    "collapsed": true
   },
   "outputs": [],
   "source": [
    "# creating new target variable based on PER\n",
    "\n",
    "df['grade']=df['PER'].apply(lambda x: grader(x))"
   ]
  },
  {
   "cell_type": "code",
   "execution_count": 26,
   "metadata": {},
   "outputs": [
    {
     "data": {
      "text/plain": [
       "average    709\n",
       "bad        466\n",
       "good       129\n",
       "Name: grade, dtype: int64"
      ]
     },
     "execution_count": 26,
     "metadata": {},
     "output_type": "execute_result"
    }
   ],
   "source": [
    "# checking class distribution\n",
    "df['grade'].value_counts()"
   ]
  },
  {
   "cell_type": "code",
   "execution_count": 28,
   "metadata": {},
   "outputs": [
    {
     "data": {
      "text/html": [
       "<div>\n",
       "<table border=\"1\" class=\"dataframe\">\n",
       "  <thead>\n",
       "    <tr style=\"text-align: right;\">\n",
       "      <th></th>\n",
       "      <th>g</th>\n",
       "      <th>mp_per_g</th>\n",
       "      <th>fg_per_g</th>\n",
       "      <th>fga_per_g</th>\n",
       "      <th>fg_pct</th>\n",
       "      <th>ft_per_g</th>\n",
       "      <th>fta_per_g</th>\n",
       "      <th>ft_pct</th>\n",
       "      <th>trb_per_g</th>\n",
       "      <th>ast_per_g</th>\n",
       "      <th>stl_per_g</th>\n",
       "      <th>blk_per_g</th>\n",
       "      <th>tov_per_g</th>\n",
       "      <th>pf_per_g</th>\n",
       "      <th>pts_per_g</th>\n",
       "      <th>height</th>\n",
       "      <th>weight</th>\n",
       "      <th>Forward</th>\n",
       "      <th>Guard</th>\n",
       "      <th>UNC</th>\n",
       "      <th>Kentucky</th>\n",
       "      <th>UCLA</th>\n",
       "      <th>Duke</th>\n",
       "      <th>Arizona</th>\n",
       "      <th>Kansas</th>\n",
       "      <th>UConn</th>\n",
       "      <th>Michigan</th>\n",
       "      <th>Georgia Tech</th>\n",
       "      <th>Michigan State</th>\n",
       "      <th>Alabama</th>\n",
       "      <th>Georgetown</th>\n",
       "      <th>Syracuse</th>\n",
       "      <th>Arkansas</th>\n",
       "      <th>Memphis</th>\n",
       "      <th>Louisville</th>\n",
       "      <th>Indiana</th>\n",
       "      <th>LSU</th>\n",
       "      <th>Notre Dame</th>\n",
       "      <th>Ohio State</th>\n",
       "    </tr>\n",
       "  </thead>\n",
       "  <tbody>\n",
       "    <tr>\n",
       "      <th>0</th>\n",
       "      <td>101</td>\n",
       "      <td>29.599117</td>\n",
       "      <td>7.1</td>\n",
       "      <td>13.2</td>\n",
       "      <td>0.540</td>\n",
       "      <td>3.1</td>\n",
       "      <td>4.2</td>\n",
       "      <td>0.748</td>\n",
       "      <td>5.0</td>\n",
       "      <td>1.8</td>\n",
       "      <td>1.7</td>\n",
       "      <td>0.7</td>\n",
       "      <td>2.0</td>\n",
       "      <td>2.7</td>\n",
       "      <td>17.7</td>\n",
       "      <td>78</td>\n",
       "      <td>195.0</td>\n",
       "      <td>0</td>\n",
       "      <td>1</td>\n",
       "      <td>1</td>\n",
       "      <td>0</td>\n",
       "      <td>0</td>\n",
       "      <td>0</td>\n",
       "      <td>0</td>\n",
       "      <td>0</td>\n",
       "      <td>0</td>\n",
       "      <td>0</td>\n",
       "      <td>0</td>\n",
       "      <td>0</td>\n",
       "      <td>0</td>\n",
       "      <td>0</td>\n",
       "      <td>0</td>\n",
       "      <td>0</td>\n",
       "      <td>0</td>\n",
       "      <td>0</td>\n",
       "      <td>0</td>\n",
       "      <td>0</td>\n",
       "      <td>0</td>\n",
       "      <td>0</td>\n",
       "    </tr>\n",
       "    <tr>\n",
       "      <th>1</th>\n",
       "      <td>40</td>\n",
       "      <td>32.000000</td>\n",
       "      <td>5.3</td>\n",
       "      <td>8.4</td>\n",
       "      <td>0.623</td>\n",
       "      <td>3.6</td>\n",
       "      <td>5.1</td>\n",
       "      <td>0.709</td>\n",
       "      <td>10.4</td>\n",
       "      <td>1.3</td>\n",
       "      <td>1.4</td>\n",
       "      <td>4.7</td>\n",
       "      <td>1.0</td>\n",
       "      <td>2.0</td>\n",
       "      <td>14.2</td>\n",
       "      <td>82</td>\n",
       "      <td>220.0</td>\n",
       "      <td>1</td>\n",
       "      <td>0</td>\n",
       "      <td>0</td>\n",
       "      <td>1</td>\n",
       "      <td>0</td>\n",
       "      <td>0</td>\n",
       "      <td>0</td>\n",
       "      <td>0</td>\n",
       "      <td>0</td>\n",
       "      <td>0</td>\n",
       "      <td>0</td>\n",
       "      <td>0</td>\n",
       "      <td>0</td>\n",
       "      <td>0</td>\n",
       "      <td>0</td>\n",
       "      <td>0</td>\n",
       "      <td>0</td>\n",
       "      <td>0</td>\n",
       "      <td>0</td>\n",
       "      <td>0</td>\n",
       "      <td>0</td>\n",
       "      <td>0</td>\n",
       "    </tr>\n",
       "    <tr>\n",
       "      <th>2</th>\n",
       "      <td>90</td>\n",
       "      <td>30.500000</td>\n",
       "      <td>8.7</td>\n",
       "      <td>14.3</td>\n",
       "      <td>0.610</td>\n",
       "      <td>4.1</td>\n",
       "      <td>7.1</td>\n",
       "      <td>0.575</td>\n",
       "      <td>13.5</td>\n",
       "      <td>1.7</td>\n",
       "      <td>1.2</td>\n",
       "      <td>4.6</td>\n",
       "      <td>3.3</td>\n",
       "      <td>3.2</td>\n",
       "      <td>21.6</td>\n",
       "      <td>85</td>\n",
       "      <td>325.0</td>\n",
       "      <td>0</td>\n",
       "      <td>0</td>\n",
       "      <td>0</td>\n",
       "      <td>0</td>\n",
       "      <td>0</td>\n",
       "      <td>0</td>\n",
       "      <td>0</td>\n",
       "      <td>0</td>\n",
       "      <td>0</td>\n",
       "      <td>0</td>\n",
       "      <td>0</td>\n",
       "      <td>0</td>\n",
       "      <td>0</td>\n",
       "      <td>0</td>\n",
       "      <td>0</td>\n",
       "      <td>0</td>\n",
       "      <td>0</td>\n",
       "      <td>0</td>\n",
       "      <td>0</td>\n",
       "      <td>1</td>\n",
       "      <td>0</td>\n",
       "      <td>0</td>\n",
       "    </tr>\n",
       "    <tr>\n",
       "      <th>3</th>\n",
       "      <td>127</td>\n",
       "      <td>29.500000</td>\n",
       "      <td>8.1</td>\n",
       "      <td>13.3</td>\n",
       "      <td>0.613</td>\n",
       "      <td>4.8</td>\n",
       "      <td>7.6</td>\n",
       "      <td>0.627</td>\n",
       "      <td>10.3</td>\n",
       "      <td>0.7</td>\n",
       "      <td>1.2</td>\n",
       "      <td>4.1</td>\n",
       "      <td>2.1</td>\n",
       "      <td>2.8</td>\n",
       "      <td>21.0</td>\n",
       "      <td>85</td>\n",
       "      <td>235.0</td>\n",
       "      <td>0</td>\n",
       "      <td>0</td>\n",
       "      <td>0</td>\n",
       "      <td>0</td>\n",
       "      <td>0</td>\n",
       "      <td>0</td>\n",
       "      <td>0</td>\n",
       "      <td>0</td>\n",
       "      <td>0</td>\n",
       "      <td>0</td>\n",
       "      <td>0</td>\n",
       "      <td>0</td>\n",
       "      <td>0</td>\n",
       "      <td>0</td>\n",
       "      <td>0</td>\n",
       "      <td>0</td>\n",
       "      <td>0</td>\n",
       "      <td>0</td>\n",
       "      <td>0</td>\n",
       "      <td>0</td>\n",
       "      <td>0</td>\n",
       "      <td>0</td>\n",
       "    </tr>\n",
       "    <tr>\n",
       "      <th>4</th>\n",
       "      <td>63</td>\n",
       "      <td>33.500000</td>\n",
       "      <td>4.4</td>\n",
       "      <td>9.3</td>\n",
       "      <td>0.472</td>\n",
       "      <td>4.9</td>\n",
       "      <td>5.8</td>\n",
       "      <td>0.838</td>\n",
       "      <td>3.9</td>\n",
       "      <td>6.3</td>\n",
       "      <td>2.5</td>\n",
       "      <td>0.2</td>\n",
       "      <td>2.5</td>\n",
       "      <td>2.5</td>\n",
       "      <td>15.0</td>\n",
       "      <td>72</td>\n",
       "      <td>175.0</td>\n",
       "      <td>0</td>\n",
       "      <td>1</td>\n",
       "      <td>0</td>\n",
       "      <td>0</td>\n",
       "      <td>0</td>\n",
       "      <td>0</td>\n",
       "      <td>0</td>\n",
       "      <td>0</td>\n",
       "      <td>0</td>\n",
       "      <td>0</td>\n",
       "      <td>0</td>\n",
       "      <td>0</td>\n",
       "      <td>0</td>\n",
       "      <td>0</td>\n",
       "      <td>0</td>\n",
       "      <td>0</td>\n",
       "      <td>0</td>\n",
       "      <td>0</td>\n",
       "      <td>0</td>\n",
       "      <td>0</td>\n",
       "      <td>0</td>\n",
       "      <td>0</td>\n",
       "    </tr>\n",
       "  </tbody>\n",
       "</table>\n",
       "</div>"
      ],
      "text/plain": [
       "     g   mp_per_g  fg_per_g  fga_per_g  fg_pct  ft_per_g  fta_per_g  ft_pct  \\\n",
       "0  101  29.599117       7.1       13.2   0.540       3.1        4.2   0.748   \n",
       "1   40  32.000000       5.3        8.4   0.623       3.6        5.1   0.709   \n",
       "2   90  30.500000       8.7       14.3   0.610       4.1        7.1   0.575   \n",
       "3  127  29.500000       8.1       13.3   0.613       4.8        7.6   0.627   \n",
       "4   63  33.500000       4.4        9.3   0.472       4.9        5.8   0.838   \n",
       "\n",
       "   trb_per_g  ast_per_g  stl_per_g  blk_per_g  tov_per_g  pf_per_g  pts_per_g  \\\n",
       "0        5.0        1.8        1.7        0.7        2.0       2.7       17.7   \n",
       "1       10.4        1.3        1.4        4.7        1.0       2.0       14.2   \n",
       "2       13.5        1.7        1.2        4.6        3.3       3.2       21.6   \n",
       "3       10.3        0.7        1.2        4.1        2.1       2.8       21.0   \n",
       "4        3.9        6.3        2.5        0.2        2.5       2.5       15.0   \n",
       "\n",
       "   height  weight  Forward  Guard  UNC  Kentucky  UCLA  Duke  Arizona  Kansas  \\\n",
       "0      78   195.0        0      1    1         0     0     0        0       0   \n",
       "1      82   220.0        1      0    0         1     0     0        0       0   \n",
       "2      85   325.0        0      0    0         0     0     0        0       0   \n",
       "3      85   235.0        0      0    0         0     0     0        0       0   \n",
       "4      72   175.0        0      1    0         0     0     0        0       0   \n",
       "\n",
       "   UConn  Michigan  Georgia Tech  Michigan State  Alabama  Georgetown  \\\n",
       "0      0         0             0               0        0           0   \n",
       "1      0         0             0               0        0           0   \n",
       "2      0         0             0               0        0           0   \n",
       "3      0         0             0               0        0           0   \n",
       "4      0         0             0               0        0           0   \n",
       "\n",
       "   Syracuse  Arkansas  Memphis  Louisville  Indiana  LSU  Notre Dame  \\\n",
       "0         0         0        0           0        0    0           0   \n",
       "1         0         0        0           0        0    0           0   \n",
       "2         0         0        0           0        0    1           0   \n",
       "3         0         0        0           0        0    0           0   \n",
       "4         0         0        0           0        0    0           0   \n",
       "\n",
       "   Ohio State  \n",
       "0           0  \n",
       "1           0  \n",
       "2           0  \n",
       "3           0  \n",
       "4           0  "
      ]
     },
     "execution_count": 28,
     "metadata": {},
     "output_type": "execute_result"
    }
   ],
   "source": [
    "# creating the X set\n",
    "X=df.iloc[:,2:-1]\n",
    "X.head()"
   ]
  },
  {
   "cell_type": "code",
   "execution_count": 30,
   "metadata": {},
   "outputs": [
    {
     "data": {
      "text/plain": [
       "0    good\n",
       "1    good\n",
       "2    good\n",
       "3    good\n",
       "4    good\n",
       "Name: grade, dtype: object"
      ]
     },
     "execution_count": 30,
     "metadata": {},
     "output_type": "execute_result"
    }
   ],
   "source": [
    "# creating the y set\n",
    "y=df.iloc[:,-1]\n",
    "y.head()"
   ]
  },
  {
   "cell_type": "code",
   "execution_count": 42,
   "metadata": {
    "collapsed": true
   },
   "outputs": [],
   "source": [
    "from sklearn.preprocessing import StandardScaler\n",
    "from sklearn.linear_model import LinearRegression, Ridge\n",
    "from sklearn.model_selection import cross_val_score\n",
    "from sklearn.ensemble import RandomForestClassifier, GradientBoostingClassifier\n",
    "\n",
    "# scaling the X set\n",
    "X_scaler = StandardScaler()\n",
    "X_scaled = X_scaler.fit_transform(X)"
   ]
  },
  {
   "cell_type": "markdown",
   "metadata": {},
   "source": [
    "# Random Forest Classifier"
   ]
  },
  {
   "cell_type": "code",
   "execution_count": 32,
   "metadata": {},
   "outputs": [
    {
     "data": {
      "text/plain": [
       "RandomForestClassifier(bootstrap=True, class_weight=None, criterion='gini',\n",
       "            max_depth=None, max_features='auto', max_leaf_nodes=None,\n",
       "            min_impurity_split=1e-07, min_samples_leaf=1,\n",
       "            min_samples_split=2, min_weight_fraction_leaf=0.0,\n",
       "            n_estimators=10, n_jobs=1, oob_score=False, random_state=None,\n",
       "            verbose=0, warm_start=False)"
      ]
     },
     "execution_count": 32,
     "metadata": {},
     "output_type": "execute_result"
    }
   ],
   "source": [
    "# creating and fitting model\n",
    "rf=RandomForestClassifier()\n",
    "rf.fit(X_scaled,y)"
   ]
  },
  {
   "cell_type": "code",
   "execution_count": 62,
   "metadata": {},
   "outputs": [
    {
     "data": {
      "text/plain": [
       "0.54974085505804382"
      ]
     },
     "execution_count": 62,
     "metadata": {},
     "output_type": "execute_result"
    }
   ],
   "source": [
    "# checking cross val score\n",
    "cross_val_score(rf,X_scaled,y,cv=5).mean()"
   ]
  },
  {
   "cell_type": "code",
   "execution_count": 36,
   "metadata": {},
   "outputs": [
    {
     "data": {
      "text/plain": [
       "array([ 0.06147777,  0.05084131,  0.05931235,  0.05686265,  0.07939929,\n",
       "        0.05518279,  0.04983282,  0.0585766 ,  0.06578196,  0.04633245,\n",
       "        0.05651412,  0.03821554,  0.07778885,  0.05174666,  0.05251376,\n",
       "        0.03794858,  0.05035236,  0.00744498,  0.00574312,  0.00388894,\n",
       "        0.00172872,  0.00361168,  0.00299005,  0.00191594,  0.00241538,\n",
       "        0.00143595,  0.00281829,  0.00199165,  0.00257866,  0.00052759,\n",
       "        0.00092831,  0.00120187,  0.00106215,  0.00329122,  0.00042125,\n",
       "        0.00186635,  0.00073195,  0.00101519,  0.00171091])"
      ]
     },
     "execution_count": 36,
     "metadata": {},
     "output_type": "execute_result"
    }
   ],
   "source": [
    "# checking feature importances\n",
    "rf.feature_importances_"
   ]
  },
  {
   "cell_type": "markdown",
   "metadata": {},
   "source": [
    "# Gradient Boost"
   ]
  },
  {
   "cell_type": "code",
   "execution_count": 63,
   "metadata": {},
   "outputs": [
    {
     "data": {
      "text/plain": [
       "GradientBoostingClassifier(criterion='friedman_mse', init=None,\n",
       "              learning_rate=0.1, loss='deviance', max_depth=3,\n",
       "              max_features=None, max_leaf_nodes=None,\n",
       "              min_impurity_split=1e-07, min_samples_leaf=1,\n",
       "              min_samples_split=2, min_weight_fraction_leaf=0.0,\n",
       "              n_estimators=100, presort='auto', random_state=None,\n",
       "              subsample=1.0, verbose=0, warm_start=False)"
      ]
     },
     "execution_count": 63,
     "metadata": {},
     "output_type": "execute_result"
    }
   ],
   "source": [
    "# creating and fitting\n",
    "gb=GradientBoostingClassifier()\n",
    "gb.fit(X_scaled,y)"
   ]
  },
  {
   "cell_type": "code",
   "execution_count": 85,
   "metadata": {},
   "outputs": [
    {
     "data": {
      "text/plain": [
       "0.57893682423821935"
      ]
     },
     "execution_count": 85,
     "metadata": {},
     "output_type": "execute_result"
    }
   ],
   "source": [
    "# check score\n",
    "cross_val_score(gb,X_scaled,y,cv=5).mean()"
   ]
  },
  {
   "cell_type": "code",
   "execution_count": 64,
   "metadata": {},
   "outputs": [
    {
     "data": {
      "text/plain": [
       "array([  6.87916450e-02,   5.80446616e-02,   4.08649444e-02,\n",
       "         3.58490711e-02,   1.20935192e-01,   2.70095008e-02,\n",
       "         3.54844764e-02,   7.94890681e-02,   5.08447889e-02,\n",
       "         5.94664029e-02,   8.32280150e-02,   5.39006748e-02,\n",
       "         4.23632188e-02,   5.45564585e-02,   4.76720709e-02,\n",
       "         3.09147885e-02,   6.48261511e-02,   2.26610714e-03,\n",
       "         0.00000000e+00,   9.00056120e-03,   0.00000000e+00,\n",
       "         4.71301836e-03,   1.65251716e-03,   0.00000000e+00,\n",
       "         3.15976777e-04,   1.27914477e-03,   9.59980790e-03,\n",
       "         0.00000000e+00,   3.87077978e-03,   5.31242657e-04,\n",
       "         3.93431413e-04,   1.66935581e-03,   6.03002147e-04,\n",
       "         3.01498339e-03,   1.48318432e-03,   7.00685761e-04,\n",
       "         4.16405333e-03,   2.02580605e-05,   4.80761021e-04])"
      ]
     },
     "execution_count": 64,
     "metadata": {},
     "output_type": "execute_result"
    }
   ],
   "source": [
    "# feature importances\n",
    "gb.feature_importances_"
   ]
  },
  {
   "cell_type": "markdown",
   "metadata": {},
   "source": [
    "# Tuning Gradient Boost"
   ]
  },
  {
   "cell_type": "code",
   "execution_count": 72,
   "metadata": {},
   "outputs": [
    {
     "data": {
      "text/plain": [
       "0.59739263803680986"
      ]
     },
     "execution_count": 72,
     "metadata": {},
     "output_type": "execute_result"
    }
   ],
   "source": [
    "from sklearn.model_selection import GridSearchCV\n",
    "\n",
    "# setting parameters for gridsearch\n",
    "parameters = {'n_estimators':[200],\n",
    "              'max_depth':[3,4,5],\n",
    "              'min_samples_split':[2,4,6],\n",
    "              'min_samples_leaf':[1,2,3],\n",
    "              'max_features':[0.25,0.5,0.75,None,'sqrt','log2']}\n",
    "\n",
    "# running gridsearch and finding best score\n",
    "gb_g = GridSearchCV(gb, parameters, cv=5)\n",
    "gb_g.fit(X_scaled, y)\n",
    "gb_g.best_score_"
   ]
  },
  {
   "cell_type": "code",
   "execution_count": 73,
   "metadata": {},
   "outputs": [
    {
     "data": {
      "text/plain": [
       "{'max_depth': 3,\n",
       " 'max_features': 'log2',\n",
       " 'min_samples_leaf': 2,\n",
       " 'min_samples_split': 4,\n",
       " 'n_estimators': 200}"
      ]
     },
     "execution_count": 73,
     "metadata": {},
     "output_type": "execute_result"
    }
   ],
   "source": [
    "gb_g.best_params_"
   ]
  },
  {
   "cell_type": "code",
   "execution_count": 74,
   "metadata": {},
   "outputs": [
    {
     "data": {
      "text/plain": [
       "GradientBoostingClassifier(criterion='friedman_mse', init=None,\n",
       "              learning_rate=0.1, loss='deviance', max_depth=3,\n",
       "              max_features='log2', max_leaf_nodes=None,\n",
       "              min_impurity_split=1e-07, min_samples_leaf=2,\n",
       "              min_samples_split=4, min_weight_fraction_leaf=0.0,\n",
       "              n_estimators=200, presort='auto', random_state=None,\n",
       "              subsample=1.0, verbose=0, warm_start=False)"
      ]
     },
     "execution_count": 74,
     "metadata": {},
     "output_type": "execute_result"
    }
   ],
   "source": [
    "# fitting new tuned model\n",
    "gb2=GradientBoostingClassifier(max_features='log2', min_samples_leaf=2, min_samples_split=4,n_estimators=200)\n",
    "gb2.fit(X_scaled,y)"
   ]
  },
  {
   "cell_type": "code",
   "execution_count": 86,
   "metadata": {},
   "outputs": [
    {
     "data": {
      "text/plain": [
       "0.59120055640192515"
      ]
     },
     "execution_count": 86,
     "metadata": {},
     "output_type": "execute_result"
    }
   ],
   "source": [
    "# getting cross val score for tuned model\n",
    "cross_val_score(gb2,X_scaled,y,cv=5).mean()"
   ]
  },
  {
   "cell_type": "markdown",
   "metadata": {},
   "source": [
    "# I decided to see what happens if I threw it in a Bagging Classifier"
   ]
  },
  {
   "cell_type": "code",
   "execution_count": 90,
   "metadata": {},
   "outputs": [
    {
     "data": {
      "text/plain": [
       "0.5965881423107009"
      ]
     },
     "execution_count": 90,
     "metadata": {},
     "output_type": "execute_result"
    }
   ],
   "source": [
    "from sklearn.ensemble import BaggingClassifier\n",
    "\n",
    "# using a bagging classifier on tuned model\n",
    "b2 = BaggingClassifier(gb2)\n",
    "cross_val_score(b2, X_scaled, y, cv=5, n_jobs=1).mean()"
   ]
  },
  {
   "cell_type": "markdown",
   "metadata": {},
   "source": [
    "# Linear SVC"
   ]
  },
  {
   "cell_type": "code",
   "execution_count": 45,
   "metadata": {},
   "outputs": [
    {
     "data": {
      "text/plain": [
       "LinearSVC(C=1.0, class_weight=None, dual=True, fit_intercept=True,\n",
       "     intercept_scaling=1, loss='squared_hinge', max_iter=1000,\n",
       "     multi_class='ovr', penalty='l2', random_state=None, tol=0.0001,\n",
       "     verbose=0)"
      ]
     },
     "execution_count": 45,
     "metadata": {},
     "output_type": "execute_result"
    }
   ],
   "source": [
    "from sklearn.svm import LinearSVC\n",
    "\n",
    "svc=LinearSVC()\n",
    "svc.fit(X_scaled,y)"
   ]
  },
  {
   "cell_type": "code",
   "execution_count": 50,
   "metadata": {},
   "outputs": [
    {
     "data": {
      "text/plain": [
       "0.57664715443078174"
      ]
     },
     "execution_count": 50,
     "metadata": {},
     "output_type": "execute_result"
    }
   ],
   "source": [
    "cross_val_score(svc,X_scaled,y,cv=5).mean()"
   ]
  },
  {
   "cell_type": "markdown",
   "metadata": {},
   "source": [
    "# K Neighbors Classifier"
   ]
  },
  {
   "cell_type": "code",
   "execution_count": 51,
   "metadata": {},
   "outputs": [
    {
     "data": {
      "text/plain": [
       "KNeighborsClassifier(algorithm='auto', leaf_size=30, metric='minkowski',\n",
       "           metric_params=None, n_jobs=1, n_neighbors=5, p=2,\n",
       "           weights='uniform')"
      ]
     },
     "execution_count": 51,
     "metadata": {},
     "output_type": "execute_result"
    }
   ],
   "source": [
    "from sklearn.neighbors import KNeighborsClassifier\n",
    "\n",
    "knn=KNeighborsClassifier()\n",
    "knn.fit(X_scaled,y)"
   ]
  },
  {
   "cell_type": "code",
   "execution_count": 54,
   "metadata": {},
   "outputs": [
    {
     "data": {
      "text/plain": [
       "0.55670548900346217"
      ]
     },
     "execution_count": 54,
     "metadata": {},
     "output_type": "execute_result"
    }
   ],
   "source": [
    "cross_val_score(knn,X_scaled,y,cv=5).mean()"
   ]
  },
  {
   "cell_type": "markdown",
   "metadata": {},
   "source": [
    "# SVC"
   ]
  },
  {
   "cell_type": "code",
   "execution_count": 55,
   "metadata": {},
   "outputs": [
    {
     "data": {
      "text/plain": [
       "SVC(C=1.0, cache_size=200, class_weight=None, coef0=0.0,\n",
       "  decision_function_shape=None, degree=3, gamma='auto', kernel='rbf',\n",
       "  max_iter=-1, probability=False, random_state=None, shrinking=True,\n",
       "  tol=0.001, verbose=False)"
      ]
     },
     "execution_count": 55,
     "metadata": {},
     "output_type": "execute_result"
    }
   ],
   "source": [
    "from sklearn.svm import SVC\n",
    "\n",
    "svc=SVC()\n",
    "svc.fit(X_scaled,y)"
   ]
  },
  {
   "cell_type": "code",
   "execution_count": 60,
   "metadata": {},
   "outputs": [
    {
     "data": {
      "text/plain": [
       "0.56819708814970737"
      ]
     },
     "execution_count": 60,
     "metadata": {},
     "output_type": "execute_result"
    }
   ],
   "source": [
    "cross_val_score(svc,X_scaled,y,cv=5).mean()"
   ]
  },
  {
   "cell_type": "code",
   "execution_count": null,
   "metadata": {
    "collapsed": true
   },
   "outputs": [],
   "source": []
  }
 ],
 "metadata": {
  "kernelspec": {
   "display_name": "Python 2",
   "language": "python",
   "name": "python2"
  },
  "language_info": {
   "codemirror_mode": {
    "name": "ipython",
    "version": 2
   },
   "file_extension": ".py",
   "mimetype": "text/x-python",
   "name": "python",
   "nbconvert_exporter": "python",
   "pygments_lexer": "ipython2",
   "version": "2.7.13"
  }
 },
 "nbformat": 4,
 "nbformat_minor": 2
}
